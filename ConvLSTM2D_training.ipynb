{
 "cells": [
  {
   "cell_type": "code",
   "execution_count": 16,
   "metadata": {},
   "outputs": [],
   "source": [
    "import numpy as np\n",
    "import glob\n",
    "import pandas as pd\n",
    "import ast\n",
    "import matplotlib.pyplot as plt\n",
    "from sklearn.model_selection import train_test_split\n",
    "\n",
    "import tensorflow as tf\n",
    "from tensorflow.keras.layers import Conv2D, MaxPooling2D, Flatten, Dense, LSTM, ConvLSTM2D, TimeDistributed, BatchNormalization, Input, Dropout, Activation, Reshape, MaxPooling3D\n",
    "from tensorflow.keras.optimizers import Adam"
   ]
  },
  {
   "cell_type": "code",
   "execution_count": 2,
   "metadata": {},
   "outputs": [],
   "source": [
    "# Read data\n",
    "import pickle\n",
    "features = pickle.load(open(\"/home/mids-w251-fa2020-fp/feat2.txt\", \"rb\"))\n",
    "labels = pickle.load(open(\"/home/mids-w251-fa2020-fp/labels2.txt\", \"rb\"))"
   ]
  },
  {
   "cell_type": "code",
   "execution_count": 3,
   "metadata": {},
   "outputs": [
    {
     "name": "stdout",
     "output_type": "stream",
     "text": [
      "(259, 440, 9, 2, 1)\n"
     ]
    }
   ],
   "source": [
    "X = np.array(features)\n",
    "X = X.swapaxes(2,3)\n",
    "X = X[...,np.newaxis]\n",
    "print(X.shape)"
   ]
  },
  {
   "cell_type": "code",
   "execution_count": 4,
   "metadata": {},
   "outputs": [
    {
     "name": "stdout",
     "output_type": "stream",
     "text": [
      "(259,)\n"
     ]
    }
   ],
   "source": [
    "Y = np.array(labels)\n",
    "print(Y.shape)"
   ]
  },
  {
   "cell_type": "code",
   "execution_count": 5,
   "metadata": {},
   "outputs": [],
   "source": [
    "X_train, X_test, Y_train, Y_test = train_test_split(X, Y, test_size=0.15, random_state=24601)"
   ]
  },
  {
   "cell_type": "code",
   "execution_count": 6,
   "metadata": {},
   "outputs": [
    {
     "data": {
      "text/plain": [
       "125.71428571428571"
      ]
     },
     "execution_count": 6,
     "metadata": {},
     "output_type": "execute_result"
    }
   ],
   "source": [
    "440/15*60/14"
   ]
  },
  {
   "cell_type": "code",
   "execution_count": 7,
   "metadata": {},
   "outputs": [
    {
     "data": {
      "text/plain": [
       "1584000"
      ]
     },
     "execution_count": 7,
     "metadata": {},
     "output_type": "execute_result"
    }
   ],
   "source": [
    "440 * 9 * 2 * 200"
   ]
  },
  {
   "cell_type": "code",
   "execution_count": 28,
   "metadata": {},
   "outputs": [],
   "source": [
    "from tensorflow.keras.layers import Conv1D, LeakyReLU, Convolution2D\n",
    "\n",
    "seq = tf.keras.Sequential()\n",
    "seq.add(ConvLSTM2D(filters=10, kernel_size=(3, 1),\n",
    "                   input_shape=(440, 9, 2, 1),\n",
    "                   data_format='channels_last',\n",
    "                   padding='same', return_sequences=True))\n",
    "seq.add(BatchNormalization())\n",
    "seq.add(MaxPooling3D(pool_size=(1,3,1)))\n",
    "seq.add(ConvLSTM2D(filters=10, kernel_size=(3, 1),\n",
    "                   data_format='channels_last',\n",
    "                   padding='valid', return_sequences=True))\n",
    "seq.add(BatchNormalization())\n",
    "seq.add(MaxPooling3D(pool_size=(1,1,2)))\n",
    "seq.add(Reshape((440, 10)))\n",
    "seq.add(Conv1D(3, kernel_size=3, strides=1,))\n",
    "seq.add(LeakyReLU(alpha=0.03))\n",
    "seq.add(Flatten())\n",
    "seq.add(Dense(128))\n",
    "seq.add(LeakyReLU(alpha=0.03))\n",
    "seq.add(Dropout(0.1))\n",
    "seq.add(Dense(1))"
   ]
  },
  {
   "cell_type": "code",
   "execution_count": 29,
   "metadata": {},
   "outputs": [
    {
     "name": "stdout",
     "output_type": "stream",
     "text": [
      "Model: \"sequential_8\"\n",
      "_________________________________________________________________\n",
      "Layer (type)                 Output Shape              Param #   \n",
      "=================================================================\n",
      "conv_lst_m2d_10 (ConvLSTM2D) (None, 440, 9, 2, 10)     1360      \n",
      "_________________________________________________________________\n",
      "batch_normalization_10 (Batc (None, 440, 9, 2, 10)     40        \n",
      "_________________________________________________________________\n",
      "max_pooling3d_9 (MaxPooling3 (None, 440, 3, 2, 10)     0         \n",
      "_________________________________________________________________\n",
      "conv_lst_m2d_11 (ConvLSTM2D) (None, 440, 1, 2, 10)     2440      \n",
      "_________________________________________________________________\n",
      "batch_normalization_11 (Batc (None, 440, 1, 2, 10)     40        \n",
      "_________________________________________________________________\n",
      "max_pooling3d_10 (MaxPooling (None, 440, 1, 1, 10)     0         \n",
      "_________________________________________________________________\n",
      "reshape_6 (Reshape)          (None, 440, 10)           0         \n",
      "_________________________________________________________________\n",
      "conv1d_1 (Conv1D)            (None, 438, 3)            93        \n",
      "_________________________________________________________________\n",
      "leaky_re_lu_3 (LeakyReLU)    (None, 438, 3)            0         \n",
      "_________________________________________________________________\n",
      "flatten_2 (Flatten)          (None, 1314)              0         \n",
      "_________________________________________________________________\n",
      "dense_4 (Dense)              (None, 128)               168320    \n",
      "_________________________________________________________________\n",
      "leaky_re_lu_4 (LeakyReLU)    (None, 128)               0         \n",
      "_________________________________________________________________\n",
      "dropout_2 (Dropout)          (None, 128)               0         \n",
      "_________________________________________________________________\n",
      "dense_5 (Dense)              (None, 1)                 129       \n",
      "=================================================================\n",
      "Total params: 172,422\n",
      "Trainable params: 172,382\n",
      "Non-trainable params: 40\n",
      "_________________________________________________________________\n"
     ]
    }
   ],
   "source": [
    "seq.summary()\n",
    "seq.compile(loss=\"mse\", optimizer=Adam(lr=0.001, decay=1e-6), metrics=[\"mse\", \"mae\"])"
   ]
  },
  {
   "cell_type": "code",
   "execution_count": 30,
   "metadata": {},
   "outputs": [
    {
     "name": "stdout",
     "output_type": "stream",
     "text": [
      "Train on 220 samples\n",
      "Epoch 1/100\n",
      "220/220 [==============================] - 64s 289ms/sample - loss: 290.0811 - mean_squared_error: 290.0811 - mean_absolute_error: 14.0189\n",
      "Epoch 2/100\n",
      "220/220 [==============================] - 59s 270ms/sample - loss: 144.0072 - mean_squared_error: 144.0072 - mean_absolute_error: 9.8012\n",
      "Epoch 3/100\n",
      "220/220 [==============================] - 59s 267ms/sample - loss: 109.8643 - mean_squared_error: 109.8643 - mean_absolute_error: 9.1976\n",
      "Epoch 4/100\n",
      "220/220 [==============================] - 60s 272ms/sample - loss: 98.2304 - mean_squared_error: 98.2304 - mean_absolute_error: 8.7327\n",
      "Epoch 5/100\n",
      "220/220 [==============================] - 58s 262ms/sample - loss: 97.9131 - mean_squared_error: 97.9131 - mean_absolute_error: 8.5074\n",
      "Epoch 6/100\n",
      "220/220 [==============================] - 58s 265ms/sample - loss: 91.4613 - mean_squared_error: 91.4613 - mean_absolute_error: 8.5104\n",
      "Epoch 7/100\n",
      "220/220 [==============================] - 62s 283ms/sample - loss: 93.9342 - mean_squared_error: 93.9342 - mean_absolute_error: 8.5496\n",
      "Epoch 8/100\n",
      "220/220 [==============================] - 60s 273ms/sample - loss: 96.5520 - mean_squared_error: 96.5520 - mean_absolute_error: 8.4175\n",
      "Epoch 9/100\n",
      "220/220 [==============================] - 59s 270ms/sample - loss: 85.9138 - mean_squared_error: 85.9137 - mean_absolute_error: 7.9668\n",
      "Epoch 10/100\n",
      "220/220 [==============================] - 60s 274ms/sample - loss: 90.5601 - mean_squared_error: 90.5601 - mean_absolute_error: 8.2311\n",
      "Epoch 11/100\n",
      "220/220 [==============================] - 57s 261ms/sample - loss: 89.1294 - mean_squared_error: 89.1294 - mean_absolute_error: 8.0757\n",
      "Epoch 12/100\n",
      "220/220 [==============================] - 55s 251ms/sample - loss: 84.8467 - mean_squared_error: 84.8467 - mean_absolute_error: 7.9534\n",
      "Epoch 13/100\n",
      "220/220 [==============================] - 57s 257ms/sample - loss: 88.4558 - mean_squared_error: 88.4558 - mean_absolute_error: 8.1186\n",
      "Epoch 14/100\n",
      "220/220 [==============================] - 57s 259ms/sample - loss: 85.6507 - mean_squared_error: 85.6507 - mean_absolute_error: 7.9215\n",
      "Epoch 15/100\n",
      "220/220 [==============================] - 55s 251ms/sample - loss: 86.8039 - mean_squared_error: 86.8039 - mean_absolute_error: 7.9138\n",
      "Epoch 16/100\n",
      "220/220 [==============================] - 55s 250ms/sample - loss: 90.5602 - mean_squared_error: 90.5602 - mean_absolute_error: 8.1842\n",
      "Epoch 17/100\n",
      "220/220 [==============================] - 55s 251ms/sample - loss: 87.0735 - mean_squared_error: 87.0735 - mean_absolute_error: 7.8563\n",
      "Epoch 18/100\n",
      "220/220 [==============================] - 55s 250ms/sample - loss: 85.0614 - mean_squared_error: 85.0614 - mean_absolute_error: 7.7837\n",
      "Epoch 19/100\n",
      "220/220 [==============================] - 56s 255ms/sample - loss: 84.8041 - mean_squared_error: 84.8041 - mean_absolute_error: 7.6194\n",
      "Epoch 20/100\n",
      "220/220 [==============================] - 59s 268ms/sample - loss: 91.1355 - mean_squared_error: 91.1355 - mean_absolute_error: 7.9991\n",
      "Epoch 21/100\n",
      "220/220 [==============================] - 63s 287ms/sample - loss: 85.8909 - mean_squared_error: 85.8909 - mean_absolute_error: 7.7521\n",
      "Epoch 22/100\n",
      "220/220 [==============================] - 59s 270ms/sample - loss: 90.2373 - mean_squared_error: 90.2373 - mean_absolute_error: 7.8566\n",
      "Epoch 23/100\n",
      "220/220 [==============================] - 57s 258ms/sample - loss: 84.1319 - mean_squared_error: 84.1319 - mean_absolute_error: 7.7935\n",
      "Epoch 24/100\n",
      "220/220 [==============================] - 59s 267ms/sample - loss: 84.6575 - mean_squared_error: 84.6575 - mean_absolute_error: 7.6731\n",
      "Epoch 25/100\n",
      "220/220 [==============================] - 59s 268ms/sample - loss: 91.1204 - mean_squared_error: 91.1204 - mean_absolute_error: 8.0092\n",
      "Epoch 26/100\n",
      "220/220 [==============================] - 59s 269ms/sample - loss: 85.8939 - mean_squared_error: 85.8939 - mean_absolute_error: 7.8265\n",
      "Epoch 27/100\n",
      "220/220 [==============================] - 56s 257ms/sample - loss: 85.4641 - mean_squared_error: 85.4641 - mean_absolute_error: 7.7103\n",
      "Epoch 28/100\n",
      "220/220 [==============================] - 59s 269ms/sample - loss: 87.6789 - mean_squared_error: 87.6789 - mean_absolute_error: 7.7627\n",
      "Epoch 29/100\n",
      "220/220 [==============================] - 60s 275ms/sample - loss: 80.8484 - mean_squared_error: 80.8484 - mean_absolute_error: 7.4004\n",
      "Epoch 30/100\n",
      "220/220 [==============================] - 66s 302ms/sample - loss: 82.2191 - mean_squared_error: 82.2191 - mean_absolute_error: 7.4479\n",
      "Epoch 31/100\n",
      "220/220 [==============================] - 69s 316ms/sample - loss: 84.3509 - mean_squared_error: 84.3509 - mean_absolute_error: 7.6596\n",
      "Epoch 32/100\n",
      "220/220 [==============================] - 68s 311ms/sample - loss: 83.7398 - mean_squared_error: 83.7398 - mean_absolute_error: 7.6423\n",
      "Epoch 33/100\n",
      "220/220 [==============================] - 68s 309ms/sample - loss: 83.4945 - mean_squared_error: 83.4945 - mean_absolute_error: 7.6327\n",
      "Epoch 34/100\n",
      "220/220 [==============================] - 62s 280ms/sample - loss: 86.4446 - mean_squared_error: 86.4446 - mean_absolute_error: 7.7365\n",
      "Epoch 35/100\n",
      "220/220 [==============================] - 59s 267ms/sample - loss: 85.2231 - mean_squared_error: 85.2231 - mean_absolute_error: 7.5983\n",
      "Epoch 36/100\n",
      "220/220 [==============================] - 58s 264ms/sample - loss: 80.2428 - mean_squared_error: 80.2428 - mean_absolute_error: 7.4805\n",
      "Epoch 37/100\n",
      "220/220 [==============================] - 63s 286ms/sample - loss: 80.9190 - mean_squared_error: 80.9190 - mean_absolute_error: 7.4310\n",
      "Epoch 38/100\n",
      "220/220 [==============================] - 63s 287ms/sample - loss: 79.3425 - mean_squared_error: 79.3425 - mean_absolute_error: 7.2007\n",
      "Epoch 39/100\n",
      "220/220 [==============================] - 64s 291ms/sample - loss: 80.4993 - mean_squared_error: 80.4993 - mean_absolute_error: 7.4460\n",
      "Epoch 40/100\n",
      "220/220 [==============================] - 64s 290ms/sample - loss: 80.2448 - mean_squared_error: 80.2448 - mean_absolute_error: 7.2848\n",
      "Epoch 41/100\n",
      "220/220 [==============================] - 68s 307ms/sample - loss: 82.1525 - mean_squared_error: 82.1525 - mean_absolute_error: 7.4899\n",
      "Epoch 42/100\n",
      "220/220 [==============================] - 61s 278ms/sample - loss: 88.7765 - mean_squared_error: 88.7765 - mean_absolute_error: 7.8249\n",
      "Epoch 43/100\n",
      "220/220 [==============================] - 59s 268ms/sample - loss: 79.3945 - mean_squared_error: 79.3945 - mean_absolute_error: 7.4064\n",
      "Epoch 44/100\n",
      "220/220 [==============================] - 58s 264ms/sample - loss: 80.3410 - mean_squared_error: 80.3410 - mean_absolute_error: 7.3566\n",
      "Epoch 45/100\n",
      "220/220 [==============================] - 57s 260ms/sample - loss: 76.6594 - mean_squared_error: 76.6594 - mean_absolute_error: 7.2165\n",
      "Epoch 46/100\n",
      "220/220 [==============================] - 58s 263ms/sample - loss: 82.8629 - mean_squared_error: 82.8629 - mean_absolute_error: 7.3864\n",
      "Epoch 47/100\n",
      "220/220 [==============================] - 58s 261ms/sample - loss: 79.3567 - mean_squared_error: 79.3567 - mean_absolute_error: 7.2897\n",
      "Epoch 48/100\n",
      "220/220 [==============================] - 57s 260ms/sample - loss: 86.6077 - mean_squared_error: 86.6077 - mean_absolute_error: 7.4571\n",
      "Epoch 49/100\n",
      "220/220 [==============================] - 58s 262ms/sample - loss: 77.3886 - mean_squared_error: 77.3886 - mean_absolute_error: 7.2282\n",
      "Epoch 50/100\n",
      "220/220 [==============================] - 60s 275ms/sample - loss: 74.9897 - mean_squared_error: 74.9897 - mean_absolute_error: 7.0635\n",
      "Epoch 51/100\n",
      "220/220 [==============================] - 58s 264ms/sample - loss: 84.7110 - mean_squared_error: 84.7110 - mean_absolute_error: 7.5119\n",
      "Epoch 52/100\n",
      "220/220 [==============================] - 59s 268ms/sample - loss: 78.7139 - mean_squared_error: 78.7139 - mean_absolute_error: 7.3290\n",
      "Epoch 53/100\n",
      "220/220 [==============================] - 58s 265ms/sample - loss: 76.8436 - mean_squared_error: 76.8436 - mean_absolute_error: 7.0842\n",
      "Epoch 54/100\n",
      "220/220 [==============================] - 61s 276ms/sample - loss: 74.6186 - mean_squared_error: 74.6186 - mean_absolute_error: 7.0168\n",
      "Epoch 55/100\n",
      "220/220 [==============================] - 60s 272ms/sample - loss: 73.0614 - mean_squared_error: 73.0614 - mean_absolute_error: 6.8075\n",
      "Epoch 56/100\n",
      "220/220 [==============================] - 57s 261ms/sample - loss: 72.2895 - mean_squared_error: 72.2895 - mean_absolute_error: 6.6295\n",
      "Epoch 57/100\n",
      "220/220 [==============================] - 59s 270ms/sample - loss: 72.5912 - mean_squared_error: 72.5912 - mean_absolute_error: 6.6365\n",
      "Epoch 58/100\n",
      "220/220 [==============================] - 58s 265ms/sample - loss: 76.4852 - mean_squared_error: 76.4852 - mean_absolute_error: 6.8450\n",
      "Epoch 59/100\n",
      "220/220 [==============================] - 58s 262ms/sample - loss: 73.6503 - mean_squared_error: 73.6503 - mean_absolute_error: 6.7101\n",
      "Epoch 60/100\n",
      "220/220 [==============================] - 58s 262ms/sample - loss: 74.2142 - mean_squared_error: 74.2142 - mean_absolute_error: 6.8125\n",
      "Epoch 61/100\n",
      "220/220 [==============================] - 57s 261ms/sample - loss: 76.1041 - mean_squared_error: 76.1041 - mean_absolute_error: 6.7924\n",
      "Epoch 62/100\n",
      "220/220 [==============================] - 58s 262ms/sample - loss: 83.5694 - mean_squared_error: 83.5694 - mean_absolute_error: 7.4688\n",
      "Epoch 63/100\n",
      "220/220 [==============================] - 57s 261ms/sample - loss: 72.7617 - mean_squared_error: 72.7617 - mean_absolute_error: 7.0664\n",
      "Epoch 64/100\n",
      "220/220 [==============================] - 58s 261ms/sample - loss: 72.2134 - mean_squared_error: 72.2134 - mean_absolute_error: 6.9162\n",
      "Epoch 65/100\n",
      "220/220 [==============================] - 59s 266ms/sample - loss: 71.2530 - mean_squared_error: 71.2530 - mean_absolute_error: 6.6951\n",
      "Epoch 66/100\n",
      "220/220 [==============================] - 59s 267ms/sample - loss: 75.8789 - mean_squared_error: 75.8789 - mean_absolute_error: 6.9127\n",
      "Epoch 67/100\n",
      "220/220 [==============================] - 57s 261ms/sample - loss: 79.8041 - mean_squared_error: 79.8041 - mean_absolute_error: 6.9606\n",
      "Epoch 68/100\n",
      "220/220 [==============================] - 59s 266ms/sample - loss: 78.3667 - mean_squared_error: 78.3667 - mean_absolute_error: 7.0935\n",
      "Epoch 69/100\n",
      "220/220 [==============================] - 59s 267ms/sample - loss: 81.4649 - mean_squared_error: 81.4649 - mean_absolute_error: 7.3923\n",
      "Epoch 70/100\n",
      "220/220 [==============================] - 59s 266ms/sample - loss: 78.6452 - mean_squared_error: 78.6452 - mean_absolute_error: 7.5290\n",
      "Epoch 71/100\n",
      "220/220 [==============================] - 59s 268ms/sample - loss: 76.7869 - mean_squared_error: 76.7869 - mean_absolute_error: 7.1061\n",
      "Epoch 72/100\n",
      "220/220 [==============================] - 58s 263ms/sample - loss: 75.7579 - mean_squared_error: 75.7579 - mean_absolute_error: 7.1041\n",
      "Epoch 73/100\n",
      "220/220 [==============================] - 59s 266ms/sample - loss: 72.4442 - mean_squared_error: 72.4442 - mean_absolute_error: 7.0109\n",
      "Epoch 74/100\n",
      "220/220 [==============================] - 57s 261ms/sample - loss: 67.2934 - mean_squared_error: 67.2934 - mean_absolute_error: 6.5380\n",
      "Epoch 75/100\n",
      "220/220 [==============================] - 60s 275ms/sample - loss: 68.0738 - mean_squared_error: 68.0738 - mean_absolute_error: 6.4658\n",
      "Epoch 76/100\n",
      "220/220 [==============================] - 59s 267ms/sample - loss: 70.8938 - mean_squared_error: 70.8938 - mean_absolute_error: 6.5955\n",
      "Epoch 77/100\n",
      "220/220 [==============================] - 58s 265ms/sample - loss: 73.7330 - mean_squared_error: 73.7330 - mean_absolute_error: 6.7296\n",
      "Epoch 78/100\n",
      "220/220 [==============================] - 58s 262ms/sample - loss: 71.5548 - mean_squared_error: 71.5548 - mean_absolute_error: 6.7672\n",
      "Epoch 79/100\n",
      "220/220 [==============================] - 61s 276ms/sample - loss: 77.1246 - mean_squared_error: 77.1246 - mean_absolute_error: 7.1063\n",
      "Epoch 80/100\n",
      "220/220 [==============================] - 58s 261ms/sample - loss: 74.0762 - mean_squared_error: 74.0762 - mean_absolute_error: 6.9459\n",
      "Epoch 81/100\n",
      "220/220 [==============================] - 58s 263ms/sample - loss: 70.5611 - mean_squared_error: 70.5611 - mean_absolute_error: 6.8235\n",
      "Epoch 82/100\n",
      "220/220 [==============================] - 65s 295ms/sample - loss: 74.8690 - mean_squared_error: 74.8690 - mean_absolute_error: 7.2181\n",
      "Epoch 83/100\n",
      "220/220 [==============================] - 61s 279ms/sample - loss: 67.8480 - mean_squared_error: 67.8480 - mean_absolute_error: 6.6441\n",
      "Epoch 84/100\n",
      "220/220 [==============================] - 57s 260ms/sample - loss: 68.4409 - mean_squared_error: 68.4409 - mean_absolute_error: 6.4641\n",
      "Epoch 85/100\n",
      "220/220 [==============================] - 57s 260ms/sample - loss: 68.9392 - mean_squared_error: 68.9392 - mean_absolute_error: 6.6794\n",
      "Epoch 86/100\n",
      "220/220 [==============================] - 57s 260ms/sample - loss: 66.3459 - mean_squared_error: 66.3459 - mean_absolute_error: 6.3594\n",
      "Epoch 87/100\n",
      "220/220 [==============================] - 58s 264ms/sample - loss: 77.6238 - mean_squared_error: 77.6238 - mean_absolute_error: 6.9586\n",
      "Epoch 88/100\n",
      "220/220 [==============================] - 58s 264ms/sample - loss: 66.5414 - mean_squared_error: 66.5415 - mean_absolute_error: 6.4576\n",
      "Epoch 89/100\n",
      "220/220 [==============================] - 58s 263ms/sample - loss: 76.2786 - mean_squared_error: 76.2786 - mean_absolute_error: 6.9385\n",
      "Epoch 90/100\n",
      "220/220 [==============================] - 59s 266ms/sample - loss: 74.3326 - mean_squared_error: 74.3326 - mean_absolute_error: 6.7019\n",
      "Epoch 91/100\n",
      "220/220 [==============================] - 58s 264ms/sample - loss: 72.8709 - mean_squared_error: 72.8709 - mean_absolute_error: 6.8714\n",
      "Epoch 92/100\n",
      "220/220 [==============================] - 58s 263ms/sample - loss: 69.7934 - mean_squared_error: 69.7934 - mean_absolute_error: 6.7551\n",
      "Epoch 93/100\n",
      "220/220 [==============================] - 58s 265ms/sample - loss: 74.9542 - mean_squared_error: 74.9542 - mean_absolute_error: 6.8134\n",
      "Epoch 94/100\n",
      "220/220 [==============================] - 58s 263ms/sample - loss: 71.1474 - mean_squared_error: 71.1474 - mean_absolute_error: 6.6065\n",
      "Epoch 95/100\n",
      "220/220 [==============================] - 59s 268ms/sample - loss: 68.1668 - mean_squared_error: 68.1668 - mean_absolute_error: 6.5809\n",
      "Epoch 96/100\n",
      "220/220 [==============================] - 59s 266ms/sample - loss: 71.9376 - mean_squared_error: 71.9376 - mean_absolute_error: 6.6111\n",
      "Epoch 97/100\n",
      "220/220 [==============================] - 58s 263ms/sample - loss: 67.9202 - mean_squared_error: 67.9202 - mean_absolute_error: 6.6760\n",
      "Epoch 98/100\n",
      "220/220 [==============================] - 58s 263ms/sample - loss: 65.4062 - mean_squared_error: 65.4062 - mean_absolute_error: 6.4673\n",
      "Epoch 99/100\n",
      "220/220 [==============================] - 59s 267ms/sample - loss: 64.5852 - mean_squared_error: 64.5852 - mean_absolute_error: 6.4917\n",
      "Epoch 100/100\n",
      "220/220 [==============================] - 59s 267ms/sample - loss: 66.3208 - mean_squared_error: 66.3208 - mean_absolute_error: 6.3113\n"
     ]
    }
   ],
   "source": [
    "history = seq.fit(X_train, Y_train, epochs=100)"
   ]
  },
  {
   "cell_type": "code",
   "execution_count": 31,
   "metadata": {},
   "outputs": [
    {
     "data": {
      "text/plain": [
       "[<matplotlib.lines.Line2D at 0x7eb82e4128>]"
      ]
     },
     "execution_count": 31,
     "metadata": {},
     "output_type": "execute_result"
    },
    {
     "data": {
      "image/png": "[encoded data removed]",
      "text/plain": [
       "<matplotlib.figure.Figure at 0x7ec02958d0>"
      ]
     },
     "metadata": {
      "needs_background": "light"
     },
     "output_type": "display_data"
    }
   ],
   "source": [
    "plt.plot(history.history['mean_squared_error'])"
   ]
  },
  {
   "cell_type": "code",
   "execution_count": 32,
   "metadata": {},
   "outputs": [
    {
     "data": {
      "text/plain": [
       "<matplotlib.collections.PathCollection at 0x7eb8282898>"
      ]
     },
     "execution_count": 32,
     "metadata": {},
     "output_type": "execute_result"
    },
    {
     "data": {
      "image/png": "[encoded data removed]",
      "text/plain": [
       "<matplotlib.figure.Figure at 0x7eb82edd68>"
      ]
     },
     "metadata": {
      "needs_background": "light"
     },
     "output_type": "display_data"
    }
   ],
   "source": [
    "plt.scatter(seq.predict(X_test), Y_test)"
   ]
  },
  {
   "cell_type": "code",
   "execution_count": 33,
   "metadata": {},
   "outputs": [
    {
     "name": "stdout",
     "output_type": "stream",
     "text": [
      "39/39 [==============================] - 6s 156ms/sample - loss: 105.1108 - mean_squared_error: 105.1108 - mean_absolute_error: 8.3204\n"
     ]
    },
    {
     "data": {
      "text/plain": [
       "[105.11077822171725, 105.11078, 8.320433]"
      ]
     },
     "execution_count": 33,
     "metadata": {},
     "output_type": "execute_result"
    }
   ],
   "source": [
    "seq.evaluate(X_test, Y_test)"
   ]
  },
  {
   "cell_type": "code",
   "execution_count": 57,
   "metadata": {},
   "outputs": [
    {
     "data": {
      "text/plain": [
       "array([[-0.00199934],\n",
       "       [-0.00429186],\n",
       "       [-0.01646508],\n",
       "       [-0.00326372],\n",
       "       [-0.00522727],\n",
       "       [-0.00769043],\n",
       "       [-0.0085856 ],\n",
       "       [-0.00163226],\n",
       "       [-0.00626482],\n",
       "       [-0.00807292],\n",
       "       [-0.0167161 ],\n",
       "       [-0.00090882],\n",
       "       [-0.00493974],\n",
       "       [-0.00364621],\n",
       "       [-0.00396221],\n",
       "       [-0.00279058],\n",
       "       [-0.00359003],\n",
       "       [ 0.00138091],\n",
       "       [-0.01861896],\n",
       "       [-0.00310312],\n",
       "       [-0.00509726],\n",
       "       [-0.00347153],\n",
       "       [-0.0008237 ],\n",
       "       [-0.00191619],\n",
       "       [-0.004611  ],\n",
       "       [-0.01666888],\n",
       "       [-0.00377885],\n",
       "       [-0.00454215],\n",
       "       [ 0.00107718],\n",
       "       [-0.00369215],\n",
       "       [-0.00335738],\n",
       "       [-0.00259303],\n",
       "       [-0.01787031],\n",
       "       [-0.00526399],\n",
       "       [-0.00158647],\n",
       "       [-0.00227021],\n",
       "       [-0.01645203],\n",
       "       [-0.00183659],\n",
       "       [-0.00071952]], dtype=float32)"
      ]
     },
     "execution_count": 57,
     "metadata": {},
     "output_type": "execute_result"
    }
   ],
   "source": [
    "seq.predict(X_test)"
   ]
  },
  {
   "cell_type": "code",
   "execution_count": 55,
   "metadata": {},
   "outputs": [
    {
     "data": {
      "text/plain": [
       "array([33, 35, 23, 16, 28, 26, 31, 18,  9, 11])"
      ]
     },
     "execution_count": 55,
     "metadata": {},
     "output_type": "execute_result"
    }
   ],
   "source": [
    "Y_test[0:10]"
   ]
  }
 ],
 "metadata": {
  "kernelspec": {
   "display_name": "Python 3",
   "language": "python",
   "name": "python3"
  },
  "language_info": {
   "codemirror_mode": {
    "name": "ipython",
    "version": 3
   },
   "file_extension": ".py",
   "mimetype": "text/x-python",
   "name": "python",
   "nbconvert_exporter": "python",
   "pygments_lexer": "ipython3",
   "version": "3.6.9"
  }
 },
 "nbformat": 4,
 "nbformat_minor": 4
}
