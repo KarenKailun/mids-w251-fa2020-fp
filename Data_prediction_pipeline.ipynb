{
 "cells": [
  {
   "cell_type": "code",
   "execution_count": 15,
   "metadata": {},
   "outputs": [],
   "source": [
    "import numpy as np\n",
    "import glob\n",
    "import pandas as pd\n",
    "import ast\n",
    "import matplotlib.pyplot as plt\n",
    "from sklearn.model_selection import train_test_split\n",
    "from sklearn.preprocessing import StandardScaler, normalize\n",
    "import keras\n",
    "import tensorflow as tf\n",
    "import pickle"
   ]
  },
  {
   "cell_type": "markdown",
   "metadata": {},
   "source": [
    "### data transformation: pose output to array"
   ]
  },
  {
   "cell_type": "code",
   "execution_count": 16,
   "metadata": {},
   "outputs": [],
   "source": [
    "def pose_to_kp(file):\n",
    "    \n",
    "    '''Give pose result, transform it into compatible data structure.'''\n",
    "    \n",
    "    data = pd.read_csv(file, sep=\"\\t\", header=None)\n",
    "    data.columns = [\"time\", \"kpoints\", \"count\", \"fps\"]\n",
    "    data.kpoints = data.kpoints.apply(lambda x: ast.literal_eval(x.strip(\"()\")))\n",
    "    times = [t-data.time[0] for t in data.time[0:440]]\n",
    "\n",
    "    #Select upper body keypoints\n",
    "    kp_ind = [0, 1, 2, 3, 4, 5, 6, 17]\n",
    "\n",
    "    # matrix dims: time, kp, (kp_num, x, y)\n",
    "    kp_mat = np.array(data.kpoints.tolist(), dtype=float)[0:440, kp_ind,:]\n",
    "\n",
    "    kp_y = kp_mat[0:440, :,2]\n",
    "\n",
    "    # R ear to R shoulder, L ear to L shoulder, nose to neck\n",
    "    distances = [(2,6), (1,5), (0,7)]\n",
    "\n",
    "    d_arr = []\n",
    "\n",
    "    for tup in distances:\n",
    "        p1x = kp_mat[:, tup[0], 1]\n",
    "        p1y = kp_mat[:, tup[0], 2]\n",
    "        p2x = kp_mat[:, tup[1], 1]\n",
    "        p2y = kp_mat[:, tup[1], 2]\n",
    "\n",
    "        dist = ((p1x-p2x)**2 + (p1y-p2y)**2)**.5    \n",
    "        d_arr.append(dist)\n",
    "\n",
    "    d_mat = np.array(d_arr).T\n",
    "\n",
    "    t_mat = np.array(times).reshape(440, 1)\n",
    "\n",
    "    full_mat = np.hstack((t_mat, kp_y, d_mat)).reshape(440, 12, 1)\n",
    "    \n",
    "    return full_mat"
   ]
  },
  {
   "cell_type": "markdown",
   "metadata": {},
   "source": [
    "### data transformation: normalization"
   ]
  },
  {
   "cell_type": "code",
   "execution_count": 17,
   "metadata": {},
   "outputs": [],
   "source": [
    "def feature_normalization(x, filepath):\n",
    "    \n",
    "    '''Normalize x using training mean and std provided by the filepath.'''\n",
    "    \n",
    "    train_mean = pickle.load(open(filepath, \"rb\"))[0]\n",
    "    train_std = pickle.load(open(filepath, \"rb\"))[1]\n",
    "    x_sc = np.nan_to_num((x - train_mean)/train_std)\n",
    "    \n",
    "    return x_sc"
   ]
  },
  {
   "cell_type": "markdown",
   "metadata": {},
   "source": [
    "### data transformation: FFT augementation"
   ]
  },
  {
   "cell_type": "code",
   "execution_count": 18,
   "metadata": {},
   "outputs": [],
   "source": [
    "from scipy import fftpack\n",
    "\n",
    "def find_br_fft(x):\n",
    "    \n",
    "    '''Fast Fourier transform a series and calculate breathing rate.'''\n",
    "    \n",
    "    x = pd.Series(x).interpolate().tolist()\n",
    "    tr = np.absolute(np.fft.fft(x))\n",
    "    cycles_in_period = 1+np.argmax(tr[1:30])\n",
    "    #print(\"cycles in period: \", cycles_in_period)\n",
    "    brpm = cycles_in_period * (30 * 60 / 440) # assumes 30 fps and 440 frames in 15 seconds\n",
    "    # plt.plot(X)\n",
    "    #print(\"breathing rate per minute:  \", brpm)\n",
    "    return brpm\n",
    "\n",
    "def find_sample_freq(df, fps = 30):\n",
    "    \n",
    "    '''Given a single sample, with dimension [440, 12, 1], predict frequency for all 12 x 1 keypoints. '''\n",
    "    \n",
    "    n_frames = df.shape[0]\n",
    "    n_kps = df.shape[1]\n",
    "    n_dims = df.shape[2]\n",
    "    \n",
    "    rslt = []\n",
    "    \n",
    "    for i in range(n_dims): \n",
    "        for j in range(n_kps): \n",
    "            x = df[:,j,i] \n",
    "            rslt += [find_br_fft(x)]\n",
    "            \n",
    "    return rslt"
   ]
  },
  {
   "cell_type": "markdown",
   "metadata": {},
   "source": [
    "### load the ensemble model"
   ]
  },
  {
   "cell_type": "code",
   "execution_count": 19,
   "metadata": {},
   "outputs": [],
   "source": [
    "def model_predict(model_filepath, input_fft, input_sc):\n",
    "    \n",
    "    '''Load trained model, predict on a single instance.'''\n",
    "    \n",
    "    input_fft = np.array([input_fft,])\n",
    "    input_sc = np.array([input_sc,])\n",
    "    model = keras.models.load_model(model_filepath)\n",
    "    x = model.predict([input_fft, input_sc])\n",
    "    \n",
    "    return x"
   ]
  },
  {
   "cell_type": "code",
   "execution_count": 20,
   "metadata": {},
   "outputs": [],
   "source": [
    "# model1 = keras.models.load_model('/home/ensemble_model/model1')\n",
    "# model1.predict(np.array([X_fft,]))"
   ]
  },
  {
   "cell_type": "code",
   "execution_count": 21,
   "metadata": {},
   "outputs": [],
   "source": [
    "# model2 = keras.models.load_model('/home/ensemble_model/model2')\n",
    "# model2.predict(np.array([X_sc,]))\n",
    "# #model2.predict(X_sc[np.newaxis, ...])"
   ]
  },
  {
   "cell_type": "markdown",
   "metadata": {},
   "source": [
    "### Example"
   ]
  },
  {
   "cell_type": "code",
   "execution_count": 22,
   "metadata": {},
   "outputs": [],
   "source": [
    "pose_output_file = '/keypoints/10_kkw_front_1.txt'"
   ]
  },
  {
   "cell_type": "code",
   "execution_count": 23,
   "metadata": {},
   "outputs": [],
   "source": [
    "X = pose_to_kp(pose_output_file)"
   ]
  },
  {
   "cell_type": "code",
   "execution_count": 24,
   "metadata": {},
   "outputs": [],
   "source": [
    "normalization_file = \"/home/ensemble_model/data_normalization_input.txt\""
   ]
  },
  {
   "cell_type": "code",
   "execution_count": 25,
   "metadata": {},
   "outputs": [],
   "source": [
    "X_sc = feature_normalization(X, normalization_file)"
   ]
  },
  {
   "cell_type": "code",
   "execution_count": 26,
   "metadata": {},
   "outputs": [],
   "source": [
    "X_fft = find_sample_freq(X_sc)"
   ]
  },
  {
   "cell_type": "code",
   "execution_count": 27,
   "metadata": {},
   "outputs": [],
   "source": [
    "model_file = '/home/ensemble_model/model'"
   ]
  },
  {
   "cell_type": "code",
   "execution_count": 28,
   "metadata": {},
   "outputs": [
    {
     "data": {
      "text/plain": [
       "array([[14.878302]], dtype=float32)"
      ]
     },
     "execution_count": 28,
     "metadata": {},
     "output_type": "execute_result"
    }
   ],
   "source": [
    "model_predict(model_file,X_fft,X_sc)"
   ]
  }
 ],
 "metadata": {
  "kernelspec": {
   "display_name": "Python 3",
   "language": "python",
   "name": "python3"
  },
  "language_info": {
   "codemirror_mode": {
    "name": "ipython",
    "version": 3
   },
   "file_extension": ".py",
   "mimetype": "text/x-python",
   "name": "python",
   "nbconvert_exporter": "python",
   "pygments_lexer": "ipython3",
   "version": "3.6.9"
  }
 },
 "nbformat": 4,
 "nbformat_minor": 4
}
