{
 "cells": [
  {
   "cell_type": "code",
   "execution_count": null,
   "metadata": {},
   "outputs": [],
   "source": [
    "#!/usr/bin/env python\n",
    "from moviepy.video.io.ffmpeg_tools import ffmpeg_extract_subclip\n",
    "\n",
    "# Replace the filename below.\n",
    "required_video_file = \"Respiration Rate.mp4\"\n",
    "\n",
    "with open(\"times.txt\") as f:\n",
    "  times = f.readlines()\n",
    "\n",
    "times = [x.strip() for x in times] \n",
    "\n",
    "for time in times:\n",
    "  starttime = int(time.split(\"-\")[0])\n",
    "  endtime = int(time.split(\"-\")[1])\n",
    "  ffmpeg_extract_subclip(required_video_file, starttime, endtime, targetname=str(times.index(time)+1)+\".mp4\")"
   ]
  }
 ],
 "metadata": {
  "kernelspec": {
   "display_name": "Python 3",
   "language": "python",
   "name": "python3"
  },
  "language_info": {
   "codemirror_mode": {
    "name": "ipython",
    "version": 3
   },
   "file_extension": ".py",
   "mimetype": "text/x-python",
   "name": "python",
   "nbconvert_exporter": "python",
   "pygments_lexer": "ipython3",
   "version": "3.6.9"
  }
 },
 "nbformat": 4,
 "nbformat_minor": 4
}
