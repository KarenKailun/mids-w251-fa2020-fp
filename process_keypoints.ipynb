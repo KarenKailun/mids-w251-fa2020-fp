{
 "cells": [
  {
   "cell_type": "code",
   "execution_count": 175,
   "metadata": {},
   "outputs": [],
   "source": [
    "import numpy as np\n",
    "import glob\n",
    "import pandas as pd\n",
    "import ast\n",
    "import matplotlib.pyplot as plt\n",
    "from sklearn.model_selection import train_test_split\n",
    "from sklearn.preprocessing import StandardScaler, normalize\n",
    "\n",
    "import tensorflow as tf\n",
    "from tensorflow.keras.layers import Convolution2D, MaxPooling2D, Flatten, Dense\n"
   ]
  },
  {
   "cell_type": "markdown",
   "metadata": {},
   "source": [
    "## Reshape the keypoints data"
   ]
  },
  {
   "cell_type": "code",
   "execution_count": 2,
   "metadata": {},
   "outputs": [],
   "source": [
    "datapath = \"../keypoints/\""
   ]
  },
  {
   "cell_type": "code",
   "execution_count": 98,
   "metadata": {},
   "outputs": [],
   "source": [
    "kp_files = glob.glob(datapath + '*.txt')"
   ]
  },
  {
   "cell_type": "code",
   "execution_count": 4,
   "metadata": {},
   "outputs": [],
   "source": [
    "# Get labels from file names\n",
    "labels = [int(x.split('_')[0].split(\"/\")[-1]) for x in kp_files]"
   ]
  },
  {
   "cell_type": "code",
   "execution_count": 99,
   "metadata": {},
   "outputs": [
    {
     "data": {
      "text/plain": [
       "259"
      ]
     },
     "execution_count": 99,
     "metadata": {},
     "output_type": "execute_result"
    }
   ],
   "source": [
    "# read in text files\n",
    "len(labels)"
   ]
  },
  {
   "cell_type": "code",
   "execution_count": 210,
   "metadata": {},
   "outputs": [
    {
     "name": "stdout",
     "output_type": "stream",
     "text": [
      "1 2 3 4 5 6 7 8 9 10 11 12 13 14 15 16 17 18 19 20 21 22 23 24 25 26 27 28 29 30 31 32 33 34 35 36 37 38 39 40 41 42 43 44 45 46 47 48 49 50 51 52 53 54 55 56 57 58 59 60 61 62 63 64 65 66 67 68 69 70 71 72 73 74 75 76 77 78 79 80 81 82 83 84 85 86 87 88 89 90 91 92 93 94 95 96 97 98 99 100 101 102 103 104 105 106 107 108 109 110 111 112 113 114 115 116 117 118 119 120 121 122 123 124 125 126 127 128 129 130 131 132 133 134 135 136 137 138 139 140 141 142 143 144 145 146 147 148 149 150 151 152 153 154 155 156 157 158 159 160 161 162 163 164 165 166 167 168 169 170 171 172 173 174 175 176 177 178 179 180 181 182 183 184 185 186 187 188 189 190 191 192 193 194 195 196 197 198 199 200 201 202 203 204 205 206 207 208 209 210 211 212 213 214 215 216 217 218 219 220 221 222 223 224 225 226 227 228 229 230 231 232 233 234 235 236 237 238 239 240 241 242 243 244 245 246 247 248 249 250 251 252 253 254 255 256 257 258 259 "
     ]
    }
   ],
   "source": [
    "# '''\n",
    "# Note --- arrays are clipped at 440, because there's some variation around the dimension that is ~450\n",
    "# '''\n",
    "\n",
    "features = []\n",
    "count = 1\n",
    "\n",
    "for file in kp_files:\n",
    "    print(count, end=\" \")\n",
    "    count += 1\n",
    "\n",
    "    data = pd.read_csv(file, sep=\"\\t\", header=None)\n",
    "    data.columns = [\"time\", \"kpoints\", \"count\", \"fps\"]\n",
    "    data.kpoints = data.kpoints.apply(lambda x: ast.literal_eval(x.strip(\"()\")))\n",
    "    times = [t-data.time[0] for t in data.time[0:440]]\n",
    "\n",
    "    #Select upper body keypoints\n",
    "    kp_ind = [0, 1, 2, 3, 4, 5, 6, 17]\n",
    "\n",
    "    # matrix dims: time, kp, (kp_num, x, y)\n",
    "    kp_mat = np.array(data.kpoints.tolist(), dtype=float)[0:440, kp_ind,:]\n",
    "\n",
    "    kp_y = kp_mat[0:440, :,2]\n",
    "\n",
    "    # R ear to R shoulder, L ear to L shoulder, nose to neck\n",
    "    distances = [(2,6), (1,5), (0,7)]\n",
    "\n",
    "    d_arr = []\n",
    "\n",
    "    for tup in distances:\n",
    "        p1x = kp_mat[:, tup[0], 1]\n",
    "        p1y = kp_mat[:, tup[0], 2]\n",
    "        p2x = kp_mat[:, tup[1], 1]\n",
    "        p2y = kp_mat[:, tup[1], 2]\n",
    "\n",
    "        dist = ((p1x-p2x)**2 + (p1y-p2y)**2)**.5    \n",
    "        d_arr.append(dist)\n",
    "\n",
    "    d_mat = np.array(d_arr).T\n",
    "\n",
    "    t_mat = np.array(times).reshape(440, 1)\n",
    "\n",
    "    full_mat = np.hstack((t_mat, kp_y, d_mat)).reshape(440, 12, 1)\n",
    "\n",
    "    features.append(full_mat)"
   ]
  },
  {
   "cell_type": "code",
   "execution_count": 202,
   "metadata": {},
   "outputs": [
    {
     "data": {
      "text/plain": [
       "<matplotlib.collections.PathCollection at 0x7ee835cc18>"
      ]
     },
     "execution_count": 202,
     "metadata": {},
     "output_type": "execute_result"
    },
    {
     "data": {
      "image/png": "[encoded data removed]",
      "text/plain": [
       "<matplotlib.figure.Figure at 0x7ee83dc7b8>"
      ]
     },
     "metadata": {
      "needs_background": "light"
     },
     "output_type": "display_data"
    }
   ],
   "source": [
    "# Check keypoint movement over time\n",
    "plt.scatter(t_mat, d_mat[:, 1])"
   ]
  },
  {
   "cell_type": "markdown",
   "metadata": {},
   "source": [
    "## Write/read the data"
   ]
  },
  {
   "cell_type": "code",
   "execution_count": 302,
   "metadata": {},
   "outputs": [],
   "source": [
    "# Save data\n",
    "\n",
    "import pickle\n",
    "# pickle.dump(features, open(\"features.txt\", \"wb\"))\n",
    "# pickle.dump(labels, open(\"labels.txt\", \"wb\"))"
   ]
  },
  {
   "cell_type": "code",
   "execution_count": 122,
   "metadata": {},
   "outputs": [],
   "source": [
    "# Read data\n",
    "features = pickle.load(open(\"features.txt\", \"rb\"))\n",
    "labels = pickle.load(open(\"labels.txt\", \"rb\"))"
   ]
  },
  {
   "cell_type": "code",
   "execution_count": 211,
   "metadata": {},
   "outputs": [
    {
     "name": "stdout",
     "output_type": "stream",
     "text": [
      "(259, 440, 12, 1)\n"
     ]
    }
   ],
   "source": [
    "X = np.array(features)\n",
    "print(X.shape)"
   ]
  },
  {
   "cell_type": "code",
   "execution_count": 212,
   "metadata": {},
   "outputs": [
    {
     "name": "stdout",
     "output_type": "stream",
     "text": [
      "(259,)\n"
     ]
    }
   ],
   "source": [
    "Y = np.array(labels)\n",
    "print(Y.shape)"
   ]
  },
  {
   "cell_type": "code",
   "execution_count": 213,
   "metadata": {},
   "outputs": [],
   "source": [
    "X_train, X_test, Y_train, Y_test = train_test_split(X, Y, test_size=0.15, random_state=24601)"
   ]
  },
  {
   "cell_type": "code",
   "execution_count": 214,
   "metadata": {},
   "outputs": [
    {
     "data": {
      "text/plain": [
       "(220, 440, 12, 1)"
      ]
     },
     "execution_count": 214,
     "metadata": {},
     "output_type": "execute_result"
    }
   ],
   "source": [
    "X_train.shape"
   ]
  },
  {
   "cell_type": "code",
   "execution_count": 268,
   "metadata": {},
   "outputs": [
    {
     "data": {
      "text/plain": [
       "(440, 12, 1)"
      ]
     },
     "execution_count": 268,
     "metadata": {},
     "output_type": "execute_result"
    }
   ],
   "source": [
    "# normalize\n",
    "\n",
    "train_mean = np.nanmean(X_train[:, :, 1:, :], axis=0)\n",
    "train_std = np.nanstd(X_train[:, :, 1:, :], axis=0)\n",
    "\n",
    "train_mean = np.hstack((np.zeros((440, 1, 1)), train_mean))\n",
    "train_std = np.hstack((np.ones((440, 1, 1)), train_std))\n",
    "\n",
    "train_mean.shape\n",
    "\n",
    "X_train_sc = np.nan_to_num((X_train - train_mean)/train_std)\n",
    "\n",
    "X_test_sc = np.nan_to_num((X_test - train_mean)/train_std)"
   ]
  }
 ],
 "metadata": {
  "kernelspec": {
   "display_name": "Python 3",
   "language": "python",
   "name": "python3"
  },
  "language_info": {
   "codemirror_mode": {
    "name": "ipython",
    "version": 3
   },
   "file_extension": ".py",
   "mimetype": "text/x-python",
   "name": "python",
   "nbconvert_exporter": "python",
   "pygments_lexer": "ipython3",
   "version": "3.8.2"
  }
 },
 "nbformat": 4,
 "nbformat_minor": 4
}
