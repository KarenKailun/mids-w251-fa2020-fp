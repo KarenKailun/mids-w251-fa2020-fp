{
 "cells": [
  {
   "cell_type": "code",
   "execution_count": 191,
   "metadata": {},
   "outputs": [],
   "source": [
    "import numpy as np\n",
    "import glob\n",
    "import pandas as pd\n",
    "import ast\n",
    "import matplotlib.pyplot as plt\n",
    "from sklearn.model_selection import train_test_split\n",
    "\n",
    "import tensorflow as tf\n",
    "from tensorflow.keras.layers import Convolution2D, MaxPooling2D, Flatten, Dense\n"
   ]
  },
  {
   "cell_type": "code",
   "execution_count": 4,
   "metadata": {},
   "outputs": [],
   "source": [
    "datapath = \"../keypoints/\""
   ]
  },
  {
   "cell_type": "code",
   "execution_count": 5,
   "metadata": {},
   "outputs": [],
   "source": [
    "kp_files = glob.glob(datapath + '*.txt')"
   ]
  },
  {
   "cell_type": "code",
   "execution_count": 11,
   "metadata": {},
   "outputs": [],
   "source": [
    "# Get labels from file names\n",
    "labels = [int(x.split('_')[0].split(\"/\")[-1]) for x in kp_files]"
   ]
  },
  {
   "cell_type": "code",
   "execution_count": 85,
   "metadata": {},
   "outputs": [
    {
     "data": {
      "text/plain": [
       "19"
      ]
     },
     "execution_count": 85,
     "metadata": {},
     "output_type": "execute_result"
    }
   ],
   "source": [
    "# read in text files\n",
    "len(labels)"
   ]
  },
  {
   "cell_type": "code",
   "execution_count": 121,
   "metadata": {},
   "outputs": [
    {
     "data": {
      "text/plain": [
       "[0.3318314850330353,\n",
       " 0.30076107382774353,\n",
       " 0.28024882078170776,\n",
       " 0.41986939311027527,\n",
       " 0.37887880206108093,\n",
       " 0.6999762654304504,\n",
       " 0.7189609408378601,\n",
       " 0.7985836863517761,\n",
       " 0.7080302834510803]"
      ]
     },
     "execution_count": 121,
     "metadata": {},
     "output_type": "execute_result"
    }
   ],
   "source": [
    "[data.kpoints[0][j][1] for j in kp_ind]"
   ]
  },
  {
   "cell_type": "code",
   "execution_count": 228,
   "metadata": {},
   "outputs": [],
   "source": [
    "data = pd.read_csv(kp_files[0], sep=\"\\t\", header=None)\n",
    "data.columns = [\"time\", \"kpoints\", \"count\", \"fps\"]\n",
    "data.kpoints = data.kpoints.apply(lambda x: ast.literal_eval(x.strip(\"()\")))\n",
    "\n",
    "sel_kp = []\n",
    "\n",
    "for i in range(data.shape[0]):\n",
    "    kp_y = [data.kpoints[0][j][1] for j in kp_ind]\n",
    "    t = [data.time[i]]\n",
    "    sel_kp.append(t+kp_x+kp_y)\n",
    "\n",
    "feat = np.array(sel_kp)"
   ]
  },
  {
   "cell_type": "code",
   "execution_count": 232,
   "metadata": {},
   "outputs": [
    {
     "data": {
      "text/plain": [
       "2"
      ]
     },
     "execution_count": 232,
     "metadata": {},
     "output_type": "execute_result"
    }
   ],
   "source": [
    "sel_kp[0:2]"
   ]
  },
  {
   "cell_type": "code",
   "execution_count": 128,
   "metadata": {},
   "outputs": [],
   "source": [
    "# Focus on upper body keypoints\n",
    "kp_ind = [0, 1, 2, 3, 4, 5, 6, 7, 17]\n",
    "\n",
    "features = []\n",
    "\n",
    "for file in kp_files:\n",
    "    data = pd.read_csv(file, sep=\"\\t\", header=None)\n",
    "    data.columns = [\"time\", \"kpoints\", \"count\", \"fps\"]\n",
    "    data.kpoints = data.kpoints.apply(lambda x: ast.literal_eval(x.strip(\"()\")))\n",
    "    \n",
    "    sel_kp = []\n",
    "\n",
    "    for i in range(data.shape[0]):\n",
    "        kp_x = [data.kpoints[0][j][1] for j in kp_ind]\n",
    "        kp_y = [data.kpoints[0][j][1] for j in kp_ind]\n",
    "        t = [data.time[i]]\n",
    "        sel_kp.append(list(t+kp_x+kp_y))\n",
    "        \n",
    "    feat = np.array(sel_kp)\n",
    "    \n",
    "    features.append(feat)"
   ]
  },
  {
   "cell_type": "code",
   "execution_count": 205,
   "metadata": {},
   "outputs": [
    {
     "data": {
      "text/html": [
       "<div>\n",
       "<style scoped>\n",
       "    .dataframe tbody tr th:only-of-type {\n",
       "        vertical-align: middle;\n",
       "    }\n",
       "\n",
       "    .dataframe tbody tr th {\n",
       "        vertical-align: top;\n",
       "    }\n",
       "\n",
       "    .dataframe thead th {\n",
       "        text-align: right;\n",
       "    }\n",
       "</style>\n",
       "<table border=\"1\" class=\"dataframe\">\n",
       "  <thead>\n",
       "    <tr style=\"text-align: right;\">\n",
       "      <th></th>\n",
       "      <th>time</th>\n",
       "      <th>kpoints</th>\n",
       "      <th>count</th>\n",
       "      <th>fps</th>\n",
       "    </tr>\n",
       "  </thead>\n",
       "  <tbody>\n",
       "    <tr>\n",
       "      <th>0</th>\n",
       "      <td>1.605553e+09</td>\n",
       "      <td>[(0, 0.529125452041626, 0.3717993199825287), (...</td>\n",
       "      <td>1</td>\n",
       "      <td>53.949502</td>\n",
       "    </tr>\n",
       "    <tr>\n",
       "      <th>1</th>\n",
       "      <td>1.605553e+09</td>\n",
       "      <td>[(0, 0.5283065438270569, 0.37145838141441345),...</td>\n",
       "      <td>2</td>\n",
       "      <td>50.406855</td>\n",
       "    </tr>\n",
       "    <tr>\n",
       "      <th>2</th>\n",
       "      <td>1.605553e+09</td>\n",
       "      <td>[(0, None, None), (1, None, None), (2, None, N...</td>\n",
       "      <td>3</td>\n",
       "      <td>51.169393</td>\n",
       "    </tr>\n",
       "    <tr>\n",
       "      <th>3</th>\n",
       "      <td>1.605553e+09</td>\n",
       "      <td>[(0, 0.5283210277557373, 0.3713357150554657), ...</td>\n",
       "      <td>4</td>\n",
       "      <td>44.569522</td>\n",
       "    </tr>\n",
       "    <tr>\n",
       "      <th>4</th>\n",
       "      <td>1.605553e+09</td>\n",
       "      <td>[(0, 0.5286968946456909, 0.37130624055862427),...</td>\n",
       "      <td>5</td>\n",
       "      <td>51.506828</td>\n",
       "    </tr>\n",
       "  </tbody>\n",
       "</table>\n",
       "</div>"
      ],
      "text/plain": [
       "           time                                            kpoints  count  \\\n",
       "0  1.605553e+09  [(0, 0.529125452041626, 0.3717993199825287), (...      1   \n",
       "1  1.605553e+09  [(0, 0.5283065438270569, 0.37145838141441345),...      2   \n",
       "2  1.605553e+09  [(0, None, None), (1, None, None), (2, None, N...      3   \n",
       "3  1.605553e+09  [(0, 0.5283210277557373, 0.3713357150554657), ...      4   \n",
       "4  1.605553e+09  [(0, 0.5286968946456909, 0.37130624055862427),...      5   \n",
       "\n",
       "         fps  \n",
       "0  53.949502  \n",
       "1  50.406855  \n",
       "2  51.169393  \n",
       "3  44.569522  \n",
       "4  51.506828  "
      ]
     },
     "execution_count": 205,
     "metadata": {},
     "output_type": "execute_result"
    }
   ],
   "source": [
    "data."
   ]
  },
  {
   "cell_type": "code",
   "execution_count": 237,
   "metadata": {},
   "outputs": [],
   "source": [
    "#TESTING\n",
    "kp_ind = [0, 1, 2, 3, 4, 5, 6, 7, 17]\n",
    "\n",
    "features = []\n",
    "\n",
    "for file in kp_files:\n",
    "    data = pd.read_csv(file, sep=\"\\t\", header=None)\n",
    "    data.columns = [\"time\", \"kpoints\", \"count\", \"fps\"]\n",
    "    data.kpoints = data.kpoints.apply(lambda x: ast.literal_eval(x.strip(\"()\")))\n",
    "    times = [t-data.time[0] for t in data.time]\n",
    "    \n",
    "    sel_kp = []\n",
    "\n",
    "    for i in range(data.shape[0]):\n",
    "#         kp_x = [data.kpoints[0][j][1:3] for j in kp_ind]\n",
    "        kp_y = [data.kpoints[0][j][1] for j in kp_ind]\n",
    "        t = [times[i]]\n",
    "        ob_feat = t + kp_y\n",
    "        sel_kp.append(ob_feat)\n",
    "        \n",
    "    feat = np.array(sel_kp)\n",
    "    \n",
    "    features.append(sel_kp)"
   ]
  },
  {
   "cell_type": "code",
   "execution_count": 245,
   "metadata": {},
   "outputs": [],
   "source": [
    "with open('features.txt', 'w') as filehandle:\n",
    "    for listitem in features:\n",
    "        filehandle.write('%s\\n' % listitem)"
   ]
  },
  {
   "cell_type": "code",
   "execution_count": 246,
   "metadata": {},
   "outputs": [],
   "source": [
    "with open('labels.txt', 'w') as filehandle:\n",
    "    for listitem in labels:\n",
    "        filehandle.write('%s\\n' % listitem)"
   ]
  },
  {
   "cell_type": "code",
   "execution_count": 242,
   "metadata": {},
   "outputs": [
    {
     "name": "stdout",
     "output_type": "stream",
     "text": [
      "(19, 450, 10)\n"
     ]
    }
   ],
   "source": [
    "X = np.array(features)\n",
    "print(X.shape)"
   ]
  },
  {
   "cell_type": "code",
   "execution_count": 224,
   "metadata": {},
   "outputs": [
    {
     "name": "stdout",
     "output_type": "stream",
     "text": [
      "(19,)\n"
     ]
    }
   ],
   "source": [
    "Y = np.array(labels)\n",
    "print(Y.shape)"
   ]
  },
  {
   "cell_type": "code",
   "execution_count": null,
   "metadata": {},
   "outputs": [],
   "source": []
  },
  {
   "cell_type": "code",
   "execution_count": 132,
   "metadata": {},
   "outputs": [],
   "source": [
    "X_train, X_test, Y_train, Y_test = train_test_split(X, Y, test_size=0.15, random_state=24601)"
   ]
  },
  {
   "cell_type": "code",
   "execution_count": 188,
   "metadata": {},
   "outputs": [
    {
     "data": {
      "text/plain": [
       "8550"
      ]
     },
     "execution_count": 188,
     "metadata": {},
     "output_type": "execute_result"
    }
   ],
   "source": [
    "450*19"
   ]
  },
  {
   "cell_type": "code",
   "execution_count": 200,
   "metadata": {},
   "outputs": [
    {
     "ename": "TypeError",
     "evalue": "Error converting shape to a TensorShape: int() argument must be a string, a bytes-like object or a number, not 'tuple'.",
     "output_type": "error",
     "traceback": [
      "\u001b[0;31m---------------------------------------------------------------------------\u001b[0m",
      "\u001b[0;31mTypeError\u001b[0m                                 Traceback (most recent call last)",
      "\u001b[0;32m/usr/local/lib/python3.6/dist-packages/tensorflow_core/python/eager/execute.py\u001b[0m in \u001b[0;36mmake_shape\u001b[0;34m(v, arg_name)\u001b[0m\n\u001b[1;32m    205\u001b[0m   \u001b[0;32mtry\u001b[0m\u001b[0;34m:\u001b[0m\u001b[0;34m\u001b[0m\u001b[0;34m\u001b[0m\u001b[0m\n\u001b[0;32m--> 206\u001b[0;31m     \u001b[0mshape\u001b[0m \u001b[0;34m=\u001b[0m \u001b[0mtensor_shape\u001b[0m\u001b[0;34m.\u001b[0m\u001b[0mas_shape\u001b[0m\u001b[0;34m(\u001b[0m\u001b[0mv\u001b[0m\u001b[0;34m)\u001b[0m\u001b[0;34m\u001b[0m\u001b[0;34m\u001b[0m\u001b[0m\n\u001b[0m\u001b[1;32m    207\u001b[0m   \u001b[0;32mexcept\u001b[0m \u001b[0mTypeError\u001b[0m \u001b[0;32mas\u001b[0m \u001b[0me\u001b[0m\u001b[0;34m:\u001b[0m\u001b[0;34m\u001b[0m\u001b[0;34m\u001b[0m\u001b[0m\n",
      "\u001b[0;32m/usr/local/lib/python3.6/dist-packages/tensorflow_core/python/framework/tensor_shape.py\u001b[0m in \u001b[0;36mas_shape\u001b[0;34m(shape)\u001b[0m\n\u001b[1;32m   1215\u001b[0m   \u001b[0;32melse\u001b[0m\u001b[0;34m:\u001b[0m\u001b[0;34m\u001b[0m\u001b[0;34m\u001b[0m\u001b[0m\n\u001b[0;32m-> 1216\u001b[0;31m     \u001b[0;32mreturn\u001b[0m \u001b[0mTensorShape\u001b[0m\u001b[0;34m(\u001b[0m\u001b[0mshape\u001b[0m\u001b[0;34m)\u001b[0m\u001b[0;34m\u001b[0m\u001b[0;34m\u001b[0m\u001b[0m\n\u001b[0m\u001b[1;32m   1217\u001b[0m \u001b[0;34m\u001b[0m\u001b[0m\n",
      "\u001b[0;32m/usr/local/lib/python3.6/dist-packages/tensorflow_core/python/framework/tensor_shape.py\u001b[0m in \u001b[0;36m__init__\u001b[0;34m(self, dims)\u001b[0m\n\u001b[1;32m    775\u001b[0m         \u001b[0;31m# Got a list of dimensions\u001b[0m\u001b[0;34m\u001b[0m\u001b[0;34m\u001b[0m\u001b[0;34m\u001b[0m\u001b[0m\n\u001b[0;32m--> 776\u001b[0;31m         \u001b[0mself\u001b[0m\u001b[0;34m.\u001b[0m\u001b[0m_dims\u001b[0m \u001b[0;34m=\u001b[0m \u001b[0;34m[\u001b[0m\u001b[0mas_dimension\u001b[0m\u001b[0;34m(\u001b[0m\u001b[0md\u001b[0m\u001b[0;34m)\u001b[0m \u001b[0;32mfor\u001b[0m \u001b[0md\u001b[0m \u001b[0;32min\u001b[0m \u001b[0mdims_iter\u001b[0m\u001b[0;34m]\u001b[0m\u001b[0;34m\u001b[0m\u001b[0;34m\u001b[0m\u001b[0m\n\u001b[0m\u001b[1;32m    777\u001b[0m \u001b[0;34m\u001b[0m\u001b[0m\n",
      "\u001b[0;32m/usr/local/lib/python3.6/dist-packages/tensorflow_core/python/framework/tensor_shape.py\u001b[0m in \u001b[0;36m<listcomp>\u001b[0;34m(.0)\u001b[0m\n\u001b[1;32m    775\u001b[0m         \u001b[0;31m# Got a list of dimensions\u001b[0m\u001b[0;34m\u001b[0m\u001b[0;34m\u001b[0m\u001b[0;34m\u001b[0m\u001b[0m\n\u001b[0;32m--> 776\u001b[0;31m         \u001b[0mself\u001b[0m\u001b[0;34m.\u001b[0m\u001b[0m_dims\u001b[0m \u001b[0;34m=\u001b[0m \u001b[0;34m[\u001b[0m\u001b[0mas_dimension\u001b[0m\u001b[0;34m(\u001b[0m\u001b[0md\u001b[0m\u001b[0;34m)\u001b[0m \u001b[0;32mfor\u001b[0m \u001b[0md\u001b[0m \u001b[0;32min\u001b[0m \u001b[0mdims_iter\u001b[0m\u001b[0;34m]\u001b[0m\u001b[0;34m\u001b[0m\u001b[0;34m\u001b[0m\u001b[0m\n\u001b[0m\u001b[1;32m    777\u001b[0m \u001b[0;34m\u001b[0m\u001b[0m\n",
      "\u001b[0;32m/usr/local/lib/python3.6/dist-packages/tensorflow_core/python/framework/tensor_shape.py\u001b[0m in \u001b[0;36mas_dimension\u001b[0;34m(value)\u001b[0m\n\u001b[1;32m    717\u001b[0m   \u001b[0;32melse\u001b[0m\u001b[0;34m:\u001b[0m\u001b[0;34m\u001b[0m\u001b[0;34m\u001b[0m\u001b[0m\n\u001b[0;32m--> 718\u001b[0;31m     \u001b[0;32mreturn\u001b[0m \u001b[0mDimension\u001b[0m\u001b[0;34m(\u001b[0m\u001b[0mvalue\u001b[0m\u001b[0;34m)\u001b[0m\u001b[0;34m\u001b[0m\u001b[0;34m\u001b[0m\u001b[0m\n\u001b[0m\u001b[1;32m    719\u001b[0m \u001b[0;34m\u001b[0m\u001b[0m\n",
      "\u001b[0;32m/usr/local/lib/python3.6/dist-packages/tensorflow_core/python/framework/tensor_shape.py\u001b[0m in \u001b[0;36m__init__\u001b[0;34m(self, value)\u001b[0m\n\u001b[1;32m    192\u001b[0m     \u001b[0;32melse\u001b[0m\u001b[0;34m:\u001b[0m\u001b[0;34m\u001b[0m\u001b[0;34m\u001b[0m\u001b[0m\n\u001b[0;32m--> 193\u001b[0;31m       \u001b[0mself\u001b[0m\u001b[0;34m.\u001b[0m\u001b[0m_value\u001b[0m \u001b[0;34m=\u001b[0m \u001b[0mint\u001b[0m\u001b[0;34m(\u001b[0m\u001b[0mvalue\u001b[0m\u001b[0;34m)\u001b[0m\u001b[0;34m\u001b[0m\u001b[0;34m\u001b[0m\u001b[0m\n\u001b[0m\u001b[1;32m    194\u001b[0m       if (not isinstance(value, compat.bytes_or_text_types) and\n",
      "\u001b[0;31mTypeError\u001b[0m: int() argument must be a string, a bytes-like object or a number, not 'tuple'",
      "\nDuring handling of the above exception, another exception occurred:\n",
      "\u001b[0;31mTypeError\u001b[0m                                 Traceback (most recent call last)",
      "\u001b[0;32m<ipython-input-200-82c486411c1e>\u001b[0m in \u001b[0;36m<module>\u001b[0;34m\u001b[0m\n\u001b[1;32m      1\u001b[0m model = tf.keras.Sequential([\n\u001b[1;32m      2\u001b[0m     \u001b[0mConvolution2D\u001b[0m\u001b[0;34m(\u001b[0m\u001b[0mfilters\u001b[0m\u001b[0;34m=\u001b[0m\u001b[0;36m32\u001b[0m\u001b[0;34m,\u001b[0m \u001b[0mkernel_size\u001b[0m \u001b[0;34m=\u001b[0m \u001b[0;34m(\u001b[0m\u001b[0;36m3\u001b[0m\u001b[0;34m,\u001b[0m\u001b[0;36m3\u001b[0m\u001b[0;34m)\u001b[0m\u001b[0;34m,\u001b[0m \u001b[0minput_shape\u001b[0m\u001b[0;34m=\u001b[0m\u001b[0;34m(\u001b[0m\u001b[0;34m(\u001b[0m\u001b[0;36m450\u001b[0m\u001b[0;34m,\u001b[0m\u001b[0;36m19\u001b[0m\u001b[0;34m)\u001b[0m\u001b[0;34m,\u001b[0m\u001b[0;34m)\u001b[0m\u001b[0;34m,\u001b[0m \u001b[0mactivation\u001b[0m\u001b[0;34m=\u001b[0m\u001b[0;34m\"relu\"\u001b[0m\u001b[0;34m)\u001b[0m\u001b[0;34m,\u001b[0m\u001b[0;34m\u001b[0m\u001b[0;34m\u001b[0m\u001b[0m\n\u001b[0;32m----> 3\u001b[0;31m     \u001b[0mMaxPooling2D\u001b[0m\u001b[0;34m(\u001b[0m\u001b[0mpool_size\u001b[0m\u001b[0;34m=\u001b[0m\u001b[0;34m(\u001b[0m\u001b[0;36m2\u001b[0m\u001b[0;34m,\u001b[0m\u001b[0;36m2\u001b[0m\u001b[0;34m)\u001b[0m\u001b[0;34m)\u001b[0m\u001b[0;34m\u001b[0m\u001b[0;34m\u001b[0m\u001b[0m\n\u001b[0m\u001b[1;32m      4\u001b[0m \u001b[0;31m#     Flatten(),\u001b[0m\u001b[0;34m\u001b[0m\u001b[0;34m\u001b[0m\u001b[0;34m\u001b[0m\u001b[0m\n\u001b[1;32m      5\u001b[0m \u001b[0;31m#     Dense(450, activation='relu'),\u001b[0m\u001b[0;34m\u001b[0m\u001b[0;34m\u001b[0m\u001b[0;34m\u001b[0m\u001b[0m\n",
      "\u001b[0;32m/usr/local/lib/python3.6/dist-packages/tensorflow_core/python/training/tracking/base.py\u001b[0m in \u001b[0;36m_method_wrapper\u001b[0;34m(self, *args, **kwargs)\u001b[0m\n\u001b[1;32m    455\u001b[0m     \u001b[0mself\u001b[0m\u001b[0;34m.\u001b[0m\u001b[0m_self_setattr_tracking\u001b[0m \u001b[0;34m=\u001b[0m \u001b[0;32mFalse\u001b[0m  \u001b[0;31m# pylint: disable=protected-access\u001b[0m\u001b[0;34m\u001b[0m\u001b[0;34m\u001b[0m\u001b[0m\n\u001b[1;32m    456\u001b[0m     \u001b[0;32mtry\u001b[0m\u001b[0;34m:\u001b[0m\u001b[0;34m\u001b[0m\u001b[0;34m\u001b[0m\u001b[0m\n\u001b[0;32m--> 457\u001b[0;31m       \u001b[0mresult\u001b[0m \u001b[0;34m=\u001b[0m \u001b[0mmethod\u001b[0m\u001b[0;34m(\u001b[0m\u001b[0mself\u001b[0m\u001b[0;34m,\u001b[0m \u001b[0;34m*\u001b[0m\u001b[0margs\u001b[0m\u001b[0;34m,\u001b[0m \u001b[0;34m**\u001b[0m\u001b[0mkwargs\u001b[0m\u001b[0;34m)\u001b[0m\u001b[0;34m\u001b[0m\u001b[0;34m\u001b[0m\u001b[0m\n\u001b[0m\u001b[1;32m    458\u001b[0m     \u001b[0;32mfinally\u001b[0m\u001b[0;34m:\u001b[0m\u001b[0;34m\u001b[0m\u001b[0;34m\u001b[0m\u001b[0m\n\u001b[1;32m    459\u001b[0m       \u001b[0mself\u001b[0m\u001b[0;34m.\u001b[0m\u001b[0m_self_setattr_tracking\u001b[0m \u001b[0;34m=\u001b[0m \u001b[0mprevious_value\u001b[0m  \u001b[0;31m# pylint: disable=protected-access\u001b[0m\u001b[0;34m\u001b[0m\u001b[0;34m\u001b[0m\u001b[0m\n",
      "\u001b[0;32m/usr/local/lib/python3.6/dist-packages/tensorflow_core/python/keras/engine/sequential.py\u001b[0m in \u001b[0;36m__init__\u001b[0;34m(self, layers, name)\u001b[0m\n\u001b[1;32m    111\u001b[0m       \u001b[0mtf_utils\u001b[0m\u001b[0;34m.\u001b[0m\u001b[0massert_no_legacy_layers\u001b[0m\u001b[0;34m(\u001b[0m\u001b[0mlayers\u001b[0m\u001b[0;34m)\u001b[0m\u001b[0;34m\u001b[0m\u001b[0;34m\u001b[0m\u001b[0m\n\u001b[1;32m    112\u001b[0m       \u001b[0;32mfor\u001b[0m \u001b[0mlayer\u001b[0m \u001b[0;32min\u001b[0m \u001b[0mlayers\u001b[0m\u001b[0;34m:\u001b[0m\u001b[0;34m\u001b[0m\u001b[0;34m\u001b[0m\u001b[0m\n\u001b[0;32m--> 113\u001b[0;31m         \u001b[0mself\u001b[0m\u001b[0;34m.\u001b[0m\u001b[0madd\u001b[0m\u001b[0;34m(\u001b[0m\u001b[0mlayer\u001b[0m\u001b[0;34m)\u001b[0m\u001b[0;34m\u001b[0m\u001b[0;34m\u001b[0m\u001b[0m\n\u001b[0m\u001b[1;32m    114\u001b[0m \u001b[0;34m\u001b[0m\u001b[0m\n\u001b[1;32m    115\u001b[0m   \u001b[0;34m@\u001b[0m\u001b[0mproperty\u001b[0m\u001b[0;34m\u001b[0m\u001b[0;34m\u001b[0m\u001b[0m\n",
      "\u001b[0;32m/usr/local/lib/python3.6/dist-packages/tensorflow_core/python/training/tracking/base.py\u001b[0m in \u001b[0;36m_method_wrapper\u001b[0;34m(self, *args, **kwargs)\u001b[0m\n\u001b[1;32m    455\u001b[0m     \u001b[0mself\u001b[0m\u001b[0;34m.\u001b[0m\u001b[0m_self_setattr_tracking\u001b[0m \u001b[0;34m=\u001b[0m \u001b[0;32mFalse\u001b[0m  \u001b[0;31m# pylint: disable=protected-access\u001b[0m\u001b[0;34m\u001b[0m\u001b[0;34m\u001b[0m\u001b[0m\n\u001b[1;32m    456\u001b[0m     \u001b[0;32mtry\u001b[0m\u001b[0;34m:\u001b[0m\u001b[0;34m\u001b[0m\u001b[0;34m\u001b[0m\u001b[0m\n\u001b[0;32m--> 457\u001b[0;31m       \u001b[0mresult\u001b[0m \u001b[0;34m=\u001b[0m \u001b[0mmethod\u001b[0m\u001b[0;34m(\u001b[0m\u001b[0mself\u001b[0m\u001b[0;34m,\u001b[0m \u001b[0;34m*\u001b[0m\u001b[0margs\u001b[0m\u001b[0;34m,\u001b[0m \u001b[0;34m**\u001b[0m\u001b[0mkwargs\u001b[0m\u001b[0;34m)\u001b[0m\u001b[0;34m\u001b[0m\u001b[0;34m\u001b[0m\u001b[0m\n\u001b[0m\u001b[1;32m    458\u001b[0m     \u001b[0;32mfinally\u001b[0m\u001b[0;34m:\u001b[0m\u001b[0;34m\u001b[0m\u001b[0;34m\u001b[0m\u001b[0m\n\u001b[1;32m    459\u001b[0m       \u001b[0mself\u001b[0m\u001b[0;34m.\u001b[0m\u001b[0m_self_setattr_tracking\u001b[0m \u001b[0;34m=\u001b[0m \u001b[0mprevious_value\u001b[0m  \u001b[0;31m# pylint: disable=protected-access\u001b[0m\u001b[0;34m\u001b[0m\u001b[0;34m\u001b[0m\u001b[0m\n",
      "\u001b[0;32m/usr/local/lib/python3.6/dist-packages/tensorflow_core/python/keras/engine/sequential.py\u001b[0m in \u001b[0;36madd\u001b[0;34m(self, layer)\u001b[0m\n\u001b[1;32m    171\u001b[0m           \u001b[0;31m# Instantiate an input layer.\u001b[0m\u001b[0;34m\u001b[0m\u001b[0;34m\u001b[0m\u001b[0;34m\u001b[0m\u001b[0m\n\u001b[1;32m    172\u001b[0m           x = input_layer.Input(\n\u001b[0;32m--> 173\u001b[0;31m               batch_shape=batch_shape, dtype=dtype, name=layer.name + '_input')\n\u001b[0m\u001b[1;32m    174\u001b[0m           \u001b[0;31m# This will build the current layer\u001b[0m\u001b[0;34m\u001b[0m\u001b[0;34m\u001b[0m\u001b[0;34m\u001b[0m\u001b[0m\n\u001b[1;32m    175\u001b[0m           \u001b[0;31m# and create the node connecting the current layer\u001b[0m\u001b[0;34m\u001b[0m\u001b[0;34m\u001b[0m\u001b[0;34m\u001b[0m\u001b[0m\n",
      "\u001b[0;32m/usr/local/lib/python3.6/dist-packages/tensorflow_core/python/keras/engine/input_layer.py\u001b[0m in \u001b[0;36mInput\u001b[0;34m(shape, batch_size, name, dtype, sparse, tensor, ragged, **kwargs)\u001b[0m\n\u001b[1;32m    263\u001b[0m                      'dimension.')\n\u001b[1;32m    264\u001b[0m \u001b[0;34m\u001b[0m\u001b[0m\n\u001b[0;32m--> 265\u001b[0;31m   \u001b[0minput_layer\u001b[0m \u001b[0;34m=\u001b[0m \u001b[0mInputLayer\u001b[0m\u001b[0;34m(\u001b[0m\u001b[0;34m**\u001b[0m\u001b[0minput_layer_config\u001b[0m\u001b[0;34m)\u001b[0m\u001b[0;34m\u001b[0m\u001b[0;34m\u001b[0m\u001b[0m\n\u001b[0m\u001b[1;32m    266\u001b[0m \u001b[0;34m\u001b[0m\u001b[0m\n\u001b[1;32m    267\u001b[0m   \u001b[0;31m# Return tensor including `_keras_history`.\u001b[0m\u001b[0;34m\u001b[0m\u001b[0;34m\u001b[0m\u001b[0;34m\u001b[0m\u001b[0m\n",
      "\u001b[0;32m/usr/local/lib/python3.6/dist-packages/tensorflow_core/python/keras/engine/input_layer.py\u001b[0m in \u001b[0;36m__init__\u001b[0;34m(self, input_shape, batch_size, dtype, input_tensor, sparse, name, ragged, **kwargs)\u001b[0m\n\u001b[1;32m    124\u001b[0m             \u001b[0mname\u001b[0m\u001b[0;34m=\u001b[0m\u001b[0mself\u001b[0m\u001b[0;34m.\u001b[0m\u001b[0mname\u001b[0m\u001b[0;34m,\u001b[0m\u001b[0;34m\u001b[0m\u001b[0;34m\u001b[0m\u001b[0m\n\u001b[1;32m    125\u001b[0m             \u001b[0msparse\u001b[0m\u001b[0;34m=\u001b[0m\u001b[0msparse\u001b[0m\u001b[0;34m,\u001b[0m\u001b[0;34m\u001b[0m\u001b[0;34m\u001b[0m\u001b[0m\n\u001b[0;32m--> 126\u001b[0;31m             ragged=ragged)\n\u001b[0m\u001b[1;32m    127\u001b[0m \u001b[0;34m\u001b[0m\u001b[0m\n\u001b[1;32m    128\u001b[0m       \u001b[0mself\u001b[0m\u001b[0;34m.\u001b[0m\u001b[0mis_placeholder\u001b[0m \u001b[0;34m=\u001b[0m \u001b[0;32mTrue\u001b[0m\u001b[0;34m\u001b[0m\u001b[0;34m\u001b[0m\u001b[0m\n",
      "\u001b[0;32m/usr/local/lib/python3.6/dist-packages/tensorflow_core/python/keras/backend.py\u001b[0m in \u001b[0;36mplaceholder\u001b[0;34m(shape, ndim, dtype, sparse, name, ragged)\u001b[0m\n\u001b[1;32m   1049\u001b[0m           name=name)\n\u001b[1;32m   1050\u001b[0m     \u001b[0;32melse\u001b[0m\u001b[0;34m:\u001b[0m\u001b[0;34m\u001b[0m\u001b[0;34m\u001b[0m\u001b[0m\n\u001b[0;32m-> 1051\u001b[0;31m       \u001b[0mx\u001b[0m \u001b[0;34m=\u001b[0m \u001b[0marray_ops\u001b[0m\u001b[0;34m.\u001b[0m\u001b[0mplaceholder\u001b[0m\u001b[0;34m(\u001b[0m\u001b[0mdtype\u001b[0m\u001b[0;34m,\u001b[0m \u001b[0mshape\u001b[0m\u001b[0;34m=\u001b[0m\u001b[0mshape\u001b[0m\u001b[0;34m,\u001b[0m \u001b[0mname\u001b[0m\u001b[0;34m=\u001b[0m\u001b[0mname\u001b[0m\u001b[0;34m)\u001b[0m\u001b[0;34m\u001b[0m\u001b[0;34m\u001b[0m\u001b[0m\n\u001b[0m\u001b[1;32m   1052\u001b[0m   \u001b[0;32mreturn\u001b[0m \u001b[0mx\u001b[0m\u001b[0;34m\u001b[0m\u001b[0;34m\u001b[0m\u001b[0m\n\u001b[1;32m   1053\u001b[0m \u001b[0;34m\u001b[0m\u001b[0m\n",
      "\u001b[0;32m/usr/local/lib/python3.6/dist-packages/tensorflow_core/python/ops/array_ops.py\u001b[0m in \u001b[0;36mplaceholder\u001b[0;34m(dtype, shape, name)\u001b[0m\n\u001b[1;32m   2617\u001b[0m                        \"eager execution.\")\n\u001b[1;32m   2618\u001b[0m \u001b[0;34m\u001b[0m\u001b[0m\n\u001b[0;32m-> 2619\u001b[0;31m   \u001b[0;32mreturn\u001b[0m \u001b[0mgen_array_ops\u001b[0m\u001b[0;34m.\u001b[0m\u001b[0mplaceholder\u001b[0m\u001b[0;34m(\u001b[0m\u001b[0mdtype\u001b[0m\u001b[0;34m=\u001b[0m\u001b[0mdtype\u001b[0m\u001b[0;34m,\u001b[0m \u001b[0mshape\u001b[0m\u001b[0;34m=\u001b[0m\u001b[0mshape\u001b[0m\u001b[0;34m,\u001b[0m \u001b[0mname\u001b[0m\u001b[0;34m=\u001b[0m\u001b[0mname\u001b[0m\u001b[0;34m)\u001b[0m\u001b[0;34m\u001b[0m\u001b[0;34m\u001b[0m\u001b[0m\n\u001b[0m\u001b[1;32m   2620\u001b[0m \u001b[0;34m\u001b[0m\u001b[0m\n\u001b[1;32m   2621\u001b[0m \u001b[0;34m\u001b[0m\u001b[0m\n",
      "\u001b[0;32m/usr/local/lib/python3.6/dist-packages/tensorflow_core/python/ops/gen_array_ops.py\u001b[0m in \u001b[0;36mplaceholder\u001b[0;34m(dtype, shape, name)\u001b[0m\n\u001b[1;32m   6665\u001b[0m   \u001b[0;32mif\u001b[0m \u001b[0mshape\u001b[0m \u001b[0;32mis\u001b[0m \u001b[0;32mNone\u001b[0m\u001b[0;34m:\u001b[0m\u001b[0;34m\u001b[0m\u001b[0;34m\u001b[0m\u001b[0m\n\u001b[1;32m   6666\u001b[0m     \u001b[0mshape\u001b[0m \u001b[0;34m=\u001b[0m \u001b[0;32mNone\u001b[0m\u001b[0;34m\u001b[0m\u001b[0;34m\u001b[0m\u001b[0m\n\u001b[0;32m-> 6667\u001b[0;31m   \u001b[0mshape\u001b[0m \u001b[0;34m=\u001b[0m \u001b[0m_execute\u001b[0m\u001b[0;34m.\u001b[0m\u001b[0mmake_shape\u001b[0m\u001b[0;34m(\u001b[0m\u001b[0mshape\u001b[0m\u001b[0;34m,\u001b[0m \u001b[0;34m\"shape\"\u001b[0m\u001b[0;34m)\u001b[0m\u001b[0;34m\u001b[0m\u001b[0;34m\u001b[0m\u001b[0m\n\u001b[0m\u001b[1;32m   6668\u001b[0m   _, _, _op = _op_def_lib._apply_op_helper(\n\u001b[1;32m   6669\u001b[0m         \"Placeholder\", dtype=dtype, shape=shape, name=name)\n",
      "\u001b[0;32m/usr/local/lib/python3.6/dist-packages/tensorflow_core/python/eager/execute.py\u001b[0m in \u001b[0;36mmake_shape\u001b[0;34m(v, arg_name)\u001b[0m\n\u001b[1;32m    206\u001b[0m     \u001b[0mshape\u001b[0m \u001b[0;34m=\u001b[0m \u001b[0mtensor_shape\u001b[0m\u001b[0;34m.\u001b[0m\u001b[0mas_shape\u001b[0m\u001b[0;34m(\u001b[0m\u001b[0mv\u001b[0m\u001b[0;34m)\u001b[0m\u001b[0;34m\u001b[0m\u001b[0;34m\u001b[0m\u001b[0m\n\u001b[1;32m    207\u001b[0m   \u001b[0;32mexcept\u001b[0m \u001b[0mTypeError\u001b[0m \u001b[0;32mas\u001b[0m \u001b[0me\u001b[0m\u001b[0;34m:\u001b[0m\u001b[0;34m\u001b[0m\u001b[0;34m\u001b[0m\u001b[0m\n\u001b[0;32m--> 208\u001b[0;31m     \u001b[0;32mraise\u001b[0m \u001b[0mTypeError\u001b[0m\u001b[0;34m(\u001b[0m\u001b[0;34m\"Error converting %s to a TensorShape: %s.\"\u001b[0m \u001b[0;34m%\u001b[0m \u001b[0;34m(\u001b[0m\u001b[0marg_name\u001b[0m\u001b[0;34m,\u001b[0m \u001b[0me\u001b[0m\u001b[0;34m)\u001b[0m\u001b[0;34m)\u001b[0m\u001b[0;34m\u001b[0m\u001b[0;34m\u001b[0m\u001b[0m\n\u001b[0m\u001b[1;32m    209\u001b[0m   \u001b[0;32mexcept\u001b[0m \u001b[0mValueError\u001b[0m \u001b[0;32mas\u001b[0m \u001b[0me\u001b[0m\u001b[0;34m:\u001b[0m\u001b[0;34m\u001b[0m\u001b[0;34m\u001b[0m\u001b[0m\n\u001b[1;32m    210\u001b[0m     raise ValueError(\"Error converting %s to a TensorShape: %s.\" % (arg_name,\n",
      "\u001b[0;31mTypeError\u001b[0m: Error converting shape to a TensorShape: int() argument must be a string, a bytes-like object or a number, not 'tuple'."
     ]
    }
   ],
   "source": [
    "model = tf.keras.Sequential([\n",
    "    Convolution2D(filters=32, kernel_size = (3,3), input_shape=((450,19),), activation=\"relu\"),\n",
    "    MaxPooling2D(pool_size=(2,2))\n",
    "#     Flatten(),\n",
    "#     Dense(450, activation='relu'),\n",
    "#     Dense(1)\n",
    "])\n",
    "\n",
    "# n_features = (450, 19)\n",
    "\n",
    "# model = tf.keras.Sequential()\n",
    "# model.add(tf.keras.layers.Dense(10, activation='relu', kernel_initializer='he_normal', input_shape=(n_features,)))\n",
    "# model.add(tf.keras.layers.Dense(8, activation='relu', kernel_initializer='he_normal'))\n",
    "# model.add(tf.keras.layers.Dense(1))\n",
    "\n",
    "# model = tf.keras.Sequential([\n",
    "#     tf.keras.layers.Dense(10, activation='relu', kernel_initializer='he_normal', input_shape=((450, 19),)),\n",
    "#     tf.keras.layers.Dense(8, activation='relu', kernel_initializer='he_normal'),\n",
    "#     tf.keras.layers.Dense(1)\n",
    "# ])\n"
   ]
  },
  {
   "cell_type": "code",
   "execution_count": 186,
   "metadata": {},
   "outputs": [],
   "source": [
    "model.compile(loss=\"mse\", optimizer=tf.keras.optimizers.Adam(0.001), metrics=[\"mse\", \"mae\"])"
   ]
  },
  {
   "cell_type": "code",
   "execution_count": 187,
   "metadata": {},
   "outputs": [
    {
     "name": "stdout",
     "output_type": "stream",
     "text": [
      "Model: \"sequential_8\"\n",
      "_________________________________________________________________\n",
      "Layer (type)                 Output Shape              Param #   \n",
      "=================================================================\n",
      "flatten_3 (Flatten)          (None, 8550)              0         \n",
      "_________________________________________________________________\n",
      "dense_16 (Dense)             (None, 64)                547264    \n",
      "_________________________________________________________________\n",
      "dense_17 (Dense)             (None, 64)                4160      \n",
      "_________________________________________________________________\n",
      "dense_18 (Dense)             (None, 1)                 65        \n",
      "=================================================================\n",
      "Total params: 551,489\n",
      "Trainable params: 551,489\n",
      "Non-trainable params: 0\n",
      "_________________________________________________________________\n"
     ]
    }
   ],
   "source": [
    "model.summary()"
   ]
  },
  {
   "cell_type": "code",
   "execution_count": 173,
   "metadata": {},
   "outputs": [
    {
     "name": "stdout",
     "output_type": "stream",
     "text": [
      "Train on 16 samples\n",
      "Epoch 1/100\n",
      "16/16 [==============================] - 0s 19ms/sample - loss: 647.5000 - mean_squared_error: 647.5000 - mean_absolute_error: 23.5000\n",
      "Epoch 2/100\n",
      "16/16 [==============================] - 0s 1ms/sample - loss: 647.4530 - mean_squared_error: 647.4530 - mean_absolute_error: 23.4990\n",
      "Epoch 3/100\n",
      "16/16 [==============================] - 0s 2ms/sample - loss: 647.4060 - mean_squared_error: 647.4060 - mean_absolute_error: 23.4980\n",
      "Epoch 4/100\n",
      "16/16 [==============================] - 0s 2ms/sample - loss: 647.3590 - mean_squared_error: 647.3590 - mean_absolute_error: 23.4970\n",
      "Epoch 5/100\n",
      "16/16 [==============================] - 0s 3ms/sample - loss: 647.3120 - mean_squared_error: 647.3120 - mean_absolute_error: 23.4960\n",
      "Epoch 6/100\n",
      "16/16 [==============================] - 0s 2ms/sample - loss: 647.2650 - mean_squared_error: 647.2650 - mean_absolute_error: 23.4950\n",
      "Epoch 7/100\n",
      "16/16 [==============================] - 0s 2ms/sample - loss: 647.2180 - mean_squared_error: 647.2180 - mean_absolute_error: 23.4940\n",
      "Epoch 8/100\n",
      "16/16 [==============================] - 0s 2ms/sample - loss: 647.1710 - mean_squared_error: 647.1710 - mean_absolute_error: 23.4930\n",
      "Epoch 9/100\n",
      "16/16 [==============================] - 0s 3ms/sample - loss: 647.1241 - mean_squared_error: 647.1241 - mean_absolute_error: 23.4920\n",
      "Epoch 10/100\n",
      "16/16 [==============================] - 0s 3ms/sample - loss: 647.0771 - mean_squared_error: 647.0771 - mean_absolute_error: 23.4910\n",
      "Epoch 11/100\n",
      "16/16 [==============================] - 0s 2ms/sample - loss: 647.0302 - mean_squared_error: 647.0302 - mean_absolute_error: 23.4900\n",
      "Epoch 12/100\n",
      "16/16 [==============================] - 0s 1ms/sample - loss: 646.9830 - mean_squared_error: 646.9830 - mean_absolute_error: 23.4890\n",
      "Epoch 13/100\n",
      "16/16 [==============================] - 0s 2ms/sample - loss: 646.9362 - mean_squared_error: 646.9362 - mean_absolute_error: 23.4880\n",
      "Epoch 14/100\n",
      "16/16 [==============================] - 0s 2ms/sample - loss: 646.8892 - mean_squared_error: 646.8892 - mean_absolute_error: 23.4870\n",
      "Epoch 15/100\n",
      "16/16 [==============================] - 0s 2ms/sample - loss: 646.8422 - mean_squared_error: 646.8422 - mean_absolute_error: 23.4860\n",
      "Epoch 16/100\n",
      "16/16 [==============================] - 0s 3ms/sample - loss: 646.7953 - mean_squared_error: 646.7953 - mean_absolute_error: 23.4850\n",
      "Epoch 17/100\n",
      "16/16 [==============================] - 0s 1ms/sample - loss: 646.7483 - mean_squared_error: 646.7483 - mean_absolute_error: 23.4840\n",
      "Epoch 18/100\n",
      "16/16 [==============================] - 0s 2ms/sample - loss: 646.7013 - mean_squared_error: 646.7013 - mean_absolute_error: 23.4830\n",
      "Epoch 19/100\n",
      "16/16 [==============================] - 0s 2ms/sample - loss: 646.6544 - mean_squared_error: 646.6544 - mean_absolute_error: 23.4820\n",
      "Epoch 20/100\n",
      "16/16 [==============================] - 0s 2ms/sample - loss: 646.6074 - mean_squared_error: 646.6074 - mean_absolute_error: 23.4810\n",
      "Epoch 21/100\n",
      "16/16 [==============================] - 0s 2ms/sample - loss: 646.5604 - mean_squared_error: 646.5604 - mean_absolute_error: 23.4800\n",
      "Epoch 22/100\n",
      "16/16 [==============================] - 0s 2ms/sample - loss: 646.5135 - mean_squared_error: 646.5135 - mean_absolute_error: 23.4790\n",
      "Epoch 23/100\n",
      "16/16 [==============================] - 0s 1ms/sample - loss: 646.4665 - mean_squared_error: 646.4665 - mean_absolute_error: 23.4780\n",
      "Epoch 24/100\n",
      "16/16 [==============================] - 0s 2ms/sample - loss: 646.4196 - mean_squared_error: 646.4196 - mean_absolute_error: 23.4770\n",
      "Epoch 25/100\n",
      "16/16 [==============================] - 0s 2ms/sample - loss: 646.3727 - mean_squared_error: 646.3727 - mean_absolute_error: 23.4760\n",
      "Epoch 26/100\n",
      "16/16 [==============================] - 0s 2ms/sample - loss: 646.3257 - mean_squared_error: 646.3257 - mean_absolute_error: 23.4750\n",
      "Epoch 27/100\n",
      "16/16 [==============================] - 0s 2ms/sample - loss: 646.2788 - mean_squared_error: 646.2788 - mean_absolute_error: 23.4740\n",
      "Epoch 28/100\n",
      "16/16 [==============================] - 0s 2ms/sample - loss: 646.2318 - mean_squared_error: 646.2318 - mean_absolute_error: 23.4730\n",
      "Epoch 29/100\n",
      "16/16 [==============================] - 0s 2ms/sample - loss: 646.1849 - mean_squared_error: 646.1849 - mean_absolute_error: 23.4720\n",
      "Epoch 30/100\n",
      "16/16 [==============================] - 0s 2ms/sample - loss: 646.1380 - mean_squared_error: 646.1380 - mean_absolute_error: 23.4710\n",
      "Epoch 31/100\n",
      "16/16 [==============================] - 0s 3ms/sample - loss: 646.0910 - mean_squared_error: 646.0910 - mean_absolute_error: 23.4700\n",
      "Epoch 32/100\n",
      "16/16 [==============================] - 0s 2ms/sample - loss: 646.0441 - mean_squared_error: 646.0441 - mean_absolute_error: 23.4690\n",
      "Epoch 33/100\n",
      "16/16 [==============================] - 0s 4ms/sample - loss: 645.9972 - mean_squared_error: 645.9972 - mean_absolute_error: 23.4680\n",
      "Epoch 34/100\n",
      "16/16 [==============================] - 0s 2ms/sample - loss: 645.9503 - mean_squared_error: 645.9503 - mean_absolute_error: 23.4670\n",
      "Epoch 35/100\n",
      "16/16 [==============================] - 0s 2ms/sample - loss: 645.9033 - mean_squared_error: 645.9033 - mean_absolute_error: 23.4660\n",
      "Epoch 36/100\n",
      "16/16 [==============================] - 0s 2ms/sample - loss: 645.8564 - mean_squared_error: 645.8564 - mean_absolute_error: 23.4650\n",
      "Epoch 37/100\n",
      "16/16 [==============================] - 0s 1ms/sample - loss: 645.8095 - mean_squared_error: 645.8095 - mean_absolute_error: 23.4640\n",
      "Epoch 38/100\n",
      "16/16 [==============================] - 0s 1ms/sample - loss: 645.7626 - mean_squared_error: 645.7626 - mean_absolute_error: 23.4630\n",
      "Epoch 39/100\n",
      "16/16 [==============================] - 0s 2ms/sample - loss: 645.7157 - mean_squared_error: 645.7157 - mean_absolute_error: 23.4620\n",
      "Epoch 40/100\n",
      "16/16 [==============================] - 0s 3ms/sample - loss: 645.6688 - mean_squared_error: 645.6688 - mean_absolute_error: 23.4610\n",
      "Epoch 41/100\n",
      "16/16 [==============================] - 0s 2ms/sample - loss: 645.6219 - mean_squared_error: 645.6219 - mean_absolute_error: 23.4600\n",
      "Epoch 42/100\n",
      "16/16 [==============================] - 0s 1ms/sample - loss: 645.5751 - mean_squared_error: 645.5751 - mean_absolute_error: 23.4590\n",
      "Epoch 43/100\n",
      "16/16 [==============================] - 0s 2ms/sample - loss: 645.5281 - mean_squared_error: 645.5281 - mean_absolute_error: 23.4580\n",
      "Epoch 44/100\n",
      "16/16 [==============================] - 0s 1ms/sample - loss: 645.4812 - mean_squared_error: 645.4812 - mean_absolute_error: 23.4570\n",
      "Epoch 45/100\n",
      "16/16 [==============================] - 0s 2ms/sample - loss: 645.4343 - mean_squared_error: 645.4343 - mean_absolute_error: 23.4560\n",
      "Epoch 46/100\n",
      "16/16 [==============================] - 0s 1ms/sample - loss: 645.3875 - mean_squared_error: 645.3875 - mean_absolute_error: 23.4550\n",
      "Epoch 47/100\n",
      "16/16 [==============================] - 0s 1ms/sample - loss: 645.3406 - mean_squared_error: 645.3406 - mean_absolute_error: 23.4540\n",
      "Epoch 48/100\n",
      "16/16 [==============================] - 0s 3ms/sample - loss: 645.2937 - mean_squared_error: 645.2937 - mean_absolute_error: 23.4530\n",
      "Epoch 49/100\n",
      "16/16 [==============================] - 0s 4ms/sample - loss: 645.2468 - mean_squared_error: 645.2468 - mean_absolute_error: 23.4520\n",
      "Epoch 50/100\n",
      "16/16 [==============================] - 0s 2ms/sample - loss: 645.2000 - mean_squared_error: 645.2000 - mean_absolute_error: 23.4510\n",
      "Epoch 51/100\n",
      "16/16 [==============================] - 0s 1ms/sample - loss: 645.1531 - mean_squared_error: 645.1531 - mean_absolute_error: 23.4500\n",
      "Epoch 52/100\n",
      "16/16 [==============================] - 0s 2ms/sample - loss: 645.1062 - mean_squared_error: 645.1062 - mean_absolute_error: 23.4490\n",
      "Epoch 53/100\n",
      "16/16 [==============================] - 0s 2ms/sample - loss: 645.0593 - mean_squared_error: 645.0593 - mean_absolute_error: 23.4480\n",
      "Epoch 54/100\n",
      "16/16 [==============================] - 0s 2ms/sample - loss: 645.0125 - mean_squared_error: 645.0125 - mean_absolute_error: 23.4470\n",
      "Epoch 55/100\n",
      "16/16 [==============================] - 0s 1ms/sample - loss: 644.9656 - mean_squared_error: 644.9656 - mean_absolute_error: 23.4460\n",
      "Epoch 56/100\n",
      "16/16 [==============================] - 0s 2ms/sample - loss: 644.9188 - mean_squared_error: 644.9188 - mean_absolute_error: 23.4450\n"
     ]
    },
    {
     "name": "stdout",
     "output_type": "stream",
     "text": [
      "Epoch 57/100\n",
      "16/16 [==============================] - 0s 2ms/sample - loss: 644.8719 - mean_squared_error: 644.8719 - mean_absolute_error: 23.4440\n",
      "Epoch 58/100\n",
      "16/16 [==============================] - 0s 2ms/sample - loss: 644.8251 - mean_squared_error: 644.8251 - mean_absolute_error: 23.4430\n",
      "Epoch 59/100\n",
      "16/16 [==============================] - 0s 3ms/sample - loss: 644.7783 - mean_squared_error: 644.7783 - mean_absolute_error: 23.4420\n",
      "Epoch 60/100\n",
      "16/16 [==============================] - 0s 2ms/sample - loss: 644.7314 - mean_squared_error: 644.7314 - mean_absolute_error: 23.4410\n",
      "Epoch 61/100\n",
      "16/16 [==============================] - 0s 2ms/sample - loss: 644.6846 - mean_squared_error: 644.6846 - mean_absolute_error: 23.4400\n",
      "Epoch 62/100\n",
      "16/16 [==============================] - 0s 2ms/sample - loss: 644.6377 - mean_squared_error: 644.6377 - mean_absolute_error: 23.4390\n",
      "Epoch 63/100\n",
      "16/16 [==============================] - 0s 2ms/sample - loss: 644.5909 - mean_squared_error: 644.5909 - mean_absolute_error: 23.4380\n",
      "Epoch 64/100\n",
      "16/16 [==============================] - 0s 1ms/sample - loss: 644.5441 - mean_squared_error: 644.5441 - mean_absolute_error: 23.4370\n",
      "Epoch 65/100\n",
      "16/16 [==============================] - 0s 2ms/sample - loss: 644.4972 - mean_squared_error: 644.4972 - mean_absolute_error: 23.4360\n",
      "Epoch 66/100\n",
      "16/16 [==============================] - 0s 1ms/sample - loss: 644.4504 - mean_squared_error: 644.4504 - mean_absolute_error: 23.4350\n",
      "Epoch 67/100\n",
      "16/16 [==============================] - 0s 1ms/sample - loss: 644.4036 - mean_squared_error: 644.4036 - mean_absolute_error: 23.4340\n",
      "Epoch 68/100\n",
      "16/16 [==============================] - 0s 1ms/sample - loss: 644.3567 - mean_squared_error: 644.3567 - mean_absolute_error: 23.4330\n",
      "Epoch 69/100\n",
      "16/16 [==============================] - 0s 2ms/sample - loss: 644.3099 - mean_squared_error: 644.3099 - mean_absolute_error: 23.4320\n",
      "Epoch 70/100\n",
      "16/16 [==============================] - 0s 2ms/sample - loss: 644.2631 - mean_squared_error: 644.2631 - mean_absolute_error: 23.4310\n",
      "Epoch 71/100\n",
      "16/16 [==============================] - 0s 2ms/sample - loss: 644.2163 - mean_squared_error: 644.2163 - mean_absolute_error: 23.4300\n",
      "Epoch 72/100\n",
      "16/16 [==============================] - 0s 1ms/sample - loss: 644.1695 - mean_squared_error: 644.1695 - mean_absolute_error: 23.4290\n",
      "Epoch 73/100\n",
      "16/16 [==============================] - 0s 1ms/sample - loss: 644.1227 - mean_squared_error: 644.1227 - mean_absolute_error: 23.4280\n",
      "Epoch 74/100\n",
      "16/16 [==============================] - 0s 1ms/sample - loss: 644.0759 - mean_squared_error: 644.0759 - mean_absolute_error: 23.4270\n",
      "Epoch 75/100\n",
      "16/16 [==============================] - 0s 2ms/sample - loss: 644.0291 - mean_squared_error: 644.0291 - mean_absolute_error: 23.4260\n",
      "Epoch 76/100\n",
      "16/16 [==============================] - 0s 2ms/sample - loss: 643.9823 - mean_squared_error: 643.9823 - mean_absolute_error: 23.4250\n",
      "Epoch 77/100\n",
      "16/16 [==============================] - 0s 1ms/sample - loss: 643.9355 - mean_squared_error: 643.9355 - mean_absolute_error: 23.4240\n",
      "Epoch 78/100\n",
      "16/16 [==============================] - 0s 2ms/sample - loss: 643.8887 - mean_squared_error: 643.8887 - mean_absolute_error: 23.4230\n",
      "Epoch 79/100\n",
      "16/16 [==============================] - 0s 3ms/sample - loss: 643.8419 - mean_squared_error: 643.8419 - mean_absolute_error: 23.4220\n",
      "Epoch 80/100\n",
      "16/16 [==============================] - 0s 2ms/sample - loss: 643.7952 - mean_squared_error: 643.7952 - mean_absolute_error: 23.4210\n",
      "Epoch 81/100\n",
      "16/16 [==============================] - 0s 2ms/sample - loss: 643.7484 - mean_squared_error: 643.7484 - mean_absolute_error: 23.4200\n",
      "Epoch 82/100\n",
      "16/16 [==============================] - 0s 2ms/sample - loss: 643.7017 - mean_squared_error: 643.7017 - mean_absolute_error: 23.4190\n",
      "Epoch 83/100\n",
      "16/16 [==============================] - 0s 2ms/sample - loss: 643.6548 - mean_squared_error: 643.6548 - mean_absolute_error: 23.4180\n",
      "Epoch 84/100\n",
      "16/16 [==============================] - 0s 2ms/sample - loss: 643.6080 - mean_squared_error: 643.6080 - mean_absolute_error: 23.4170\n",
      "Epoch 85/100\n",
      "16/16 [==============================] - 0s 2ms/sample - loss: 643.5613 - mean_squared_error: 643.5613 - mean_absolute_error: 23.4160\n",
      "Epoch 86/100\n",
      "16/16 [==============================] - 0s 2ms/sample - loss: 643.5145 - mean_squared_error: 643.5145 - mean_absolute_error: 23.4151\n",
      "Epoch 87/100\n",
      "16/16 [==============================] - 0s 2ms/sample - loss: 643.4678 - mean_squared_error: 643.4678 - mean_absolute_error: 23.4141\n",
      "Epoch 88/100\n",
      "16/16 [==============================] - 0s 2ms/sample - loss: 643.4210 - mean_squared_error: 643.4210 - mean_absolute_error: 23.4131\n",
      "Epoch 89/100\n",
      "16/16 [==============================] - 0s 3ms/sample - loss: 643.3741 - mean_squared_error: 643.3741 - mean_absolute_error: 23.4121\n",
      "Epoch 90/100\n",
      "16/16 [==============================] - 0s 2ms/sample - loss: 643.3274 - mean_squared_error: 643.3274 - mean_absolute_error: 23.4111\n",
      "Epoch 91/100\n",
      "16/16 [==============================] - 0s 2ms/sample - loss: 643.2807 - mean_squared_error: 643.2807 - mean_absolute_error: 23.4101\n",
      "Epoch 92/100\n",
      "16/16 [==============================] - 0s 2ms/sample - loss: 643.2340 - mean_squared_error: 643.2340 - mean_absolute_error: 23.4091\n",
      "Epoch 93/100\n",
      "16/16 [==============================] - 0s 1ms/sample - loss: 643.1872 - mean_squared_error: 643.1872 - mean_absolute_error: 23.4081\n",
      "Epoch 94/100\n",
      "16/16 [==============================] - 0s 2ms/sample - loss: 643.1405 - mean_squared_error: 643.1405 - mean_absolute_error: 23.4071\n",
      "Epoch 95/100\n",
      "16/16 [==============================] - 0s 2ms/sample - loss: 643.0938 - mean_squared_error: 643.0938 - mean_absolute_error: 23.4061\n",
      "Epoch 96/100\n",
      "16/16 [==============================] - 0s 2ms/sample - loss: 643.0470 - mean_squared_error: 643.0470 - mean_absolute_error: 23.4051\n",
      "Epoch 97/100\n",
      "16/16 [==============================] - 0s 2ms/sample - loss: 643.0002 - mean_squared_error: 643.0002 - mean_absolute_error: 23.4041\n",
      "Epoch 98/100\n",
      "16/16 [==============================] - 0s 2ms/sample - loss: 642.9536 - mean_squared_error: 642.9536 - mean_absolute_error: 23.4031\n",
      "Epoch 99/100\n",
      "16/16 [==============================] - 0s 2ms/sample - loss: 642.9069 - mean_squared_error: 642.9069 - mean_absolute_error: 23.4021\n",
      "Epoch 100/100\n",
      "16/16 [==============================] - 0s 2ms/sample - loss: 642.8601 - mean_squared_error: 642.8601 - mean_absolute_error: 23.4011\n"
     ]
    }
   ],
   "source": [
    "history = model.fit(X_train, Y_train, epochs=100)"
   ]
  },
  {
   "cell_type": "code",
   "execution_count": 174,
   "metadata": {},
   "outputs": [
    {
     "data": {
      "text/plain": [
       "[<matplotlib.lines.Line2D at 0x7ef3a26d68>]"
      ]
     },
     "execution_count": 174,
     "metadata": {},
     "output_type": "execute_result"
    },
    {
     "data": {
      "image/png": "[encoded data removed]",
      "text/plain": [
       "<matplotlib.figure.Figure at 0x7f04038d68>"
      ]
     },
     "metadata": {
      "needs_background": "light"
     },
     "output_type": "display_data"
    }
   ],
   "source": [
    "plt.plot(history.history['mean_squared_error'])"
   ]
  },
  {
   "cell_type": "code",
   "execution_count": 149,
   "metadata": {},
   "outputs": [
    {
     "name": "stdout",
     "output_type": "stream",
     "text": [
      "\r",
      "3/3 [==============================] - 0s 61ms/sample - loss: 16.5233 - mean_squared_error: 279.2430 - mean_absolute_error: 16.5233\n"
     ]
    },
    {
     "data": {
      "text/plain": [
       "[16.523340225219727, 279.243, 16.52334]"
      ]
     },
     "execution_count": 149,
     "metadata": {},
     "output_type": "execute_result"
    }
   ],
   "source": [
    "model.evaluate(X_test, Y_test)"
   ]
  },
  {
   "cell_type": "code",
   "execution_count": 175,
   "metadata": {},
   "outputs": [
    {
     "data": {
      "text/plain": [
       "array([[0.09992807],\n",
       "       [0.09992807],\n",
       "       [0.09992807]], dtype=float32)"
      ]
     },
     "execution_count": 175,
     "metadata": {},
     "output_type": "execute_result"
    }
   ],
   "source": [
    "model.predict(X_test)"
   ]
  },
  {
   "cell_type": "code",
   "execution_count": 152,
   "metadata": {},
   "outputs": [
    {
     "data": {
      "text/plain": [
       "array([14, 20, 18])"
      ]
     },
     "execution_count": 152,
     "metadata": {},
     "output_type": "execute_result"
    }
   ],
   "source": [
    "Y_test"
   ]
  },
  {
   "cell_type": "code",
   "execution_count": 167,
   "metadata": {},
   "outputs": [
    {
     "data": {
      "text/plain": [
       "array([[0.9099187],\n",
       "       [0.9099187],\n",
       "       [0.9099187]], dtype=float32)"
      ]
     },
     "execution_count": 167,
     "metadata": {},
     "output_type": "execute_result"
    }
   ],
   "source": [
    "test_pred"
   ]
  },
  {
   "cell_type": "markdown",
   "metadata": {},
   "source": [
    "## Example plots"
   ]
  },
  {
   "cell_type": "code",
   "execution_count": 21,
   "metadata": {},
   "outputs": [],
   "source": [
    "r_ear = []\n",
    "\n",
    "for i in range(len(data.kpoints)):\n",
    "    r_ear.append(data.kpoints[i][4][2])"
   ]
  },
  {
   "cell_type": "code",
   "execution_count": 24,
   "metadata": {},
   "outputs": [
    {
     "data": {
      "text/plain": [
       "Text(0.5,1,'R ear')"
      ]
     },
     "execution_count": 24,
     "metadata": {},
     "output_type": "execute_result"
    },
    {
     "data": {
      "image/png": "[encoded data removed]",
      "text/plain": [
       "<matplotlib.figure.Figure at 0x7f8e83ce48>"
      ]
     },
     "metadata": {
      "needs_background": "light"
     },
     "output_type": "display_data"
    }
   ],
   "source": [
    "plt.scatter(data.time.values, r_ear)\n",
    "plt.title(\"R ear\")"
   ]
  },
  {
   "cell_type": "code",
   "execution_count": 58,
   "metadata": {},
   "outputs": [
    {
     "data": {
      "text/plain": [
       "Text(0.5,1,'R shoulder')"
      ]
     },
     "execution_count": 58,
     "metadata": {},
     "output_type": "execute_result"
    },
    {
     "data": {
      "image/png": "[encoded data removed]",
      "text/plain": [
       "<matplotlib.figure.Figure at 0x7f8c20c438>"
      ]
     },
     "metadata": {
      "needs_background": "light"
     },
     "output_type": "display_data"
    }
   ],
   "source": [
    "data = pd.read_csv(kp_files[4], sep=\"\\t\", header=None)\n",
    "data.columns = [\"time\", \"kpoints\", \"count\", \"fps\"]\n",
    "data.kpoints = data.kpoints.apply(lambda x: ast.literal_eval(x.strip(\"()\")))\n",
    "\n",
    "r_shoulder = []\n",
    "\n",
    "for i in range(len(data.kpoints)):\n",
    "    r_shoulder.append(data.kpoints[i][3][2])\n",
    "    \n",
    "plt.scatter(data.time.values, r_shoulder)\n",
    "plt.title(\"R shoulder\")"
   ]
  },
  {
   "cell_type": "code",
   "execution_count": null,
   "metadata": {},
   "outputs": [],
   "source": []
  }
 ],
 "metadata": {
  "kernelspec": {
   "display_name": "Python 3",
   "language": "python",
   "name": "python3"
  },
  "language_info": {
   "codemirror_mode": {
    "name": "ipython",
    "version": 3
   },
   "file_extension": ".py",
   "mimetype": "text/x-python",
   "name": "python",
   "nbconvert_exporter": "python",
   "pygments_lexer": "ipython3",
   "version": "3.6.9"
  }
 },
 "nbformat": 4,
 "nbformat_minor": 4
}
