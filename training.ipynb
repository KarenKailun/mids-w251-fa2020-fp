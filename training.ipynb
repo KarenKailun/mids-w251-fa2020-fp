{
 "cells": [
  {
   "cell_type": "code",
   "execution_count": 1,
   "metadata": {},
   "outputs": [
    {
     "name": "stdout",
     "output_type": "stream",
     "text": [
      "WARNING:tensorflow:Deprecation warnings have been disabled. Set TF_ENABLE_DEPRECATION_WARNINGS=1 to re-enable them.\n"
     ]
    }
   ],
   "source": [
    "import numpy as np\n",
    "import glob\n",
    "import pandas as pd\n",
    "import ast\n",
    "import matplotlib.pyplot as plt\n",
    "from sklearn.model_selection import train_test_split\n",
    "\n",
    "import tensorflow as tf\n",
    "from tensorflow.keras.layers import Convolution2D, MaxPooling2D, Flatten, Dense\n"
   ]
  },
  {
   "cell_type": "code",
   "execution_count": 7,
   "metadata": {},
   "outputs": [],
   "source": [
    "datapath = \"../keypoints/\""
   ]
  },
  {
   "cell_type": "code",
   "execution_count": 8,
   "metadata": {},
   "outputs": [],
   "source": [
    "kp_files = glob.glob(datapath + '*.txt')"
   ]
  },
  {
   "cell_type": "code",
   "execution_count": 9,
   "metadata": {},
   "outputs": [],
   "source": [
    "# Get labels from file names\n",
    "labels = [int(x.split('_')[0].split(\"/\")[-1]) for x in kp_files]"
   ]
  },
  {
   "cell_type": "code",
   "execution_count": 10,
   "metadata": {},
   "outputs": [
    {
     "data": {
      "text/plain": [
       "259"
      ]
     },
     "execution_count": 10,
     "metadata": {},
     "output_type": "execute_result"
    }
   ],
   "source": [
    "# read in text files\n",
    "len(labels)"
   ]
  },
  {
   "cell_type": "code",
   "execution_count": 40,
   "metadata": {},
   "outputs": [],
   "source": [
    "#TESTING\n",
    "kp_ind = [0, 1, 2, 3, 4, 5, 6, 7, 17]\n",
    "\n",
    "features = []\n",
    "\n",
    "for file in kp_files:\n",
    "    '''\n",
    "    Note --- arrays are clipped at 440, because there's some variation around the dimension that is ~450\n",
    "    '''\n",
    "    \n",
    "    data = pd.read_csv(file, sep=\"\\t\", header=None)\n",
    "    data.columns = [\"time\", \"kpoints\", \"count\", \"fps\"]\n",
    "    data.kpoints = data.kpoints.apply(lambda x: ast.literal_eval(x.strip(\"()\")))\n",
    "    times = [t-data.time[0] for t in data.time[0:440]]\n",
    "    \n",
    "    sel_kp = []\n",
    "    \n",
    "    channels = np.empty((len(times), 2))\n",
    "\n",
    "    for kp_i in kp_ind:\n",
    "\n",
    "        times = [t-data.time[0] for t in data.time]\n",
    "\n",
    "        tcol = []\n",
    "        ycol = []\n",
    "\n",
    "        for t_i in range(len(times)):\n",
    "            tp = times[t_i]\n",
    "            y = data.kpoints[t_i][kp_i][2]\n",
    "\n",
    "            tcol.append(tp)\n",
    "\n",
    "            if y is None:\n",
    "                ycol.append(float(0))\n",
    "            else:\n",
    "                ycol.append(y)\n",
    "\n",
    "        tcol = np.array(tcol[0:440]).reshape(440, 1)\n",
    "        ycol = np.array(ycol[0:440]).reshape(440, 1)\n",
    "\n",
    "        sel_kp = np.hstack((tcol, ycol))\n",
    "\n",
    "        channels = np.dstack((channels, sel_kp))\n",
    "\n",
    "    channels = channels[:, :, 1:]\n",
    "\n",
    "    features.append(channels)"
   ]
  },
  {
   "cell_type": "code",
   "execution_count": 41,
   "metadata": {},
   "outputs": [
    {
     "data": {
      "text/plain": [
       "259"
      ]
     },
     "execution_count": 41,
     "metadata": {},
     "output_type": "execute_result"
    }
   ],
   "source": [
    "len(features)"
   ]
  },
  {
   "cell_type": "code",
   "execution_count": 42,
   "metadata": {},
   "outputs": [
    {
     "data": {
      "text/plain": [
       "(440, 2, 9)"
      ]
     },
     "execution_count": 42,
     "metadata": {},
     "output_type": "execute_result"
    }
   ],
   "source": [
    "features[0].shape"
   ]
  },
  {
   "cell_type": "code",
   "execution_count": 99,
   "metadata": {},
   "outputs": [
    {
     "data": {
      "image/png": "[encoded data removed]",
      "text/plain": [
       "<matplotlib.figure.Figure at 0x7f5eafe198>"
      ]
     },
     "metadata": {
      "needs_background": "light"
     },
     "output_type": "display_data"
    },
    {
     "data": {
      "text/plain": [
       "(0.7148, 0.72)"
      ]
     },
     "execution_count": 99,
     "metadata": {},
     "output_type": "execute_result"
    },
    {
     "data": {
      "image/png": "[encoded data removed]",
      "text/plain": [
       "<matplotlib.figure.Figure at 0x7f40420160>"
      ]
     },
     "metadata": {
      "needs_background": "light"
     },
     "output_type": "display_data"
    }
   ],
   "source": [
    "# Check to make sure channels are structured correctly\n",
    "plt.scatter(features[5][:, 0, 5], features[5][:, 1, 5])\n",
    "plt.ylim(.775, .782)\n",
    "plt.xlim(0, 5)\n",
    "plt.show()\n",
    "\n",
    "plt.scatter(features[9][:, 0, 5], features[9][:, 1, 5])\n",
    "plt.xlim(0, 5)\n",
    "plt.ylim(.7148, .72)"
   ]
  },
  {
   "cell_type": "code",
   "execution_count": 76,
   "metadata": {},
   "outputs": [],
   "source": [
    "# # # SAVE DATA\n",
    "# with open('features.txt', 'w') as filehandle:\n",
    "#     for listitem in features:\n",
    "#         filehandle.write('%s\\n' % listitem)\n",
    "\n",
    "# with open('labels.txt', 'w') as filehandle:\n",
    "#     for listitem in labels:\n",
    "#         filehandle.write('%s\\n' % listitem)"
   ]
  },
  {
   "cell_type": "code",
   "execution_count": 88,
   "metadata": {},
   "outputs": [],
   "source": [
    "# Save data, again\n",
    "\n",
    "import pickle\n",
    "pickle.dump(features, open(\"feat2.txt\", \"wb\"))\n",
    "pickle.dump(labels, open(\"labels2.txt\", \"wb\"))"
   ]
  },
  {
   "cell_type": "code",
   "execution_count": 91,
   "metadata": {},
   "outputs": [],
   "source": [
    "# Read data\n",
    "features = pickle.load(open(\"feat2.txt\", \"rb\"))\n",
    "labels = pickle.load(open(\"labels2.txt\", \"rb\"))"
   ]
  },
  {
   "cell_type": "code",
   "execution_count": 92,
   "metadata": {},
   "outputs": [
    {
     "name": "stdout",
     "output_type": "stream",
     "text": [
      "(259, 440, 2, 9)\n"
     ]
    }
   ],
   "source": [
    "X = np.array(features)\n",
    "print(X.shape)"
   ]
  },
  {
   "cell_type": "code",
   "execution_count": 45,
   "metadata": {},
   "outputs": [
    {
     "name": "stdout",
     "output_type": "stream",
     "text": [
      "(259,)\n"
     ]
    }
   ],
   "source": [
    "Y = np.array(labels)\n",
    "print(Y.shape)"
   ]
  },
  {
   "cell_type": "code",
   "execution_count": 73,
   "metadata": {},
   "outputs": [
    {
     "data": {
      "text/plain": [
       "(array([34., 20., 28., 23., 21., 29., 32., 20., 20., 32.]),\n",
       " array([ 8. , 11.3, 14.6, 17.9, 21.2, 24.5, 27.8, 31.1, 34.4, 37.7, 41. ]),\n",
       " <a list of 10 Patch objects>)"
      ]
     },
     "execution_count": 73,
     "metadata": {},
     "output_type": "execute_result"
    },
    {
     "data": {
      "image/png": "[encoded data removed]",
      "text/plain": [
       "<matplotlib.figure.Figure at 0x7f57e6c5f8>"
      ]
     },
     "metadata": {
      "needs_background": "light"
     },
     "output_type": "display_data"
    }
   ],
   "source": [
    "plt.hist(Y)"
   ]
  },
  {
   "cell_type": "code",
   "execution_count": 46,
   "metadata": {},
   "outputs": [],
   "source": [
    "X_train, X_test, Y_train, Y_test = train_test_split(X, Y, test_size=0.15, random_state=24601)"
   ]
  },
  {
   "cell_type": "code",
   "execution_count": 47,
   "metadata": {},
   "outputs": [
    {
     "data": {
      "text/plain": [
       "(220, 440, 2, 9)"
      ]
     },
     "execution_count": 47,
     "metadata": {},
     "output_type": "execute_result"
    }
   ],
   "source": [
    "X_train.shape"
   ]
  },
  {
   "cell_type": "code",
   "execution_count": 249,
   "metadata": {},
   "outputs": [
    {
     "data": {
      "text/plain": [
       "88.0"
      ]
     },
     "execution_count": 249,
     "metadata": {},
     "output_type": "execute_result"
    }
   ],
   "source": [
    "440/5"
   ]
  },
  {
   "cell_type": "code",
   "execution_count": 75,
   "metadata": {},
   "outputs": [],
   "source": [
    "model = tf.keras.Sequential([\n",
    "    Convolution2D(filters=8, kernel_size = (10,2), strides=(1), \n",
    "                  padding=\"same\", \n",
    "                  input_shape=(440,2, 9), data_format='channels_last', \n",
    "                  activation=\"relu\"),\n",
    "#     MaxPooling2D(pool_size=(2,2), strides=2),\n",
    "    Flatten(),\n",
    "#     Dense(256, input_shape=(440,2, 9), kernel_initializer=\"normal\", activation='relu'),\n",
    "#     Dense(128, activation='relu'),\n",
    "#     Dense(32, activation='relu'),\n",
    "    Dense(16, activation='relu'),\n",
    "    Dense(1, activation='linear')\n",
    "])\n",
    "\n"
   ]
  },
  {
   "cell_type": "code",
   "execution_count": 76,
   "metadata": {},
   "outputs": [],
   "source": [
    "model.compile(loss=\"mse\", optimizer=tf.keras.optimizers.Adam(0.00001), metrics=[\"mse\", \"mae\"])"
   ]
  },
  {
   "cell_type": "code",
   "execution_count": 77,
   "metadata": {},
   "outputs": [
    {
     "name": "stdout",
     "output_type": "stream",
     "text": [
      "Model: \"sequential_2\"\n",
      "_________________________________________________________________\n",
      "Layer (type)                 Output Shape              Param #   \n",
      "=================================================================\n",
      "conv2d_2 (Conv2D)            (None, 440, 2, 8)         1448      \n",
      "_________________________________________________________________\n",
      "flatten_2 (Flatten)          (None, 7040)              0         \n",
      "_________________________________________________________________\n",
      "dense_5 (Dense)              (None, 16)                112656    \n",
      "_________________________________________________________________\n",
      "dense_6 (Dense)              (None, 1)                 17        \n",
      "=================================================================\n",
      "Total params: 114,121\n",
      "Trainable params: 114,121\n",
      "Non-trainable params: 0\n",
      "_________________________________________________________________\n"
     ]
    }
   ],
   "source": [
    "model.summary()"
   ]
  },
  {
   "cell_type": "code",
   "execution_count": 80,
   "metadata": {},
   "outputs": [
    {
     "name": "stdout",
     "output_type": "stream",
     "text": [
      "Train on 220 samples\n",
      "Epoch 1/200\n",
      "220/220 [==============================] - 1s 3ms/sample - loss: 637.5291 - mean_squared_error: 637.5291 - mean_absolute_error: 23.2743\n",
      "Epoch 2/200\n",
      "220/220 [==============================] - 0s 798us/sample - loss: 609.5807 - mean_squared_error: 609.5808 - mean_absolute_error: 22.6647\n",
      "Epoch 3/200\n",
      "220/220 [==============================] - 0s 942us/sample - loss: 584.6805 - mean_squared_error: 584.6805 - mean_absolute_error: 22.1132\n",
      "Epoch 4/200\n",
      "220/220 [==============================] - 0s 860us/sample - loss: 562.5639 - mean_squared_error: 562.5638 - mean_absolute_error: 21.6027\n",
      "Epoch 5/200\n",
      "220/220 [==============================] - 0s 623us/sample - loss: 540.9468 - mean_squared_error: 540.9468 - mean_absolute_error: 21.0961\n",
      "Epoch 6/200\n",
      "220/220 [==============================] - 0s 742us/sample - loss: 519.4096 - mean_squared_error: 519.4097 - mean_absolute_error: 20.5771\n",
      "Epoch 7/200\n",
      "220/220 [==============================] - 0s 892us/sample - loss: 497.9062 - mean_squared_error: 497.9062 - mean_absolute_error: 20.0500\n",
      "Epoch 8/200\n",
      "220/220 [==============================] - 0s 947us/sample - loss: 476.3965 - mean_squared_error: 476.3965 - mean_absolute_error: 19.5104\n",
      "Epoch 9/200\n",
      "220/220 [==============================] - 0s 755us/sample - loss: 456.9381 - mean_squared_error: 456.9381 - mean_absolute_error: 19.0064\n",
      "Epoch 10/200\n",
      "220/220 [==============================] - 0s 615us/sample - loss: 440.7971 - mean_squared_error: 440.7971 - mean_absolute_error: 18.5787\n",
      "Epoch 11/200\n",
      "220/220 [==============================] - 0s 1ms/sample - loss: 424.9885 - mean_squared_error: 424.9885 - mean_absolute_error: 18.1436\n",
      "Epoch 12/200\n",
      "220/220 [==============================] - 0s 718us/sample - loss: 408.8100 - mean_squared_error: 408.8100 - mean_absolute_error: 17.6915\n",
      "Epoch 13/200\n",
      "220/220 [==============================] - 0s 844us/sample - loss: 392.5725 - mean_squared_error: 392.5725 - mean_absolute_error: 17.2301\n",
      "Epoch 14/200\n",
      "220/220 [==============================] - 0s 755us/sample - loss: 376.6003 - mean_squared_error: 376.6003 - mean_absolute_error: 16.7524\n",
      "Epoch 15/200\n",
      "220/220 [==============================] - 0s 694us/sample - loss: 360.1936 - mean_squared_error: 360.1936 - mean_absolute_error: 16.2575\n",
      "Epoch 16/200\n",
      "220/220 [==============================] - ETA: 0s - loss: 343.3680 - mean_squared_error: 343.3680 - mean_absolute_error: 15.808 - 0s 902us/sample - loss: 343.5141 - mean_squared_error: 343.5141 - mean_absolute_error: 15.7594\n",
      "Epoch 17/200\n",
      "220/220 [==============================] - 0s 897us/sample - loss: 327.5923 - mean_squared_error: 327.5923 - mean_absolute_error: 15.2595\n",
      "Epoch 18/200\n",
      "220/220 [==============================] - 0s 782us/sample - loss: 310.9550 - mean_squared_error: 310.9550 - mean_absolute_error: 14.7550\n",
      "Epoch 19/200\n",
      "220/220 [==============================] - 0s 1ms/sample - loss: 294.9469 - mean_squared_error: 294.9469 - mean_absolute_error: 14.2567\n",
      "Epoch 20/200\n",
      "220/220 [==============================] - 0s 762us/sample - loss: 279.0781 - mean_squared_error: 279.0782 - mean_absolute_error: 13.7716\n",
      "Epoch 21/200\n",
      "220/220 [==============================] - 0s 775us/sample - loss: 263.1857 - mean_squared_error: 263.1857 - mean_absolute_error: 13.3211\n",
      "Epoch 22/200\n",
      "220/220 [==============================] - 0s 857us/sample - loss: 248.1870 - mean_squared_error: 248.1870 - mean_absolute_error: 12.9094\n",
      "Epoch 23/200\n",
      "220/220 [==============================] - 0s 833us/sample - loss: 233.7652 - mean_squared_error: 233.7652 - mean_absolute_error: 12.4757\n",
      "Epoch 24/200\n",
      "220/220 [==============================] - 0s 985us/sample - loss: 219.1957 - mean_squared_error: 219.1957 - mean_absolute_error: 12.0814\n",
      "Epoch 25/200\n",
      "220/220 [==============================] - 0s 977us/sample - loss: 206.1834 - mean_squared_error: 206.1834 - mean_absolute_error: 11.7126\n",
      "Epoch 26/200\n",
      "220/220 [==============================] - 0s 658us/sample - loss: 192.7085 - mean_squared_error: 192.7085 - mean_absolute_error: 11.3084\n",
      "Epoch 27/200\n",
      "220/220 [==============================] - 0s 890us/sample - loss: 180.6810 - mean_squared_error: 180.6811 - mean_absolute_error: 10.9547\n",
      "Epoch 28/200\n",
      "220/220 [==============================] - 0s 844us/sample - loss: 169.7863 - mean_squared_error: 169.7863 - mean_absolute_error: 10.6285\n",
      "Epoch 29/200\n",
      "220/220 [==============================] - 0s 868us/sample - loss: 160.0031 - mean_squared_error: 160.0031 - mean_absolute_error: 10.3313\n",
      "Epoch 30/200\n",
      "220/220 [==============================] - 0s 910us/sample - loss: 150.1045 - mean_squared_error: 150.1045 - mean_absolute_error: 10.0222\n",
      "Epoch 31/200\n",
      "220/220 [==============================] - 0s 821us/sample - loss: 141.8169 - mean_squared_error: 141.8169 - mean_absolute_error: 9.7887\n",
      "Epoch 32/200\n",
      "220/220 [==============================] - 0s 798us/sample - loss: 134.7021 - mean_squared_error: 134.7021 - mean_absolute_error: 9.6060\n",
      "Epoch 33/200\n",
      "220/220 [==============================] - 0s 881us/sample - loss: 127.6338 - mean_squared_error: 127.6338 - mean_absolute_error: 9.3861\n",
      "Epoch 34/200\n",
      "220/220 [==============================] - 0s 816us/sample - loss: 122.5769 - mean_squared_error: 122.5769 - mean_absolute_error: 9.2581\n",
      "Epoch 35/200\n",
      "220/220 [==============================] - 0s 655us/sample - loss: 117.7871 - mean_squared_error: 117.7871 - mean_absolute_error: 9.1043\n",
      "Epoch 36/200\n",
      "220/220 [==============================] - 0s 1ms/sample - loss: 113.7822 - mean_squared_error: 113.7822 - mean_absolute_error: 8.9943\n",
      "Epoch 37/200\n",
      "220/220 [==============================] - 0s 781us/sample - loss: 110.8071 - mean_squared_error: 110.8071 - mean_absolute_error: 8.9315\n",
      "Epoch 38/200\n",
      "220/220 [==============================] - 0s 748us/sample - loss: 107.9250 - mean_squared_error: 107.9250 - mean_absolute_error: 8.8475\n",
      "Epoch 39/200\n",
      "220/220 [==============================] - 0s 883us/sample - loss: 105.7952 - mean_squared_error: 105.7952 - mean_absolute_error: 8.7950\n",
      "Epoch 40/200\n",
      "220/220 [==============================] - 0s 834us/sample - loss: 104.2687 - mean_squared_error: 104.2687 - mean_absolute_error: 8.7570\n",
      "Epoch 41/200\n",
      "220/220 [==============================] - 0s 783us/sample - loss: 103.1892 - mean_squared_error: 103.1892 - mean_absolute_error: 8.7288\n",
      "Epoch 42/200\n",
      "220/220 [==============================] - 0s 692us/sample - loss: 102.1135 - mean_squared_error: 102.1135 - mean_absolute_error: 8.7014\n",
      "Epoch 43/200\n",
      "220/220 [==============================] - 0s 770us/sample - loss: 101.4796 - mean_squared_error: 101.4796 - mean_absolute_error: 8.6901\n",
      "Epoch 44/200\n",
      "220/220 [==============================] - 0s 834us/sample - loss: 100.9857 - mean_squared_error: 100.9857 - mean_absolute_error: 8.6838\n",
      "Epoch 45/200\n",
      "220/220 [==============================] - 0s 870us/sample - loss: 100.5031 - mean_squared_error: 100.5031 - mean_absolute_error: 8.6700\n",
      "Epoch 46/200\n",
      "220/220 [==============================] - 0s 1ms/sample - loss: 100.2548 - mean_squared_error: 100.2548 - mean_absolute_error: 8.66590s - loss: 106.3722 - mean_squared_error: 106.3722 - mean_absolute_error: \n",
      "Epoch 47/200\n",
      "220/220 [==============================] - 0s 1ms/sample - loss: 100.1022 - mean_squared_error: 100.1022 - mean_absolute_error: 8.6622\n",
      "Epoch 48/200\n",
      "220/220 [==============================] - 0s 806us/sample - loss: 99.9603 - mean_squared_error: 99.9603 - mean_absolute_error: 8.6588\n",
      "Epoch 49/200\n",
      "220/220 [==============================] - 0s 891us/sample - loss: 99.8588 - mean_squared_error: 99.8588 - mean_absolute_error: 8.6580\n",
      "Epoch 50/200\n",
      "220/220 [==============================] - 0s 952us/sample - loss: 99.8218 - mean_squared_error: 99.8218 - mean_absolute_error: 8.6562\n",
      "Epoch 51/200\n",
      "220/220 [==============================] - 0s 980us/sample - loss: 99.7557 - mean_squared_error: 99.7557 - mean_absolute_error: 8.6534\n",
      "Epoch 52/200\n",
      "220/220 [==============================] - 0s 674us/sample - loss: 99.7322 - mean_squared_error: 99.7322 - mean_absolute_error: 8.6523\n",
      "Epoch 53/200\n",
      "220/220 [==============================] - 0s 762us/sample - loss: 99.7112 - mean_squared_error: 99.7112 - mean_absolute_error: 8.6513\n",
      "Epoch 54/200\n"
     ]
    },
    {
     "name": "stdout",
     "output_type": "stream",
     "text": [
      "220/220 [==============================] - 0s 912us/sample - loss: 99.7033 - mean_squared_error: 99.7033 - mean_absolute_error: 8.6514\n",
      "Epoch 55/200\n",
      "220/220 [==============================] - 0s 686us/sample - loss: 99.6865 - mean_squared_error: 99.6865 - mean_absolute_error: 8.6496\n",
      "Epoch 56/200\n",
      "220/220 [==============================] - 0s 639us/sample - loss: 99.6833 - mean_squared_error: 99.6833 - mean_absolute_error: 8.6496\n",
      "Epoch 57/200\n",
      "220/220 [==============================] - 0s 808us/sample - loss: 99.7117 - mean_squared_error: 99.7117 - mean_absolute_error: 8.6496\n",
      "Epoch 58/200\n",
      "220/220 [==============================] - 0s 748us/sample - loss: 99.6757 - mean_squared_error: 99.6757 - mean_absolute_error: 8.6486\n",
      "Epoch 59/200\n",
      "220/220 [==============================] - 0s 867us/sample - loss: 99.6743 - mean_squared_error: 99.6743 - mean_absolute_error: 8.6481\n",
      "Epoch 60/200\n",
      "220/220 [==============================] - 0s 887us/sample - loss: 99.6684 - mean_squared_error: 99.6684 - mean_absolute_error: 8.6479\n",
      "Epoch 61/200\n",
      "220/220 [==============================] - 0s 780us/sample - loss: 99.6668 - mean_squared_error: 99.6668 - mean_absolute_error: 8.6476\n",
      "Epoch 62/200\n",
      "220/220 [==============================] - 0s 863us/sample - loss: 99.6776 - mean_squared_error: 99.6776 - mean_absolute_error: 8.6486\n",
      "Epoch 63/200\n",
      "220/220 [==============================] - 0s 881us/sample - loss: 99.6562 - mean_squared_error: 99.6562 - mean_absolute_error: 8.6470\n",
      "Epoch 64/200\n",
      "220/220 [==============================] - 0s 750us/sample - loss: 99.6947 - mean_squared_error: 99.6947 - mean_absolute_error: 8.6487\n",
      "Epoch 65/200\n",
      "220/220 [==============================] - 0s 972us/sample - loss: 99.6886 - mean_squared_error: 99.6886 - mean_absolute_error: 8.6482\n",
      "Epoch 66/200\n",
      "220/220 [==============================] - 0s 815us/sample - loss: 99.6445 - mean_squared_error: 99.6445 - mean_absolute_error: 8.6459\n",
      "Epoch 67/200\n",
      "220/220 [==============================] - 0s 645us/sample - loss: 99.6577 - mean_squared_error: 99.6577 - mean_absolute_error: 8.6466\n",
      "Epoch 68/200\n",
      "220/220 [==============================] - 0s 838us/sample - loss: 99.6414 - mean_squared_error: 99.6414 - mean_absolute_error: 8.6458\n",
      "Epoch 69/200\n",
      "220/220 [==============================] - 0s 870us/sample - loss: 99.6435 - mean_squared_error: 99.6435 - mean_absolute_error: 8.6457\n",
      "Epoch 70/200\n",
      "220/220 [==============================] - 0s 794us/sample - loss: 99.6252 - mean_squared_error: 99.6252 - mean_absolute_error: 8.6446\n",
      "Epoch 71/200\n",
      "220/220 [==============================] - 0s 844us/sample - loss: 99.6400 - mean_squared_error: 99.6400 - mean_absolute_error: 8.6450\n",
      "Epoch 72/200\n",
      "220/220 [==============================] - 0s 903us/sample - loss: 99.6268 - mean_squared_error: 99.6268 - mean_absolute_error: 8.6454\n",
      "Epoch 73/200\n",
      "220/220 [==============================] - ETA: 0s - loss: 94.7388 - mean_squared_error: 94.7388 - mean_absolute_error: 8.47 - 0s 768us/sample - loss: 99.6247 - mean_squared_error: 99.6247 - mean_absolute_error: 8.6447\n",
      "Epoch 74/200\n",
      "220/220 [==============================] - 0s 877us/sample - loss: 99.6319 - mean_squared_error: 99.6319 - mean_absolute_error: 8.6443\n",
      "Epoch 75/200\n",
      "220/220 [==============================] - 0s 816us/sample - loss: 99.6012 - mean_squared_error: 99.6012 - mean_absolute_error: 8.6430\n",
      "Epoch 76/200\n",
      "220/220 [==============================] - 0s 818us/sample - loss: 99.6147 - mean_squared_error: 99.6147 - mean_absolute_error: 8.6432\n",
      "Epoch 77/200\n",
      "220/220 [==============================] - 0s 825us/sample - loss: 99.6331 - mean_squared_error: 99.6331 - mean_absolute_error: 8.6433\n",
      "Epoch 78/200\n",
      "220/220 [==============================] - 0s 835us/sample - loss: 99.6518 - mean_squared_error: 99.6518 - mean_absolute_error: 8.6451\n",
      "Epoch 79/200\n",
      "220/220 [==============================] - 0s 781us/sample - loss: 99.6119 - mean_squared_error: 99.6119 - mean_absolute_error: 8.6426\n",
      "Epoch 80/200\n",
      "220/220 [==============================] - 0s 858us/sample - loss: 99.6013 - mean_squared_error: 99.6013 - mean_absolute_error: 8.6427\n",
      "Epoch 81/200\n",
      "220/220 [==============================] - 0s 864us/sample - loss: 99.5998 - mean_squared_error: 99.5998 - mean_absolute_error: 8.6418\n",
      "Epoch 82/200\n",
      "220/220 [==============================] - 0s 750us/sample - loss: 99.6316 - mean_squared_error: 99.6316 - mean_absolute_error: 8.6425\n",
      "Epoch 83/200\n",
      "220/220 [==============================] - 0s 819us/sample - loss: 99.5752 - mean_squared_error: 99.5752 - mean_absolute_error: 8.6411\n",
      "Epoch 84/200\n",
      "220/220 [==============================] - 0s 809us/sample - loss: 99.5697 - mean_squared_error: 99.5697 - mean_absolute_error: 8.6407\n",
      "Epoch 85/200\n",
      "220/220 [==============================] - 0s 707us/sample - loss: 99.5927 - mean_squared_error: 99.5927 - mean_absolute_error: 8.6413\n",
      "Epoch 86/200\n",
      "220/220 [==============================] - 0s 868us/sample - loss: 99.5919 - mean_squared_error: 99.5919 - mean_absolute_error: 8.6414\n",
      "Epoch 87/200\n",
      "220/220 [==============================] - 0s 738us/sample - loss: 99.5816 - mean_squared_error: 99.5816 - mean_absolute_error: 8.6411\n",
      "Epoch 88/200\n",
      "220/220 [==============================] - 0s 928us/sample - loss: 99.5732 - mean_squared_error: 99.5732 - mean_absolute_error: 8.6400\n",
      "Epoch 89/200\n",
      "220/220 [==============================] - 0s 880us/sample - loss: 99.5578 - mean_squared_error: 99.5578 - mean_absolute_error: 8.6391\n",
      "Epoch 90/200\n",
      "220/220 [==============================] - 0s 906us/sample - loss: 99.5505 - mean_squared_error: 99.5505 - mean_absolute_error: 8.6394\n",
      "Epoch 91/200\n",
      "220/220 [==============================] - 0s 930us/sample - loss: 99.6080 - mean_squared_error: 99.6080 - mean_absolute_error: 8.6401\n",
      "Epoch 92/200\n",
      "220/220 [==============================] - 0s 930us/sample - loss: 99.5591 - mean_squared_error: 99.5591 - mean_absolute_error: 8.6385\n",
      "Epoch 93/200\n",
      "220/220 [==============================] - 0s 865us/sample - loss: 99.5436 - mean_squared_error: 99.5436 - mean_absolute_error: 8.6386\n",
      "Epoch 94/200\n",
      "220/220 [==============================] - 0s 761us/sample - loss: 99.5326 - mean_squared_error: 99.5325 - mean_absolute_error: 8.6378\n",
      "Epoch 95/200\n",
      "220/220 [==============================] - 0s 821us/sample - loss: 99.5296 - mean_squared_error: 99.5296 - mean_absolute_error: 8.6376\n",
      "Epoch 96/200\n",
      "220/220 [==============================] - 0s 833us/sample - loss: 99.5794 - mean_squared_error: 99.5794 - mean_absolute_error: 8.6394\n",
      "Epoch 97/200\n",
      "220/220 [==============================] - 0s 651us/sample - loss: 99.5190 - mean_squared_error: 99.5190 - mean_absolute_error: 8.6367\n",
      "Epoch 98/200\n",
      "220/220 [==============================] - 0s 714us/sample - loss: 99.5984 - mean_squared_error: 99.5984 - mean_absolute_error: 8.6398\n",
      "Epoch 99/200\n",
      "220/220 [==============================] - 0s 658us/sample - loss: 99.5197 - mean_squared_error: 99.5197 - mean_absolute_error: 8.6365\n",
      "Epoch 100/200\n",
      "220/220 [==============================] - 0s 852us/sample - loss: 99.5301 - mean_squared_error: 99.5301 - mean_absolute_error: 8.6372\n",
      "Epoch 101/200\n",
      "220/220 [==============================] - 0s 835us/sample - loss: 99.5034 - mean_squared_error: 99.5034 - mean_absolute_error: 8.63650s - loss: 109.4982 - mean_squared_error: 109.4982 - mean_absolute_error: 9.09\n",
      "Epoch 102/200\n",
      "220/220 [==============================] - 0s 865us/sample - loss: 99.5368 - mean_squared_error: 99.5368 - mean_absolute_error: 8.6372\n",
      "Epoch 103/200\n",
      "220/220 [==============================] - 0s 726us/sample - loss: 99.5537 - mean_squared_error: 99.5537 - mean_absolute_error: 8.6372\n",
      "Epoch 104/200\n",
      "220/220 [==============================] - 0s 833us/sample - loss: 99.5441 - mean_squared_error: 99.5441 - mean_absolute_error: 8.6354\n",
      "Epoch 105/200\n",
      "220/220 [==============================] - 0s 678us/sample - loss: 99.5160 - mean_squared_error: 99.5160 - mean_absolute_error: 8.6353\n",
      "Epoch 106/200\n",
      "220/220 [==============================] - 0s 743us/sample - loss: 99.4948 - mean_squared_error: 99.4948 - mean_absolute_error: 8.6347\n",
      "Epoch 107/200\n",
      "220/220 [==============================] - 0s 816us/sample - loss: 99.4824 - mean_squared_error: 99.4824 - mean_absolute_error: 8.6337\n",
      "Epoch 108/200\n"
     ]
    },
    {
     "name": "stdout",
     "output_type": "stream",
     "text": [
      "220/220 [==============================] - 0s 858us/sample - loss: 99.4954 - mean_squared_error: 99.4954 - mean_absolute_error: 8.6338\n",
      "Epoch 109/200\n",
      "220/220 [==============================] - 0s 617us/sample - loss: 99.5342 - mean_squared_error: 99.5342 - mean_absolute_error: 8.6354\n",
      "Epoch 110/200\n",
      "220/220 [==============================] - 0s 831us/sample - loss: 99.4937 - mean_squared_error: 99.4937 - mean_absolute_error: 8.6342\n",
      "Epoch 111/200\n",
      "220/220 [==============================] - 0s 626us/sample - loss: 99.4738 - mean_squared_error: 99.4738 - mean_absolute_error: 8.6329\n",
      "Epoch 112/200\n",
      "220/220 [==============================] - 0s 706us/sample - loss: 99.4713 - mean_squared_error: 99.4713 - mean_absolute_error: 8.6325\n",
      "Epoch 113/200\n",
      "220/220 [==============================] - 0s 769us/sample - loss: 99.4718 - mean_squared_error: 99.4718 - mean_absolute_error: 8.6318\n",
      "Epoch 114/200\n",
      "220/220 [==============================] - 0s 666us/sample - loss: 99.4632 - mean_squared_error: 99.4632 - mean_absolute_error: 8.6314\n",
      "Epoch 115/200\n",
      "220/220 [==============================] - 0s 772us/sample - loss: 99.5274 - mean_squared_error: 99.5274 - mean_absolute_error: 8.6352\n",
      "Epoch 116/200\n",
      "220/220 [==============================] - 0s 847us/sample - loss: 99.4567 - mean_squared_error: 99.4567 - mean_absolute_error: 8.6304\n",
      "Epoch 117/200\n",
      "220/220 [==============================] - 0s 771us/sample - loss: 99.4547 - mean_squared_error: 99.4547 - mean_absolute_error: 8.6310\n",
      "Epoch 118/200\n",
      "220/220 [==============================] - 0s 730us/sample - loss: 99.4484 - mean_squared_error: 99.4484 - mean_absolute_error: 8.6308\n",
      "Epoch 119/200\n",
      "220/220 [==============================] - 0s 793us/sample - loss: 99.4550 - mean_squared_error: 99.4550 - mean_absolute_error: 8.6316\n",
      "Epoch 120/200\n",
      "220/220 [==============================] - 0s 878us/sample - loss: 99.4526 - mean_squared_error: 99.4526 - mean_absolute_error: 8.6310\n",
      "Epoch 121/200\n",
      "220/220 [==============================] - 0s 680us/sample - loss: 99.4640 - mean_squared_error: 99.4640 - mean_absolute_error: 8.6302\n",
      "Epoch 122/200\n",
      "220/220 [==============================] - 0s 789us/sample - loss: 99.4405 - mean_squared_error: 99.4405 - mean_absolute_error: 8.6295\n",
      "Epoch 123/200\n",
      "220/220 [==============================] - 0s 774us/sample - loss: 99.4228 - mean_squared_error: 99.4228 - mean_absolute_error: 8.6289\n",
      "Epoch 124/200\n",
      "220/220 [==============================] - 0s 718us/sample - loss: 99.4260 - mean_squared_error: 99.4260 - mean_absolute_error: 8.6289\n",
      "Epoch 125/200\n",
      "220/220 [==============================] - 0s 763us/sample - loss: 99.4231 - mean_squared_error: 99.4231 - mean_absolute_error: 8.6293\n",
      "Epoch 126/200\n",
      "220/220 [==============================] - 0s 701us/sample - loss: 99.4327 - mean_squared_error: 99.4327 - mean_absolute_error: 8.6292\n",
      "Epoch 127/200\n",
      "220/220 [==============================] - 0s 668us/sample - loss: 99.4132 - mean_squared_error: 99.4132 - mean_absolute_error: 8.6281\n",
      "Epoch 128/200\n",
      "220/220 [==============================] - 0s 617us/sample - loss: 99.4335 - mean_squared_error: 99.4335 - mean_absolute_error: 8.6285\n",
      "Epoch 129/200\n",
      "220/220 [==============================] - 0s 751us/sample - loss: 99.4473 - mean_squared_error: 99.4473 - mean_absolute_error: 8.6289\n",
      "Epoch 130/200\n",
      "220/220 [==============================] - 0s 756us/sample - loss: 99.4282 - mean_squared_error: 99.4282 - mean_absolute_error: 8.6289\n",
      "Epoch 131/200\n",
      "220/220 [==============================] - 0s 806us/sample - loss: 99.4412 - mean_squared_error: 99.4412 - mean_absolute_error: 8.6280\n",
      "Epoch 132/200\n",
      "220/220 [==============================] - 0s 908us/sample - loss: 99.3970 - mean_squared_error: 99.3970 - mean_absolute_error: 8.6266\n",
      "Epoch 133/200\n",
      "220/220 [==============================] - 0s 711us/sample - loss: 99.4234 - mean_squared_error: 99.4234 - mean_absolute_error: 8.6276\n",
      "Epoch 134/200\n",
      "220/220 [==============================] - 0s 862us/sample - loss: 99.4062 - mean_squared_error: 99.4062 - mean_absolute_error: 8.6266\n",
      "Epoch 135/200\n",
      "220/220 [==============================] - 0s 722us/sample - loss: 99.3816 - mean_squared_error: 99.3816 - mean_absolute_error: 8.6254\n",
      "Epoch 136/200\n",
      "220/220 [==============================] - 0s 727us/sample - loss: 99.3832 - mean_squared_error: 99.3832 - mean_absolute_error: 8.6259\n",
      "Epoch 137/200\n",
      "220/220 [==============================] - 0s 770us/sample - loss: 99.3882 - mean_squared_error: 99.3882 - mean_absolute_error: 8.6264\n",
      "Epoch 138/200\n",
      "220/220 [==============================] - 0s 842us/sample - loss: 99.3883 - mean_squared_error: 99.3883 - mean_absolute_error: 8.6251\n",
      "Epoch 139/200\n",
      "220/220 [==============================] - 0s 638us/sample - loss: 99.3981 - mean_squared_error: 99.3981 - mean_absolute_error: 8.6247\n",
      "Epoch 140/200\n",
      "220/220 [==============================] - 0s 705us/sample - loss: 99.3928 - mean_squared_error: 99.3928 - mean_absolute_error: 8.6243\n",
      "Epoch 141/200\n",
      "220/220 [==============================] - 0s 694us/sample - loss: 99.4073 - mean_squared_error: 99.4073 - mean_absolute_error: 8.6254\n",
      "Epoch 142/200\n",
      "220/220 [==============================] - 0s 787us/sample - loss: 99.3667 - mean_squared_error: 99.3667 - mean_absolute_error: 8.6239\n",
      "Epoch 143/200\n",
      "220/220 [==============================] - 0s 714us/sample - loss: 99.3906 - mean_squared_error: 99.3906 - mean_absolute_error: 8.6247\n",
      "Epoch 144/200\n",
      "220/220 [==============================] - 0s 758us/sample - loss: 99.3815 - mean_squared_error: 99.3815 - mean_absolute_error: 8.6240\n",
      "Epoch 145/200\n",
      "220/220 [==============================] - 0s 823us/sample - loss: 99.3399 - mean_squared_error: 99.3399 - mean_absolute_error: 8.6221\n",
      "Epoch 146/200\n",
      "220/220 [==============================] - 0s 734us/sample - loss: 99.3612 - mean_squared_error: 99.3612 - mean_absolute_error: 8.6237\n",
      "Epoch 147/200\n",
      "220/220 [==============================] - 0s 763us/sample - loss: 99.3358 - mean_squared_error: 99.3358 - mean_absolute_error: 8.6217\n",
      "Epoch 148/200\n",
      "220/220 [==============================] - 0s 841us/sample - loss: 99.3328 - mean_squared_error: 99.3328 - mean_absolute_error: 8.6220\n",
      "Epoch 149/200\n",
      "220/220 [==============================] - 0s 644us/sample - loss: 99.4051 - mean_squared_error: 99.4051 - mean_absolute_error: 8.6254\n",
      "Epoch 150/200\n",
      "220/220 [==============================] - 0s 627us/sample - loss: 99.3117 - mean_squared_error: 99.3117 - mean_absolute_error: 8.6208\n",
      "Epoch 151/200\n",
      "220/220 [==============================] - 0s 739us/sample - loss: 99.3794 - mean_squared_error: 99.3794 - mean_absolute_error: 8.6230\n",
      "Epoch 152/200\n",
      "220/220 [==============================] - 0s 783us/sample - loss: 99.3235 - mean_squared_error: 99.3235 - mean_absolute_error: 8.6214\n",
      "Epoch 153/200\n",
      "220/220 [==============================] - 0s 808us/sample - loss: 99.3556 - mean_squared_error: 99.3556 - mean_absolute_error: 8.6227\n",
      "Epoch 154/200\n",
      "220/220 [==============================] - 0s 840us/sample - loss: 99.3299 - mean_squared_error: 99.3299 - mean_absolute_error: 8.6220\n",
      "Epoch 155/200\n",
      "220/220 [==============================] - 0s 664us/sample - loss: 99.3267 - mean_squared_error: 99.3268 - mean_absolute_error: 8.6200\n",
      "Epoch 156/200\n",
      "220/220 [==============================] - 0s 660us/sample - loss: 99.3953 - mean_squared_error: 99.3953 - mean_absolute_error: 8.6230\n",
      "Epoch 157/200\n",
      "220/220 [==============================] - 0s 754us/sample - loss: 99.2891 - mean_squared_error: 99.2891 - mean_absolute_error: 8.6182\n",
      "Epoch 158/200\n",
      "220/220 [==============================] - 0s 777us/sample - loss: 99.3002 - mean_squared_error: 99.3002 - mean_absolute_error: 8.6201\n",
      "Epoch 159/200\n",
      "220/220 [==============================] - 0s 858us/sample - loss: 99.2906 - mean_squared_error: 99.2906 - mean_absolute_error: 8.61890s - loss: 103.7935 - mean_squared_error: 103.7935 - mean_absolute_error: 8.\n",
      "Epoch 160/200\n",
      "220/220 [==============================] - 0s 647us/sample - loss: 99.3080 - mean_squared_error: 99.3080 - mean_absolute_error: 8.6187\n",
      "Epoch 161/200\n",
      "220/220 [==============================] - 0s 770us/sample - loss: 99.2975 - mean_squared_error: 99.2975 - mean_absolute_error: 8.6191\n",
      "Epoch 162/200\n"
     ]
    },
    {
     "name": "stdout",
     "output_type": "stream",
     "text": [
      "220/220 [==============================] - 0s 936us/sample - loss: 99.2713 - mean_squared_error: 99.2713 - mean_absolute_error: 8.6185\n",
      "Epoch 163/200\n",
      "220/220 [==============================] - 0s 684us/sample - loss: 99.2761 - mean_squared_error: 99.2760 - mean_absolute_error: 8.6183\n",
      "Epoch 164/200\n",
      "220/220 [==============================] - 0s 675us/sample - loss: 99.2888 - mean_squared_error: 99.2888 - mean_absolute_error: 8.6184\n",
      "Epoch 165/200\n",
      "220/220 [==============================] - 0s 768us/sample - loss: 99.2632 - mean_squared_error: 99.2632 - mean_absolute_error: 8.6171 - loss: 97.3279 - mean_squared_error: 97.3279 - mean_absolute_error: 8.48\n",
      "Epoch 166/200\n",
      "220/220 [==============================] - 0s 805us/sample - loss: 99.2759 - mean_squared_error: 99.2759 - mean_absolute_error: 8.6176\n",
      "Epoch 167/200\n",
      "220/220 [==============================] - 0s 643us/sample - loss: 99.2537 - mean_squared_error: 99.2537 - mean_absolute_error: 8.6167\n",
      "Epoch 168/200\n",
      "220/220 [==============================] - 0s 651us/sample - loss: 99.2517 - mean_squared_error: 99.2517 - mean_absolute_error: 8.6168\n",
      "Epoch 169/200\n",
      "220/220 [==============================] - 0s 799us/sample - loss: 99.2834 - mean_squared_error: 99.2834 - mean_absolute_error: 8.6177\n",
      "Epoch 170/200\n",
      "220/220 [==============================] - 0s 861us/sample - loss: 99.2608 - mean_squared_error: 99.2608 - mean_absolute_error: 8.6168\n",
      "Epoch 171/200\n",
      "220/220 [==============================] - 0s 630us/sample - loss: 99.2704 - mean_squared_error: 99.2704 - mean_absolute_error: 8.6168\n",
      "Epoch 172/200\n",
      "220/220 [==============================] - 0s 830us/sample - loss: 99.2726 - mean_squared_error: 99.2726 - mean_absolute_error: 8.6174\n",
      "Epoch 173/200\n",
      "220/220 [==============================] - 0s 653us/sample - loss: 99.2431 - mean_squared_error: 99.2431 - mean_absolute_error: 8.6155\n",
      "Epoch 174/200\n",
      "220/220 [==============================] - 0s 835us/sample - loss: 99.2431 - mean_squared_error: 99.2431 - mean_absolute_error: 8.6152\n",
      "Epoch 175/200\n",
      "220/220 [==============================] - 0s 882us/sample - loss: 99.2170 - mean_squared_error: 99.2170 - mean_absolute_error: 8.6149\n",
      "Epoch 176/200\n",
      "220/220 [==============================] - 0s 641us/sample - loss: 99.2177 - mean_squared_error: 99.2177 - mean_absolute_error: 8.6148\n",
      "Epoch 177/200\n",
      "220/220 [==============================] - 0s 885us/sample - loss: 99.2423 - mean_squared_error: 99.2423 - mean_absolute_error: 8.6161\n",
      "Epoch 178/200\n",
      "220/220 [==============================] - 0s 752us/sample - loss: 99.2110 - mean_squared_error: 99.2110 - mean_absolute_error: 8.6143\n",
      "Epoch 179/200\n",
      "220/220 [==============================] - 0s 734us/sample - loss: 99.2477 - mean_squared_error: 99.2477 - mean_absolute_error: 8.6156\n",
      "Epoch 180/200\n",
      "220/220 [==============================] - 0s 800us/sample - loss: 99.2052 - mean_squared_error: 99.2052 - mean_absolute_error: 8.6132\n",
      "Epoch 181/200\n",
      "220/220 [==============================] - 0s 869us/sample - loss: 99.2625 - mean_squared_error: 99.2625 - mean_absolute_error: 8.6152\n",
      "Epoch 182/200\n",
      "220/220 [==============================] - 0s 782us/sample - loss: 99.1982 - mean_squared_error: 99.1982 - mean_absolute_error: 8.6112\n",
      "Epoch 183/200\n",
      "220/220 [==============================] - 0s 780us/sample - loss: 99.1975 - mean_squared_error: 99.1975 - mean_absolute_error: 8.6123\n",
      "Epoch 184/200\n",
      "220/220 [==============================] - 0s 708us/sample - loss: 99.1787 - mean_squared_error: 99.1787 - mean_absolute_error: 8.6121\n",
      "Epoch 185/200\n",
      "220/220 [==============================] - 0s 745us/sample - loss: 99.2253 - mean_squared_error: 99.2253 - mean_absolute_error: 8.6127\n",
      "Epoch 186/200\n",
      "220/220 [==============================] - 0s 722us/sample - loss: 99.1830 - mean_squared_error: 99.1830 - mean_absolute_error: 8.6122\n",
      "Epoch 187/200\n",
      "220/220 [==============================] - 0s 633us/sample - loss: 99.2062 - mean_squared_error: 99.2062 - mean_absolute_error: 8.6133\n",
      "Epoch 188/200\n",
      "220/220 [==============================] - 0s 822us/sample - loss: 99.1983 - mean_squared_error: 99.1983 - mean_absolute_error: 8.6124\n",
      "Epoch 189/200\n",
      "220/220 [==============================] - 0s 895us/sample - loss: 99.1765 - mean_squared_error: 99.1765 - mean_absolute_error: 8.6119\n",
      "Epoch 190/200\n",
      "220/220 [==============================] - 0s 786us/sample - loss: 99.1665 - mean_squared_error: 99.1665 - mean_absolute_error: 8.6106\n",
      "Epoch 191/200\n",
      "220/220 [==============================] - 0s 840us/sample - loss: 99.1654 - mean_squared_error: 99.1654 - mean_absolute_error: 8.6119\n",
      "Epoch 192/200\n",
      "220/220 [==============================] - 0s 842us/sample - loss: 99.2186 - mean_squared_error: 99.2186 - mean_absolute_error: 8.6134\n",
      "Epoch 193/200\n",
      "220/220 [==============================] - 0s 604us/sample - loss: 99.1433 - mean_squared_error: 99.1433 - mean_absolute_error: 8.6101\n",
      "Epoch 194/200\n",
      "220/220 [==============================] - 0s 628us/sample - loss: 99.1357 - mean_squared_error: 99.1357 - mean_absolute_error: 8.6093\n",
      "Epoch 195/200\n",
      "220/220 [==============================] - 0s 691us/sample - loss: 99.1441 - mean_squared_error: 99.1441 - mean_absolute_error: 8.6104\n",
      "Epoch 196/200\n",
      "220/220 [==============================] - 0s 714us/sample - loss: 99.1738 - mean_squared_error: 99.1738 - mean_absolute_error: 8.6120\n",
      "Epoch 197/200\n",
      "220/220 [==============================] - 0s 851us/sample - loss: 99.1370 - mean_squared_error: 99.1370 - mean_absolute_error: 8.6107\n",
      "Epoch 198/200\n",
      "220/220 [==============================] - 0s 802us/sample - loss: 99.1310 - mean_squared_error: 99.1310 - mean_absolute_error: 8.6102\n",
      "Epoch 199/200\n",
      "220/220 [==============================] - 0s 827us/sample - loss: 99.1359 - mean_squared_error: 99.1359 - mean_absolute_error: 8.6102\n",
      "Epoch 200/200\n",
      "220/220 [==============================] - 0s 931us/sample - loss: 99.1121 - mean_squared_error: 99.1121 - mean_absolute_error: 8.6084\n"
     ]
    }
   ],
   "source": [
    "history = model.fit(X_train, Y_train, epochs=200)"
   ]
  },
  {
   "cell_type": "code",
   "execution_count": 86,
   "metadata": {},
   "outputs": [
    {
     "data": {
      "text/plain": [
       "[<matplotlib.lines.Line2D at 0x7f4055eeb8>]"
      ]
     },
     "execution_count": 86,
     "metadata": {},
     "output_type": "execute_result"
    },
    {
     "data": {
      "image/png": "[encoded data removed]",
      "text/plain": [
       "<matplotlib.figure.Figure at 0x7f405d5a20>"
      ]
     },
     "metadata": {
      "needs_background": "light"
     },
     "output_type": "display_data"
    }
   ],
   "source": [
    "plt.plot(history.history['mean_squared_error'])"
   ]
  },
  {
   "cell_type": "code",
   "execution_count": 87,
   "metadata": {},
   "outputs": [
    {
     "data": {
      "text/plain": [
       "<matplotlib.collections.PathCollection at 0x7f404c5668>"
      ]
     },
     "execution_count": 87,
     "metadata": {},
     "output_type": "execute_result"
    },
    {
     "data": {
      "image/png": "[encoded data removed]",
      "text/plain": [
       "<matplotlib.figure.Figure at 0x7f404f63c8>"
      ]
     },
     "metadata": {
      "needs_background": "light"
     },
     "output_type": "display_data"
    }
   ],
   "source": [
    "plt.scatter(model.predict(X_test), Y_test)"
   ]
  },
  {
   "cell_type": "code",
   "execution_count": 83,
   "metadata": {},
   "outputs": [
    {
     "data": {
      "text/plain": [
       "array([[23.926008],\n",
       "       [23.265757],\n",
       "       [22.79941 ],\n",
       "       [24.403456],\n",
       "       [25.40382 ],\n",
       "       [23.449633],\n",
       "       [40.56915 ],\n",
       "       [24.118532],\n",
       "       [24.155685],\n",
       "       [22.800667]], dtype=float32)"
      ]
     },
     "execution_count": 83,
     "metadata": {},
     "output_type": "execute_result"
    }
   ],
   "source": [
    "model.predict(X_test)[0:10]"
   ]
  },
  {
   "cell_type": "code",
   "execution_count": 84,
   "metadata": {},
   "outputs": [
    {
     "data": {
      "text/plain": [
       "array([33, 35, 23, 16, 28, 26, 31, 18,  9, 11])"
      ]
     },
     "execution_count": 84,
     "metadata": {},
     "output_type": "execute_result"
    }
   ],
   "source": [
    "Y_test[0:10]"
   ]
  },
  {
   "cell_type": "code",
   "execution_count": 85,
   "metadata": {},
   "outputs": [
    {
     "name": "stdout",
     "output_type": "stream",
     "text": [
      "39/39 [==============================] - 0s 4ms/sample - loss: 85.5206 - mean_squared_error: 85.5206 - mean_absolute_error: 7.8904\n"
     ]
    },
    {
     "data": {
      "text/plain": [
       "[85.52059603960086, 85.52059, 7.890365]"
      ]
     },
     "execution_count": 85,
     "metadata": {},
     "output_type": "execute_result"
    }
   ],
   "source": [
    "model.evaluate(X_test, Y_test)"
   ]
  },
  {
   "cell_type": "code",
   "execution_count": 55,
   "metadata": {},
   "outputs": [],
   "source": [
    "train_pred = model.predict(X_train)"
   ]
  },
  {
   "cell_type": "code",
   "execution_count": 56,
   "metadata": {},
   "outputs": [
    {
     "data": {
      "text/plain": [
       "array([[24.705877],\n",
       "       [23.919703],\n",
       "       [25.295645],\n",
       "       [24.017635],\n",
       "       [24.298737],\n",
       "       [23.971409],\n",
       "       [23.335287],\n",
       "       [24.232195],\n",
       "       [23.8442  ],\n",
       "       [24.594982],\n",
       "       [23.921625],\n",
       "       [23.900208],\n",
       "       [24.034744],\n",
       "       [24.392973],\n",
       "       [26.049778],\n",
       "       [23.872265],\n",
       "       [24.926182],\n",
       "       [26.064543],\n",
       "       [24.325108],\n",
       "       [24.111914],\n",
       "       [21.573969],\n",
       "       [24.696115],\n",
       "       [24.331242],\n",
       "       [23.781204],\n",
       "       [25.941189],\n",
       "       [23.351732],\n",
       "       [24.463284],\n",
       "       [23.952438],\n",
       "       [23.571196],\n",
       "       [21.068232],\n",
       "       [24.012745],\n",
       "       [42.681725],\n",
       "       [26.23306 ],\n",
       "       [24.928957],\n",
       "       [24.32907 ],\n",
       "       [24.588707],\n",
       "       [23.90392 ],\n",
       "       [23.117579],\n",
       "       [23.287716],\n",
       "       [24.084381],\n",
       "       [23.849558],\n",
       "       [24.316938],\n",
       "       [25.25266 ],\n",
       "       [23.558153],\n",
       "       [21.407236],\n",
       "       [24.64157 ],\n",
       "       [23.99197 ],\n",
       "       [23.927195],\n",
       "       [24.134354],\n",
       "       [24.297556],\n",
       "       [24.088505],\n",
       "       [24.523584],\n",
       "       [24.574701],\n",
       "       [23.889313],\n",
       "       [24.051413],\n",
       "       [24.154968],\n",
       "       [24.374216],\n",
       "       [24.629158],\n",
       "       [24.75832 ],\n",
       "       [23.704794],\n",
       "       [23.570377],\n",
       "       [24.399572],\n",
       "       [24.317333],\n",
       "       [24.938578],\n",
       "       [25.353367],\n",
       "       [24.434063],\n",
       "       [23.99964 ],\n",
       "       [25.710339],\n",
       "       [23.492943],\n",
       "       [26.200312],\n",
       "       [24.374243],\n",
       "       [23.948053],\n",
       "       [25.524109],\n",
       "       [25.063133],\n",
       "       [24.07079 ],\n",
       "       [24.381273],\n",
       "       [25.948112],\n",
       "       [26.119797],\n",
       "       [24.35757 ],\n",
       "       [24.530058],\n",
       "       [24.153524],\n",
       "       [22.75984 ],\n",
       "       [25.92565 ],\n",
       "       [27.638077],\n",
       "       [25.63514 ],\n",
       "       [24.056002],\n",
       "       [24.274971],\n",
       "       [30.020565],\n",
       "       [23.624208],\n",
       "       [23.881542],\n",
       "       [26.574802],\n",
       "       [24.000002],\n",
       "       [24.650116],\n",
       "       [23.741638],\n",
       "       [23.708778],\n",
       "       [27.81244 ],\n",
       "       [23.336107],\n",
       "       [26.955362],\n",
       "       [24.002886],\n",
       "       [23.503027],\n",
       "       [26.413149],\n",
       "       [24.021204],\n",
       "       [24.500195],\n",
       "       [23.670803],\n",
       "       [25.651373],\n",
       "       [24.309996],\n",
       "       [20.883701],\n",
       "       [24.38619 ],\n",
       "       [23.985641],\n",
       "       [23.86871 ],\n",
       "       [19.581099],\n",
       "       [33.90733 ],\n",
       "       [24.908361],\n",
       "       [24.66173 ],\n",
       "       [25.842878],\n",
       "       [23.693972],\n",
       "       [24.080954],\n",
       "       [23.855871],\n",
       "       [24.012745],\n",
       "       [24.257175],\n",
       "       [25.209671],\n",
       "       [23.821169],\n",
       "       [25.661634],\n",
       "       [23.58811 ],\n",
       "       [25.38473 ],\n",
       "       [24.140574],\n",
       "       [24.394672],\n",
       "       [23.796234],\n",
       "       [20.258259],\n",
       "       [24.025183],\n",
       "       [26.140457],\n",
       "       [23.493782],\n",
       "       [32.39777 ],\n",
       "       [23.67289 ],\n",
       "       [25.674282],\n",
       "       [25.970915],\n",
       "       [24.134495],\n",
       "       [24.850904],\n",
       "       [25.733648],\n",
       "       [26.755146],\n",
       "       [25.242392],\n",
       "       [25.887129],\n",
       "       [23.586115],\n",
       "       [24.180073],\n",
       "       [26.06599 ],\n",
       "       [23.216133],\n",
       "       [24.010052],\n",
       "       [25.33564 ],\n",
       "       [24.515232],\n",
       "       [24.104013],\n",
       "       [25.990356],\n",
       "       [23.494461],\n",
       "       [24.500582],\n",
       "       [23.616379],\n",
       "       [25.966784],\n",
       "       [23.790066],\n",
       "       [27.563858],\n",
       "       [26.097713],\n",
       "       [23.77099 ],\n",
       "       [23.701653],\n",
       "       [22.96403 ],\n",
       "       [24.263287],\n",
       "       [23.875196],\n",
       "       [24.69607 ],\n",
       "       [25.025269],\n",
       "       [24.68905 ],\n",
       "       [24.37873 ],\n",
       "       [24.65826 ],\n",
       "       [25.53666 ],\n",
       "       [24.877401],\n",
       "       [24.462849],\n",
       "       [33.358086],\n",
       "       [24.048815],\n",
       "       [23.736526],\n",
       "       [23.81764 ],\n",
       "       [24.986544],\n",
       "       [23.790148],\n",
       "       [27.093252],\n",
       "       [23.428621],\n",
       "       [23.928576],\n",
       "       [24.165129],\n",
       "       [25.102201],\n",
       "       [24.128132],\n",
       "       [26.27104 ],\n",
       "       [24.5064  ],\n",
       "       [23.766127],\n",
       "       [24.76489 ],\n",
       "       [24.158516],\n",
       "       [31.930437],\n",
       "       [23.738455],\n",
       "       [23.97774 ],\n",
       "       [23.381056],\n",
       "       [25.85528 ],\n",
       "       [23.896908],\n",
       "       [24.38198 ],\n",
       "       [25.941174],\n",
       "       [20.876453],\n",
       "       [24.052828],\n",
       "       [24.562668],\n",
       "       [27.952988],\n",
       "       [25.473719],\n",
       "       [24.045927],\n",
       "       [23.63497 ],\n",
       "       [25.796913],\n",
       "       [25.060497],\n",
       "       [23.773024],\n",
       "       [26.116894],\n",
       "       [20.626156],\n",
       "       [23.816418],\n",
       "       [23.937208],\n",
       "       [24.198107],\n",
       "       [26.28415 ],\n",
       "       [24.098274],\n",
       "       [23.802654],\n",
       "       [21.880737],\n",
       "       [23.524117],\n",
       "       [44.895065],\n",
       "       [25.755411],\n",
       "       [24.09477 ],\n",
       "       [25.038637]], dtype=float32)"
      ]
     },
     "execution_count": 56,
     "metadata": {},
     "output_type": "execute_result"
    }
   ],
   "source": [
    "train_pred"
   ]
  },
  {
   "cell_type": "code",
   "execution_count": 74,
   "metadata": {},
   "outputs": [
    {
     "data": {
      "text/plain": [
       "array([24, 38, 38, 17, 37, 17, 41, 28, 38, 13, 29, 33, 31, 31, 38, 31, 11,\n",
       "       11, 11, 16, 23, 29, 22, 25, 27, 29, 27, 27, 33, 23, 11, 31,  9, 12,\n",
       "       18, 25, 38, 29, 25, 20, 38, 11, 41, 37, 23, 10, 25, 17, 11,  8, 20,\n",
       "       10, 25, 17, 14, 20, 16, 38, 41, 24, 11, 27, 17, 13, 11, 35, 26, 29,\n",
       "       38, 41, 35, 16, 29, 11,  9, 13, 30, 31, 10, 27, 20, 26, 27, 16, 31,\n",
       "       25, 35, 33, 35, 25, 32, 34, 13, 16, 15, 13,  8, 20, 36, 29, 13, 27,\n",
       "       25, 20, 22, 27, 23,  8, 29, 37, 23, 33, 20, 12, 35, 11, 34, 27, 22,\n",
       "       18, 32, 10, 38, 15, 20, 25, 24, 17, 14, 38, 20, 11, 33, 41, 37, 41,\n",
       "       22, 36, 13, 35, 28, 41, 38, 23, 41, 35, 10, 15, 10, 20, 17, 31, 16,\n",
       "       30, 27, 30, 31, 33, 16, 28, 38, 40, 13, 13, 17, 10, 10, 15, 41, 20,\n",
       "       38, 33, 17, 34, 38, 32, 12, 41, 11, 20, 20, 27, 38, 17, 31, 26, 16,\n",
       "       35, 33, 20, 10, 13, 20, 17, 40, 29, 23, 14, 20, 33, 31, 35, 30, 10,\n",
       "       40, 17, 32, 23, 35, 41, 20,  8, 18, 40, 23, 25, 20, 20,  9, 29])"
      ]
     },
     "execution_count": 74,
     "metadata": {},
     "output_type": "execute_result"
    }
   ],
   "source": [
    "Y_train"
   ]
  },
  {
   "cell_type": "markdown",
   "metadata": {},
   "source": [
    "## Example plots"
   ]
  },
  {
   "cell_type": "code",
   "execution_count": 284,
   "metadata": {},
   "outputs": [],
   "source": [
    "data = pd.read_csv(kp_files[9], sep=\"\\t\", header=None)\n",
    "data.columns = [\"time\", \"kpoints\", \"count\", \"fps\"]\n",
    "data.kpoints = data.kpoints.apply(lambda x: ast.literal_eval(x.strip(\"()\")))\n",
    "\n",
    "r_ear = []\n",
    "\n",
    "for i in range(len(data.kpoints)):\n",
    "    r_ear.append(data.kpoints[i][4][2])\n",
    "\n",
    "t = data.time.values"
   ]
  },
  {
   "cell_type": "code",
   "execution_count": 285,
   "metadata": {},
   "outputs": [
    {
     "data": {
      "text/plain": [
       "Text(0.5,1,'R ear')"
      ]
     },
     "execution_count": 285,
     "metadata": {},
     "output_type": "execute_result"
    },
    {
     "data": {
      "image/png": "[encoded data removed]",
      "text/plain": [
       "<matplotlib.figure.Figure at 0x7efd5e1048>"
      ]
     },
     "metadata": {
      "needs_background": "light"
     },
     "output_type": "display_data"
    }
   ],
   "source": [
    "plt.scatter(data.time.values, r_ear)\n",
    "plt.title(\"R ear\")"
   ]
  },
  {
   "cell_type": "code",
   "execution_count": 291,
   "metadata": {},
   "outputs": [],
   "source": [
    "fft = np.fft.fft(np.array(r_ear))"
   ]
  },
  {
   "cell_type": "code",
   "execution_count": 296,
   "metadata": {},
   "outputs": [
    {
     "ename": "SyntaxError",
     "evalue": "invalid syntax (<ipython-input-296-3c0a48d27f67>, line 1)",
     "output_type": "error",
     "traceback": [
      "\u001b[0;36m  File \u001b[0;32m\"<ipython-input-296-3c0a48d27f67>\"\u001b[0;36m, line \u001b[0;32m1\u001b[0m\n\u001b[0;31m    is.na(r_ear)\u001b[0m\n\u001b[0m     ^\u001b[0m\n\u001b[0;31mSyntaxError\u001b[0m\u001b[0;31m:\u001b[0m invalid syntax\n"
     ]
    }
   ],
   "source": [
    "is.na(r_ear)"
   ]
  },
  {
   "cell_type": "code",
   "execution_count": 295,
   "metadata": {},
   "outputs": [
    {
     "data": {
      "text/plain": [
       "450"
      ]
     },
     "execution_count": 295,
     "metadata": {},
     "output_type": "execute_result"
    }
   ],
   "source": [
    "len(r_ear[])"
   ]
  },
  {
   "cell_type": "code",
   "execution_count": 293,
   "metadata": {},
   "outputs": [
    {
     "data": {
      "text/plain": [
       "array([-0.92985062,  0.73599438, -1.21271361,  1.0001053 ,  1.46816816,\n",
       "        0.62967392, -0.16475193, -1.24873096, -0.2780604 ,  0.58604962,\n",
       "        0.02426294, -0.54309144, -0.24866641, -0.00567832,  0.95006125,\n",
       "       -0.78845334,  0.05896778,  0.49091095, -0.91243556, -0.49300558,\n",
       "       -0.36552353,  0.51856077,  0.46264067, -1.39667606,  0.51661664,\n",
       "       -0.20090672, -0.12295538,  0.5360052 , -1.31119187,  1.12224053,\n",
       "       -0.45559773,  0.03374568, -0.24566994, -1.43892818,  0.41467501,\n",
       "       -0.5960589 ,  0.68611984, -0.44342131,  0.32044483,  0.29556098,\n",
       "       -0.15179283, -1.48288767,  0.29403135, -0.74051579,  0.87134108,\n",
       "       -0.80556983,  0.98971976, -0.40593279,  0.73193533, -1.42891349,\n",
       "       -0.69387521, -0.24203758,  0.04910823, -1.35907107, -1.23054444,\n",
       "        0.99538615,  1.36748368,  0.66773453, -0.74697188, -0.07565257,\n",
       "        1.01667971,  1.19077739, -0.71245755,  0.3323318 ,  1.39970738,\n",
       "       -1.21819532, -0.87206314,  0.29027218,  0.47522259, -0.6967327 ,\n",
       "        0.22030285,  0.34574621, -0.15411314, -1.20893485,  0.58818912,\n",
       "        0.03608581,  0.87570431,  0.45294251,  0.70046078, -0.1722124 ,\n",
       "       -0.02951907, -0.0083587 ,  0.0885421 ,  0.0128764 ,  1.40002366,\n",
       "       -0.32677711, -0.29990428, -0.52120197,  0.61346042, -1.21218872,\n",
       "        1.34211295, -0.99520088, -0.93882301,  0.04294739,  0.82932982,\n",
       "        0.29050861, -0.86881783,  1.48094639,  0.56910738,  0.38437579,\n",
       "       -1.32977166, -0.51110659,  0.24704766, -0.01399865, -0.19247897,\n",
       "        0.40010121, -0.52374217,  0.28926278,  0.01617362, -0.31617653,\n",
       "        0.14225705,  1.39978598, -0.04197772, -0.53091801, -0.98095419,\n",
       "        1.1873539 ,  1.09091357,  0.5927253 , -0.20384892, -0.77601949,\n",
       "       -0.89706965, -0.79159647,  1.22331736, -0.35006918, -0.36554979,\n",
       "       -1.47464684,  0.08600327, -0.382196  ,  0.69851561,  1.37570818,\n",
       "       -0.11812399,  0.89645147, -0.57880815, -1.25771962,  0.99756504,\n",
       "       -0.32452429, -0.97474532,  0.85614663, -0.35566239,  0.60682357,\n",
       "        1.38991388, -1.0946393 ,  0.68542553,  0.60556681, -0.52627502,\n",
       "        0.63917684, -0.08184769,  0.33420607, -0.06878179,  1.47308783,\n",
       "       -0.1349084 , -0.01754719,  0.30348966,  0.63935266, -0.63275223,\n",
       "        1.10167839,  0.00598515,  0.71109643, -0.01032769, -0.55202889,\n",
       "        0.45535517,  0.01857944,  1.23942018,  0.51999228, -0.97653009,\n",
       "        1.12866821,  0.53496075, -0.47857272,  0.34374241, -1.09823442,\n",
       "        0.50767137,  0.31895083,  0.75616893,  0.35764544, -0.30989311,\n",
       "        1.14754614,  0.62499601,  1.39319101, -0.29993467,  0.69270204,\n",
       "       -0.65763795, -1.05358386,  0.61041727, -0.54978053,  0.69312005,\n",
       "        0.63903195, -1.08092642,  0.53364431, -0.51502532,  0.6778358 ,\n",
       "        0.63471876, -0.3601831 , -0.70842573,  1.37032408, -0.40437698,\n",
       "        0.61725541,  1.3789509 , -1.18639835, -0.732029  ,  0.595473  ,\n",
       "        0.34710805,  0.01922343,  0.77711074, -1.02541002, -0.01491095,\n",
       "       -0.49065358,  0.48682937,  1.37881692, -0.58661834,  0.49468161,\n",
       "       -0.88363334,  0.87432897, -0.39047594,  1.00890662,  0.58410624,\n",
       "       -0.97052886,  0.0613881 , -0.54344527,  0.4044457 , -0.6372711 ,\n",
       "        1.45571123,  0.32924438, -1.21631642,  0.45139745,  0.53556011,\n",
       "       -1.39813485, -0.47627427, -0.6088414 , -0.35257226,  0.89521865,\n",
       "       -0.64777916,  0.33727402,  0.01651424,  0.32164094,  0.43422048,\n",
       "       -0.33620422,  0.6083546 , -0.90126914,  0.33440898,  0.48323051,\n",
       "       -0.67392674, -1.21020388, -0.69090936,  0.48842576, -0.12575488,\n",
       "        1.32339651, -1.37720713,  1.3862484 , -1.2054173 ,  0.62711203,\n",
       "       -0.48432955,  0.2890135 , -0.55811296,  1.30590599, -1.47276477,\n",
       "        0.7292493 , -0.17484334, -1.31656794, -1.04504284, -1.06770953,\n",
       "        0.95773676,  0.6896233 , -0.98015898,  0.93432697, -0.07296949,\n",
       "       -0.35198835,  0.47736227,  1.33733402, -1.48768732,  0.90842859,\n",
       "       -0.28934995,  0.61805081, -0.35759338,  0.29257147,  0.99055924,\n",
       "       -0.62653448,  0.28974738, -0.77140909,  0.30601677,  0.67548948,\n",
       "       -0.63210185,  0.47540213, -0.69461977, -0.69863912, -0.02486726,\n",
       "        0.91093917,  1.43581864, -0.97081158, -0.72690965,  0.07489362,\n",
       "        1.29664807,  0.86698429, -0.36979271, -1.28828416,  0.1048259 ,\n",
       "        0.61524435,  1.39751554, -1.36895908, -0.32551058,  0.14692919,\n",
       "       -0.50140208, -1.37714217,  1.14379003, -0.41734394,  0.68491576,\n",
       "       -0.74265452, -0.77098799, -1.39614975,  0.6478902 , -1.44095126,\n",
       "        1.08723002,  1.23273405,  0.92167304,  1.23306559, -1.13702652,\n",
       "        1.36231971, -1.04713858,  1.40138152, -1.11254353,  0.58320459,\n",
       "       -0.47517735,  0.90818884, -1.4023715 , -0.33940408, -0.05151752,\n",
       "       -0.63369687,  0.29995973, -0.01732035, -0.74182479,  0.89512296,\n",
       "        0.31094332, -1.02221721, -0.31927666, -1.20804298,  0.350253  ,\n",
       "       -0.96907085, -0.12982069,  0.81268325,  0.62409623, -0.10525251,\n",
       "       -0.81388456, -0.11469888, -1.01517089,  0.9597113 ,  1.16198587,\n",
       "        0.0606856 ,  0.57637576, -1.36495816,  0.70600755, -0.35727379,\n",
       "        0.58139363, -0.95131703,  0.95782462, -0.94975871, -1.48909772,\n",
       "        1.09978027, -0.32432804,  0.54410714, -0.78361929, -0.47939641,\n",
       "        0.96467829, -0.66397699,  0.29567608, -0.46775445,  1.18152709,\n",
       "       -0.78420045,  1.39122138,  1.19527366, -1.39175237, -0.34980753,\n",
       "        0.34868192,  0.28181082,  0.8326073 , -0.45967233, -0.32311034,\n",
       "       -0.50699566, -1.43620126, -0.69986346, -0.00986928,  0.08629508,\n",
       "       -0.95933574,  0.02776475, -0.98516296,  1.22255572,  0.14953155,\n",
       "        0.36575875, -0.47723925, -0.73260336, -0.70023415,  0.47799333,\n",
       "        1.47343819,  0.58932631, -0.84773014, -1.11352338, -0.26277166,\n",
       "       -0.32080618, -0.48691767,  0.75903962, -1.40254795,  0.68070591,\n",
       "       -1.4887135 ,  1.30215261, -1.18870543,  0.47507832, -0.63284553,\n",
       "        0.36321933,  0.72322152, -0.28919813,  0.47788272, -0.49475097,\n",
       "        0.99871029, -1.25508259,  0.66274389,  0.70047887, -0.17433293,\n",
       "       -0.75580992, -1.38457652, -0.16079416,  0.29488611, -0.99305716,\n",
       "        0.06658605, -0.94979372, -1.38077907, -0.41073887,  0.47737199,\n",
       "       -0.31800026,  0.48550276,  1.13577698,  0.22279462, -0.69094738,\n",
       "       -0.87422963, -0.22026536,  0.69102794, -0.60340874, -0.73875706,\n",
       "       -0.34246245, -1.45047281, -0.5197909 , -0.21397709, -0.75603446,\n",
       "        0.67271734,  0.00948354, -0.9647851 ,  0.01115011, -1.22920467,\n",
       "       -0.49096168, -0.24968665,  1.48488871, -0.69763167,  0.00249976])"
      ]
     },
     "execution_count": 293,
     "metadata": {},
     "output_type": "execute_result"
    }
   ],
   "source": [
    "np.sin(40 * 2 * np.pi * t) + 0.5 * np.sin(90 * 2 * np.pi * t)"
   ]
  },
  {
   "cell_type": "code",
   "execution_count": null,
   "metadata": {},
   "outputs": [],
   "source": [
    "T = t[1] - t[0]  # sampling interval \n",
    "N = s.size\n",
    "\n",
    "# 1/T = frequency\n",
    "f = np.linspace(0, 1 / T, N)\n",
    "\n",
    "plt.ylabel(\"Amplitude\")\n",
    "plt.xlabel(\"Frequency [Hz]\")\n",
    "plt.bar(f[:N // 2], np.abs(fft)[:N // 2] * 1 / N, width=1.5)  # 1 / N is a normalization factor\n",
    "plt.show()"
   ]
  },
  {
   "cell_type": "code",
   "execution_count": 279,
   "metadata": {},
   "outputs": [
    {
     "data": {
      "text/plain": [
       "Text(0.5,1,'R ear')"
      ]
     },
     "execution_count": 279,
     "metadata": {},
     "output_type": "execute_result"
    },
    {
     "data": {
      "image/png": "[encoded data removed]",
      "text/plain": [
       "<matplotlib.figure.Figure at 0x7efc2b2e80>"
      ]
     },
     "metadata": {
      "needs_background": "light"
     },
     "output_type": "display_data"
    }
   ],
   "source": [
    "plt.scatter(data.time.values, r_ear)\n",
    "plt.title(\"R ear\")"
   ]
  },
  {
   "cell_type": "code",
   "execution_count": 58,
   "metadata": {},
   "outputs": [
    {
     "data": {
      "text/plain": [
       "Text(0.5,1,'R shoulder')"
      ]
     },
     "execution_count": 58,
     "metadata": {},
     "output_type": "execute_result"
    },
    {
     "data": {
      "image/png": "[encoded data removed]",
      "text/plain": [
       "<matplotlib.figure.Figure at 0x7f8c20c438>"
      ]
     },
     "metadata": {
      "needs_background": "light"
     },
     "output_type": "display_data"
    }
   ],
   "source": [
    "r_shoulder = []\n",
    "\n",
    "for i in range(len(data.kpoints)):\n",
    "    r_shoulder.append(data.kpoints[i][3][2])\n",
    "    \n",
    "plt.scatter(data.time.values, r_shoulder)\n",
    "plt.title(\"R shoulder\")"
   ]
  },
  {
   "cell_type": "code",
   "execution_count": null,
   "metadata": {},
   "outputs": [],
   "source": []
  }
 ],
 "metadata": {
  "kernelspec": {
   "display_name": "Python 3",
   "language": "python",
   "name": "python3"
  },
  "language_info": {
   "codemirror_mode": {
    "name": "ipython",
    "version": 3
   },
   "file_extension": ".py",
   "mimetype": "text/x-python",
   "name": "python",
   "nbconvert_exporter": "python",
   "pygments_lexer": "ipython3",
   "version": "3.6.9"
  }
 },
 "nbformat": 4,
 "nbformat_minor": 4
}
