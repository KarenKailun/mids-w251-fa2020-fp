{
 "cells": [
  {
   "cell_type": "code",
   "execution_count": 1,
   "metadata": {},
   "outputs": [
    {
     "name": "stdout",
     "output_type": "stream",
     "text": [
      "WARNING:tensorflow:Deprecation warnings have been disabled. Set TF_ENABLE_DEPRECATION_WARNINGS=1 to re-enable them.\n"
     ]
    }
   ],
   "source": [
    "import numpy as np\n",
    "import glob\n",
    "import pandas as pd\n",
    "import ast\n",
    "import matplotlib.pyplot as plt\n",
    "from sklearn.model_selection import train_test_split\n",
    "\n",
    "import tensorflow as tf\n",
    "from tensorflow.keras.layers import Convolution2D, MaxPooling2D, Flatten, Dense\n"
   ]
  },
  {
   "cell_type": "code",
   "execution_count": 2,
   "metadata": {},
   "outputs": [],
   "source": [
    "datapath = \"../keypoints/\""
   ]
  },
  {
   "cell_type": "code",
   "execution_count": 3,
   "metadata": {},
   "outputs": [],
   "source": [
    "kp_files = glob.glob(datapath + '*.txt')"
   ]
  },
  {
   "cell_type": "code",
   "execution_count": 4,
   "metadata": {},
   "outputs": [],
   "source": [
    "# Get labels from file names\n",
    "labels = [int(x.split('_')[0].split(\"/\")[-1]) for x in kp_files]"
   ]
  },
  {
   "cell_type": "code",
   "execution_count": 5,
   "metadata": {},
   "outputs": [
    {
     "data": {
      "text/plain": [
       "19"
      ]
     },
     "execution_count": 5,
     "metadata": {},
     "output_type": "execute_result"
    }
   ],
   "source": [
    "# read in text files\n",
    "len(labels)"
   ]
  },
  {
   "cell_type": "code",
   "execution_count": 54,
   "metadata": {},
   "outputs": [
    {
     "data": {
      "text/html": [
       "<div>\n",
       "<style scoped>\n",
       "    .dataframe tbody tr th:only-of-type {\n",
       "        vertical-align: middle;\n",
       "    }\n",
       "\n",
       "    .dataframe tbody tr th {\n",
       "        vertical-align: top;\n",
       "    }\n",
       "\n",
       "    .dataframe thead th {\n",
       "        text-align: right;\n",
       "    }\n",
       "</style>\n",
       "<table border=\"1\" class=\"dataframe\">\n",
       "  <thead>\n",
       "    <tr style=\"text-align: right;\">\n",
       "      <th></th>\n",
       "      <th>time</th>\n",
       "      <th>kpoints</th>\n",
       "      <th>count</th>\n",
       "      <th>fps</th>\n",
       "    </tr>\n",
       "  </thead>\n",
       "  <tbody>\n",
       "    <tr>\n",
       "      <th>0</th>\n",
       "      <td>1.605553e+09</td>\n",
       "      <td>[(0, 0.529125452041626, 0.3717993199825287), (...</td>\n",
       "      <td>1</td>\n",
       "      <td>53.949502</td>\n",
       "    </tr>\n",
       "    <tr>\n",
       "      <th>1</th>\n",
       "      <td>1.605553e+09</td>\n",
       "      <td>[(0, 0.5283065438270569, 0.37145838141441345),...</td>\n",
       "      <td>2</td>\n",
       "      <td>50.406855</td>\n",
       "    </tr>\n",
       "    <tr>\n",
       "      <th>2</th>\n",
       "      <td>1.605553e+09</td>\n",
       "      <td>[(0, None, None), (1, None, None), (2, None, N...</td>\n",
       "      <td>3</td>\n",
       "      <td>51.169393</td>\n",
       "    </tr>\n",
       "    <tr>\n",
       "      <th>3</th>\n",
       "      <td>1.605553e+09</td>\n",
       "      <td>[(0, 0.5283210277557373, 0.3713357150554657), ...</td>\n",
       "      <td>4</td>\n",
       "      <td>44.569522</td>\n",
       "    </tr>\n",
       "    <tr>\n",
       "      <th>4</th>\n",
       "      <td>1.605553e+09</td>\n",
       "      <td>[(0, 0.5286968946456909, 0.37130624055862427),...</td>\n",
       "      <td>5</td>\n",
       "      <td>51.506828</td>\n",
       "    </tr>\n",
       "  </tbody>\n",
       "</table>\n",
       "</div>"
      ],
      "text/plain": [
       "           time                                            kpoints  count  \\\n",
       "0  1.605553e+09  [(0, 0.529125452041626, 0.3717993199825287), (...      1   \n",
       "1  1.605553e+09  [(0, 0.5283065438270569, 0.37145838141441345),...      2   \n",
       "2  1.605553e+09  [(0, None, None), (1, None, None), (2, None, N...      3   \n",
       "3  1.605553e+09  [(0, 0.5283210277557373, 0.3713357150554657), ...      4   \n",
       "4  1.605553e+09  [(0, 0.5286968946456909, 0.37130624055862427),...      5   \n",
       "\n",
       "         fps  \n",
       "0  53.949502  \n",
       "1  50.406855  \n",
       "2  51.169393  \n",
       "3  44.569522  \n",
       "4  51.506828  "
      ]
     },
     "execution_count": 54,
     "metadata": {},
     "output_type": "execute_result"
    }
   ],
   "source": [
    "data.head()"
   ]
  },
  {
   "cell_type": "code",
   "execution_count": 142,
   "metadata": {},
   "outputs": [],
   "source": [
    "channels = np.empty((450, 2))\n",
    "\n",
    "for kp_i in range(len(kp_ind)):\n",
    "\n",
    "    times = [t-data.time[0] for t in data.time]\n",
    "\n",
    "    tcol = []\n",
    "    ycol = []\n",
    "\n",
    "    for t_i in range(len(times)):\n",
    "        tp = times[t_i]\n",
    "        y = data.kpoints[t_i][kp_i][2]\n",
    "\n",
    "        tcol.append(tp)\n",
    "        ycol.append(y)\n",
    "\n",
    "    tcol = np.array(tcol).reshape(450, 1)\n",
    "    ycol = np.array(ycol).reshape(450, 1)\n",
    "\n",
    "    sel_kp = np.hstack((tcol, ycol))\n",
    "    \n",
    "    \n",
    "\n",
    "    channels = np.dstack((channels, sel_kp))\n",
    "\n",
    "channels = channels[:, :, 1:]"
   ]
  },
  {
   "cell_type": "code",
   "execution_count": 143,
   "metadata": {},
   "outputs": [
    {
     "data": {
      "text/plain": [
       "(450, 2, 9)"
      ]
     },
     "execution_count": 143,
     "metadata": {},
     "output_type": "execute_result"
    }
   ],
   "source": [
    "channels.shape"
   ]
  },
  {
   "cell_type": "code",
   "execution_count": 132,
   "metadata": {},
   "outputs": [],
   "source": [
    "c2 = channels.reshape((450, 2, 9))"
   ]
  },
  {
   "cell_type": "code",
   "execution_count": 133,
   "metadata": {},
   "outputs": [
    {
     "data": {
      "text/plain": [
       "array([[0.0, 0.3994360864162445],\n",
       "       [0.05242013931274414, 0.3994216024875641],\n",
       "       [0.1107945442199707, None],\n",
       "       [0.1670398712158203, 0.3994859755039215],\n",
       "       [0.23941922187805176, 0.3992924988269806]], dtype=object)"
      ]
     },
     "execution_count": 133,
     "metadata": {},
     "output_type": "execute_result"
    }
   ],
   "source": [
    "channels[1, 0:5, :]"
   ]
  },
  {
   "cell_type": "code",
   "execution_count": 136,
   "metadata": {},
   "outputs": [
    {
     "data": {
      "text/plain": [
       "(450, 2)"
      ]
     },
     "execution_count": 136,
     "metadata": {},
     "output_type": "execute_result"
    }
   ],
   "source": [
    "# for ch in channels:\n",
    "# ch = channels[0]\n",
    "\n",
    "arr = channels[0]\n",
    "arr.shape"
   ]
  },
  {
   "cell_type": "code",
   "execution_count": 145,
   "metadata": {},
   "outputs": [],
   "source": [
    "#TESTING\n",
    "kp_ind = [0, 1, 2, 3, 4, 5, 6, 7, 17]\n",
    "\n",
    "features = []\n",
    "\n",
    "for file in kp_files:\n",
    "    data = pd.read_csv(file, sep=\"\\t\", header=None)\n",
    "    data.columns = [\"time\", \"kpoints\", \"count\", \"fps\"]\n",
    "    data.kpoints = data.kpoints.apply(lambda x: ast.literal_eval(x.strip(\"()\")))\n",
    "    times = [t-data.time[0] for t in data.time]\n",
    "    \n",
    "    sel_kp = []\n",
    "    \n",
    "    channels = np.empty((len(times), 2))\n",
    "\n",
    "    for kp_i in range(len(kp_ind)):\n",
    "\n",
    "        times = [t-data.time[0] for t in data.time]\n",
    "\n",
    "        tcol = []\n",
    "        ycol = []\n",
    "\n",
    "        for t_i in range(len(times)):\n",
    "            tp = times[t_i]\n",
    "            y = data.kpoints[t_i][kp_i][2]\n",
    "\n",
    "            tcol.append(tp)\n",
    "            ycol.append(y)\n",
    "\n",
    "        tcol = np.array(tcol).reshape(450, 1)\n",
    "        ycol = np.array(ycol).reshape(450, 1)\n",
    "\n",
    "        sel_kp = np.hstack((tcol, ycol))\n",
    "\n",
    "\n",
    "\n",
    "        channels = np.dstack((channels, sel_kp))\n",
    "\n",
    "    channels = channels[:, :, 1:]\n",
    "\n",
    "    features.append(channels)"
   ]
  },
  {
   "cell_type": "code",
   "execution_count": 146,
   "metadata": {},
   "outputs": [
    {
     "data": {
      "text/plain": [
       "19"
      ]
     },
     "execution_count": 146,
     "metadata": {},
     "output_type": "execute_result"
    }
   ],
   "source": [
    "len(features)"
   ]
  },
  {
   "cell_type": "code",
   "execution_count": 147,
   "metadata": {},
   "outputs": [
    {
     "data": {
      "text/plain": [
       "(450, 2, 9)"
      ]
     },
     "execution_count": 147,
     "metadata": {},
     "output_type": "execute_result"
    }
   ],
   "source": [
    "features[0].shape"
   ]
  },
  {
   "cell_type": "code",
   "execution_count": 158,
   "metadata": {},
   "outputs": [],
   "source": [
    "# Check to make sure channels are correct\n",
    "# plt.scatter(features[0][:, 0, 0], features[0][:, 1, 0])"
   ]
  },
  {
   "cell_type": "code",
   "execution_count": 272,
   "metadata": {},
   "outputs": [],
   "source": [
    "# # # SAVE DATA\n",
    "# with open('features.txt', 'w') as filehandle:\n",
    "#     for listitem in features:\n",
    "#         filehandle.write('%s\\n' % listitem)\n",
    "\n",
    "# with open('labels.txt', 'w') as filehandle:\n",
    "#     for listitem in labels:\n",
    "#         filehandle.write('%s\\n' % listitem)"
   ]
  },
  {
   "cell_type": "code",
   "execution_count": 159,
   "metadata": {},
   "outputs": [
    {
     "name": "stdout",
     "output_type": "stream",
     "text": [
      "(19, 450, 2, 9)\n"
     ]
    }
   ],
   "source": [
    "X = np.array(features)\n",
    "print(X.shape)"
   ]
  },
  {
   "cell_type": "code",
   "execution_count": 105,
   "metadata": {},
   "outputs": [
    {
     "name": "stdout",
     "output_type": "stream",
     "text": [
      "(19,)\n"
     ]
    }
   ],
   "source": [
    "Y = np.array(labels)\n",
    "print(Y.shape)"
   ]
  },
  {
   "cell_type": "code",
   "execution_count": null,
   "metadata": {},
   "outputs": [],
   "source": []
  },
  {
   "cell_type": "code",
   "execution_count": 160,
   "metadata": {},
   "outputs": [],
   "source": [
    "X_train, X_test, Y_train, Y_test = train_test_split(X, Y, test_size=0.15, random_state=24601)"
   ]
  },
  {
   "cell_type": "code",
   "execution_count": 161,
   "metadata": {},
   "outputs": [
    {
     "data": {
      "text/plain": [
       "(16, 450, 2, 9)"
      ]
     },
     "execution_count": 161,
     "metadata": {},
     "output_type": "execute_result"
    }
   ],
   "source": [
    "X_train.shape"
   ]
  },
  {
   "cell_type": "code",
   "execution_count": 258,
   "metadata": {},
   "outputs": [],
   "source": [
    "model = tf.keras.Sequential([\n",
    "    Convolution2D(filters=32, kernel_size = (5,2), strides=(5,1), \n",
    "                  padding=\"same\", \n",
    "                  input_shape=(450,2, 9), data_format='channels_last', \n",
    "                  activation=\"relu\"),\n",
    "#     MaxPooling2D(pool_size=(2,2), strides=2),\n",
    "    Flatten(),\n",
    "    Dense(64, kernel_initializer=\"normal\", activation='relu'),\n",
    "    Dense(1, kernel_initializer=\"normal\", activation='linear')\n",
    "])\n",
    "\n"
   ]
  },
  {
   "cell_type": "code",
   "execution_count": 264,
   "metadata": {},
   "outputs": [],
   "source": [
    "model.compile(loss=\"mse\", optimizer=tf.keras.optimizers.Adam(0.5), metrics=[\"mse\", \"mae\"])"
   ]
  },
  {
   "cell_type": "code",
   "execution_count": 265,
   "metadata": {},
   "outputs": [
    {
     "name": "stdout",
     "output_type": "stream",
     "text": [
      "Model: \"sequential_24\"\n",
      "_________________________________________________________________\n",
      "Layer (type)                 Output Shape              Param #   \n",
      "=================================================================\n",
      "conv2d_27 (Conv2D)           (None, 90, 2, 32)         2912      \n",
      "_________________________________________________________________\n",
      "flatten_16 (Flatten)         (None, 5760)              0         \n",
      "_________________________________________________________________\n",
      "dense_30 (Dense)             (None, 64)                368704    \n",
      "_________________________________________________________________\n",
      "dense_31 (Dense)             (None, 1)                 65        \n",
      "=================================================================\n",
      "Total params: 371,681\n",
      "Trainable params: 371,681\n",
      "Non-trainable params: 0\n",
      "_________________________________________________________________\n"
     ]
    }
   ],
   "source": [
    "model.summary()"
   ]
  },
  {
   "cell_type": "code",
   "execution_count": 266,
   "metadata": {},
   "outputs": [
    {
     "name": "stdout",
     "output_type": "stream",
     "text": [
      "Train on 16 samples\n",
      "Epoch 1/100\n",
      "16/16 [==============================] - 0s 25ms/sample - loss: 300.3015 - mean_squared_error: 300.3015 - mean_absolute_error: 14.3196\n",
      "Epoch 2/100\n",
      "16/16 [==============================] - 0s 2ms/sample - loss: 286.2314 - mean_squared_error: 286.2314 - mean_absolute_error: 13.8196\n",
      "Epoch 3/100\n",
      "16/16 [==============================] - 0s 1ms/sample - loss: 272.6761 - mean_squared_error: 272.6761 - mean_absolute_error: 13.3201\n",
      "Epoch 4/100\n",
      "16/16 [==============================] - 0s 2ms/sample - loss: 259.6437 - mean_squared_error: 259.6437 - mean_absolute_error: 12.8216\n",
      "Epoch 5/100\n",
      "16/16 [==============================] - 0s 3ms/sample - loss: 247.1414 - mean_squared_error: 247.1414 - mean_absolute_error: 12.3244\n",
      "Epoch 6/100\n",
      "16/16 [==============================] - 0s 3ms/sample - loss: 235.1753 - mean_squared_error: 235.1753 - mean_absolute_error: 11.8290\n",
      "Epoch 7/100\n",
      "16/16 [==============================] - 0s 2ms/sample - loss: 223.7505 - mean_squared_error: 223.7505 - mean_absolute_error: 11.3358\n",
      "Epoch 8/100\n",
      "16/16 [==============================] - 0s 2ms/sample - loss: 212.8705 - mean_squared_error: 212.8705 - mean_absolute_error: 10.8453\n",
      "Epoch 9/100\n",
      "16/16 [==============================] - 0s 3ms/sample - loss: 202.5377 - mean_squared_error: 202.5377 - mean_absolute_error: 10.3580\n",
      "Epoch 10/100\n",
      "16/16 [==============================] - 0s 2ms/sample - loss: 192.7526 - mean_squared_error: 192.7526 - mean_absolute_error: 9.8743\n",
      "Epoch 11/100\n",
      "16/16 [==============================] - 0s 2ms/sample - loss: 183.5145 - mean_squared_error: 183.5145 - mean_absolute_error: 9.4343\n",
      "Epoch 12/100\n",
      "16/16 [==============================] - 0s 2ms/sample - loss: 174.8209 - mean_squared_error: 174.8209 - mean_absolute_error: 9.1377\n",
      "Epoch 13/100\n",
      "16/16 [==============================] - 0s 2ms/sample - loss: 166.6678 - mean_squared_error: 166.6678 - mean_absolute_error: 8.8443\n",
      "Epoch 14/100\n",
      "16/16 [==============================] - 0s 2ms/sample - loss: 159.0492 - mean_squared_error: 159.0492 - mean_absolute_error: 8.5547\n",
      "Epoch 15/100\n",
      "16/16 [==============================] - 0s 2ms/sample - loss: 151.9577 - mean_squared_error: 151.9577 - mean_absolute_error: 8.2690\n",
      "Epoch 16/100\n",
      "16/16 [==============================] - 0s 2ms/sample - loss: 145.3838 - mean_squared_error: 145.3838 - mean_absolute_error: 7.9878\n",
      "Epoch 17/100\n",
      "16/16 [==============================] - 0s 2ms/sample - loss: 139.3163 - mean_squared_error: 139.3163 - mean_absolute_error: 7.7114\n",
      "Epoch 18/100\n",
      "16/16 [==============================] - 0s 2ms/sample - loss: 133.7426 - mean_squared_error: 133.7426 - mean_absolute_error: 7.4401\n",
      "Epoch 19/100\n",
      "16/16 [==============================] - 0s 3ms/sample - loss: 128.6479 - mean_squared_error: 128.6479 - mean_absolute_error: 7.1744\n",
      "Epoch 20/100\n",
      "16/16 [==============================] - 0s 2ms/sample - loss: 124.0163 - mean_squared_error: 124.0163 - mean_absolute_error: 6.9659\n",
      "Epoch 21/100\n",
      "16/16 [==============================] - 0s 4ms/sample - loss: 119.8298 - mean_squared_error: 119.8298 - mean_absolute_error: 6.8645\n",
      "Epoch 22/100\n",
      "16/16 [==============================] - 0s 3ms/sample - loss: 116.0695 - mean_squared_error: 116.0695 - mean_absolute_error: 6.7657\n",
      "Epoch 23/100\n",
      "16/16 [==============================] - 0s 2ms/sample - loss: 112.7147 - mean_squared_error: 112.7147 - mean_absolute_error: 6.6698\n",
      "Epoch 24/100\n",
      "16/16 [==============================] - 0s 2ms/sample - loss: 109.7440 - mean_squared_error: 109.7440 - mean_absolute_error: 6.5768\n",
      "Epoch 25/100\n",
      "16/16 [==============================] - 0s 2ms/sample - loss: 107.1346 - mean_squared_error: 107.1346 - mean_absolute_error: 6.5263\n",
      "Epoch 26/100\n",
      "16/16 [==============================] - 0s 2ms/sample - loss: 104.8631 - mean_squared_error: 104.8631 - mean_absolute_error: 6.6997\n",
      "Epoch 27/100\n",
      "16/16 [==============================] - 0s 2ms/sample - loss: 102.9055 - mean_squared_error: 102.9055 - mean_absolute_error: 6.8666\n",
      "Epoch 28/100\n",
      "16/16 [==============================] - 0s 3ms/sample - loss: 101.2373 - mean_squared_error: 101.2373 - mean_absolute_error: 7.0266\n",
      "Epoch 29/100\n",
      "16/16 [==============================] - 0s 3ms/sample - loss: 99.8338 - mean_squared_error: 99.8338 - mean_absolute_error: 7.1795\n",
      "Epoch 30/100\n",
      "16/16 [==============================] - 0s 3ms/sample - loss: 98.6706 - mean_squared_error: 98.6706 - mean_absolute_error: 7.3253\n",
      "Epoch 31/100\n",
      "16/16 [==============================] - 0s 3ms/sample - loss: 97.7234 - mean_squared_error: 97.7234 - mean_absolute_error: 7.4637\n",
      "Epoch 32/100\n",
      "16/16 [==============================] - 0s 2ms/sample - loss: 96.9682 - mean_squared_error: 96.9682 - mean_absolute_error: 7.5946\n",
      "Epoch 33/100\n",
      "16/16 [==============================] - 0s 2ms/sample - loss: 96.3822 - mean_squared_error: 96.3822 - mean_absolute_error: 7.7180\n",
      "Epoch 34/100\n",
      "16/16 [==============================] - 0s 2ms/sample - loss: 95.9431 - mean_squared_error: 95.9431 - mean_absolute_error: 7.8338\n",
      "Epoch 35/100\n",
      "16/16 [==============================] - 0s 2ms/sample - loss: 95.6297 - mean_squared_error: 95.6297 - mean_absolute_error: 7.9419\n",
      "Epoch 36/100\n",
      "16/16 [==============================] - 0s 2ms/sample - loss: 95.4224 - mean_squared_error: 95.4224 - mean_absolute_error: 8.0424\n",
      "Epoch 37/100\n",
      "16/16 [==============================] - 0s 2ms/sample - loss: 95.3026 - mean_squared_error: 95.3026 - mean_absolute_error: 8.1353\n",
      "Epoch 38/100\n",
      "16/16 [==============================] - 0s 2ms/sample - loss: 95.2534 - mean_squared_error: 95.2534 - mean_absolute_error: 8.2206\n",
      "Epoch 39/100\n",
      "16/16 [==============================] - 0s 2ms/sample - loss: 95.2594 - mean_squared_error: 95.2594 - mean_absolute_error: 8.2985\n",
      "Epoch 40/100\n",
      "16/16 [==============================] - 0s 2ms/sample - loss: 95.3067 - mean_squared_error: 95.3067 - mean_absolute_error: 8.3691\n",
      "Epoch 41/100\n",
      "16/16 [==============================] - 0s 2ms/sample - loss: 95.3833 - mean_squared_error: 95.3833 - mean_absolute_error: 8.4325\n",
      "Epoch 42/100\n",
      "16/16 [==============================] - 0s 2ms/sample - loss: 95.4784 - mean_squared_error: 95.4784 - mean_absolute_error: 8.4889\n",
      "Epoch 43/100\n",
      "16/16 [==============================] - 0s 2ms/sample - loss: 95.5831 - mean_squared_error: 95.5831 - mean_absolute_error: 8.5386\n",
      "Epoch 44/100\n",
      "16/16 [==============================] - 0s 3ms/sample - loss: 95.6900 - mean_squared_error: 95.6900 - mean_absolute_error: 8.5817\n",
      "Epoch 45/100\n",
      "16/16 [==============================] - 0s 2ms/sample - loss: 95.7931 - mean_squared_error: 95.7931 - mean_absolute_error: 8.6185\n",
      "Epoch 46/100\n",
      "16/16 [==============================] - 0s 2ms/sample - loss: 95.8875 - mean_squared_error: 95.8875 - mean_absolute_error: 8.6492\n",
      "Epoch 47/100\n",
      "16/16 [==============================] - 0s 2ms/sample - loss: 95.9699 - mean_squared_error: 95.9699 - mean_absolute_error: 8.6742\n",
      "Epoch 48/100\n",
      "16/16 [==============================] - 0s 3ms/sample - loss: 96.0378 - mean_squared_error: 96.0378 - mean_absolute_error: 8.6938\n",
      "Epoch 49/100\n",
      "16/16 [==============================] - 0s 3ms/sample - loss: 96.0899 - mean_squared_error: 96.0899 - mean_absolute_error: 8.7082\n",
      "Epoch 50/100\n",
      "16/16 [==============================] - 0s 2ms/sample - loss: 96.1255 - mean_squared_error: 96.1255 - mean_absolute_error: 8.7178\n",
      "Epoch 51/100\n",
      "16/16 [==============================] - 0s 3ms/sample - loss: 96.1449 - mean_squared_error: 96.1449 - mean_absolute_error: 8.7230\n",
      "Epoch 52/100\n",
      "16/16 [==============================] - 0s 3ms/sample - loss: 96.1486 - mean_squared_error: 96.1486 - mean_absolute_error: 8.7240\n",
      "Epoch 53/100\n",
      "16/16 [==============================] - 0s 2ms/sample - loss: 96.1380 - mean_squared_error: 96.1380 - mean_absolute_error: 8.7212\n",
      "Epoch 54/100\n",
      "16/16 [==============================] - 0s 2ms/sample - loss: 96.1145 - mean_squared_error: 96.1145 - mean_absolute_error: 8.7149\n",
      "Epoch 55/100\n",
      "16/16 [==============================] - 0s 2ms/sample - loss: 96.0798 - mean_squared_error: 96.0798 - mean_absolute_error: 8.7055\n",
      "Epoch 56/100\n",
      "16/16 [==============================] - 0s 2ms/sample - loss: 96.0358 - mean_squared_error: 96.0358 - mean_absolute_error: 8.6932\n",
      "Epoch 57/100\n",
      "16/16 [==============================] - 0s 2ms/sample - loss: 95.9846 - mean_squared_error: 95.9846 - mean_absolute_error: 8.6785\n"
     ]
    },
    {
     "name": "stdout",
     "output_type": "stream",
     "text": [
      "Epoch 58/100\n",
      "16/16 [==============================] - 0s 2ms/sample - loss: 95.9279 - mean_squared_error: 95.9279 - mean_absolute_error: 8.6617\n",
      "Epoch 59/100\n",
      "16/16 [==============================] - 0s 3ms/sample - loss: 95.8677 - mean_squared_error: 95.8677 - mean_absolute_error: 8.6430\n",
      "Epoch 60/100\n",
      "16/16 [==============================] - 0s 2ms/sample - loss: 95.8056 - mean_squared_error: 95.8056 - mean_absolute_error: 8.6227\n",
      "Epoch 61/100\n",
      "16/16 [==============================] - 0s 2ms/sample - loss: 95.7433 - mean_squared_error: 95.7433 - mean_absolute_error: 8.6012\n",
      "Epoch 62/100\n",
      "16/16 [==============================] - 0s 3ms/sample - loss: 95.6821 - mean_squared_error: 95.6821 - mean_absolute_error: 8.5787\n",
      "Epoch 63/100\n",
      "16/16 [==============================] - 0s 2ms/sample - loss: 95.6232 - mean_squared_error: 95.6232 - mean_absolute_error: 8.5555\n",
      "Epoch 64/100\n",
      "16/16 [==============================] - 0s 1ms/sample - loss: 95.5675 - mean_squared_error: 95.5675 - mean_absolute_error: 8.5317\n",
      "Epoch 65/100\n",
      "16/16 [==============================] - 0s 1ms/sample - loss: 95.5158 - mean_squared_error: 95.5158 - mean_absolute_error: 8.5078\n",
      "Epoch 66/100\n",
      "16/16 [==============================] - 0s 2ms/sample - loss: 95.4687 - mean_squared_error: 95.4687 - mean_absolute_error: 8.4838\n",
      "Epoch 67/100\n",
      "16/16 [==============================] - 0s 3ms/sample - loss: 95.4264 - mean_squared_error: 95.4264 - mean_absolute_error: 8.4600\n",
      "Epoch 68/100\n",
      "16/16 [==============================] - 0s 2ms/sample - loss: 95.3892 - mean_squared_error: 95.3892 - mean_absolute_error: 8.4365\n",
      "Epoch 69/100\n",
      "16/16 [==============================] - 0s 2ms/sample - loss: 95.3570 - mean_squared_error: 95.3570 - mean_absolute_error: 8.4136\n",
      "Epoch 70/100\n",
      "16/16 [==============================] - 0s 2ms/sample - loss: 95.3299 - mean_squared_error: 95.3299 - mean_absolute_error: 8.3913\n",
      "Epoch 71/100\n",
      "16/16 [==============================] - 0s 2ms/sample - loss: 95.3074 - mean_squared_error: 95.3074 - mean_absolute_error: 8.3698\n",
      "Epoch 72/100\n",
      "16/16 [==============================] - 0s 3ms/sample - loss: 95.2894 - mean_squared_error: 95.2894 - mean_absolute_error: 8.3492\n",
      "Epoch 73/100\n",
      "16/16 [==============================] - 0s 2ms/sample - loss: 95.2754 - mean_squared_error: 95.2754 - mean_absolute_error: 8.3297\n",
      "Epoch 74/100\n",
      "16/16 [==============================] - 0s 3ms/sample - loss: 95.2650 - mean_squared_error: 95.2650 - mean_absolute_error: 8.3112\n",
      "Epoch 75/100\n",
      "16/16 [==============================] - 0s 2ms/sample - loss: 95.2577 - mean_squared_error: 95.2577 - mean_absolute_error: 8.2939\n",
      "Epoch 76/100\n",
      "16/16 [==============================] - 0s 2ms/sample - loss: 95.2531 - mean_squared_error: 95.2531 - mean_absolute_error: 8.2778\n",
      "Epoch 77/100\n",
      "16/16 [==============================] - 0s 2ms/sample - loss: 95.2507 - mean_squared_error: 95.2507 - mean_absolute_error: 8.2629\n",
      "Epoch 78/100\n",
      "16/16 [==============================] - 0s 2ms/sample - loss: 95.2500 - mean_squared_error: 95.2500 - mean_absolute_error: 8.2493\n",
      "Epoch 79/100\n",
      "16/16 [==============================] - 0s 2ms/sample - loss: 95.2507 - mean_squared_error: 95.2507 - mean_absolute_error: 8.2370\n",
      "Epoch 80/100\n",
      "16/16 [==============================] - 0s 1ms/sample - loss: 95.2523 - mean_squared_error: 95.2523 - mean_absolute_error: 8.2260\n",
      "Epoch 81/100\n",
      "16/16 [==============================] - 0s 2ms/sample - loss: 95.2546 - mean_squared_error: 95.2546 - mean_absolute_error: 8.2162\n",
      "Epoch 82/100\n",
      "16/16 [==============================] - 0s 2ms/sample - loss: 95.2571 - mean_squared_error: 95.2571 - mean_absolute_error: 8.2077\n",
      "Epoch 83/100\n",
      "16/16 [==============================] - 0s 3ms/sample - loss: 95.2598 - mean_squared_error: 95.2598 - mean_absolute_error: 8.2005\n",
      "Epoch 84/100\n",
      "16/16 [==============================] - 0s 2ms/sample - loss: 95.2624 - mean_squared_error: 95.2624 - mean_absolute_error: 8.1943\n",
      "Epoch 85/100\n",
      "16/16 [==============================] - 0s 1ms/sample - loss: 95.2647 - mean_squared_error: 95.2647 - mean_absolute_error: 8.1894\n",
      "Epoch 86/100\n",
      "16/16 [==============================] - 0s 2ms/sample - loss: 95.2666 - mean_squared_error: 95.2666 - mean_absolute_error: 8.1855\n",
      "Epoch 87/100\n",
      "16/16 [==============================] - 0s 3ms/sample - loss: 95.2682 - mean_squared_error: 95.2682 - mean_absolute_error: 8.1826\n",
      "Epoch 88/100\n",
      "16/16 [==============================] - 0s 2ms/sample - loss: 95.2692 - mean_squared_error: 95.2692 - mean_absolute_error: 8.1807\n",
      "Epoch 89/100\n",
      "16/16 [==============================] - 0s 3ms/sample - loss: 95.2698 - mean_squared_error: 95.2698 - mean_absolute_error: 8.1797\n",
      "Epoch 90/100\n",
      "16/16 [==============================] - 0s 3ms/sample - loss: 95.2699 - mean_squared_error: 95.2699 - mean_absolute_error: 8.1795\n",
      "Epoch 91/100\n",
      "16/16 [==============================] - 0s 2ms/sample - loss: 95.2696 - mean_squared_error: 95.2696 - mean_absolute_error: 8.1800\n",
      "Epoch 92/100\n",
      "16/16 [==============================] - 0s 2ms/sample - loss: 95.2689 - mean_squared_error: 95.2689 - mean_absolute_error: 8.1812\n",
      "Epoch 93/100\n",
      "16/16 [==============================] - 0s 2ms/sample - loss: 95.2679 - mean_squared_error: 95.2679 - mean_absolute_error: 8.1831\n",
      "Epoch 94/100\n",
      "16/16 [==============================] - 0s 2ms/sample - loss: 95.2667 - mean_squared_error: 95.2667 - mean_absolute_error: 8.1854\n",
      "Epoch 95/100\n",
      "16/16 [==============================] - 0s 2ms/sample - loss: 95.2653 - mean_squared_error: 95.2653 - mean_absolute_error: 8.1882\n",
      "Epoch 96/100\n",
      "16/16 [==============================] - 0s 2ms/sample - loss: 95.2637 - mean_squared_error: 95.2637 - mean_absolute_error: 8.1914\n",
      "Epoch 97/100\n",
      "16/16 [==============================] - 0s 1ms/sample - loss: 95.2621 - mean_squared_error: 95.2621 - mean_absolute_error: 8.1950\n",
      "Epoch 98/100\n",
      "16/16 [==============================] - 0s 2ms/sample - loss: 95.2605 - mean_squared_error: 95.2605 - mean_absolute_error: 8.1988\n",
      "Epoch 99/100\n",
      "16/16 [==============================] - 0s 3ms/sample - loss: 95.2589 - mean_squared_error: 95.2589 - mean_absolute_error: 8.2027\n",
      "Epoch 100/100\n",
      "16/16 [==============================] - 0s 3ms/sample - loss: 95.2574 - mean_squared_error: 95.2574 - mean_absolute_error: 8.2069\n"
     ]
    }
   ],
   "source": [
    "history = model.fit(X_train, Y_train, epochs=100)"
   ]
  },
  {
   "cell_type": "code",
   "execution_count": 267,
   "metadata": {},
   "outputs": [
    {
     "data": {
      "text/plain": [
       "[<matplotlib.lines.Line2D at 0x7ed9617b38>]"
      ]
     },
     "execution_count": 267,
     "metadata": {},
     "output_type": "execute_result"
    },
    {
     "data": {
      "image/png": "[encoded data removed]",
      "text/plain": [
       "<matplotlib.figure.Figure at 0x7ed970beb8>"
      ]
     },
     "metadata": {
      "needs_background": "light"
     },
     "output_type": "display_data"
    }
   ],
   "source": [
    "plt.plot(history.history['mean_squared_error'])"
   ]
  },
  {
   "cell_type": "code",
   "execution_count": 268,
   "metadata": {},
   "outputs": [
    {
     "name": "stdout",
     "output_type": "stream",
     "text": [
      "\r",
      "3/3 [==============================] - 0s 77ms/sample - loss: 43.2954 - mean_squared_error: 43.2954 - mean_absolute_error: 6.0888\n"
     ]
    },
    {
     "data": {
      "text/plain": [
       "[43.2954216003418, 43.29542, 6.088776]"
      ]
     },
     "execution_count": 268,
     "metadata": {},
     "output_type": "execute_result"
    }
   ],
   "source": [
    "model.evaluate(X_test, Y_test)"
   ]
  },
  {
   "cell_type": "code",
   "execution_count": 269,
   "metadata": {},
   "outputs": [
    {
     "data": {
      "text/plain": [
       "array([[23.42211],\n",
       "       [23.42211],\n",
       "       [23.42211]], dtype=float32)"
      ]
     },
     "execution_count": 269,
     "metadata": {},
     "output_type": "execute_result"
    }
   ],
   "source": [
    "model.predict(X_test)"
   ]
  },
  {
   "cell_type": "code",
   "execution_count": 270,
   "metadata": {},
   "outputs": [],
   "source": [
    "train_pred = model.predict(X_train)"
   ]
  },
  {
   "cell_type": "code",
   "execution_count": 271,
   "metadata": {},
   "outputs": [
    {
     "data": {
      "text/plain": [
       "array([[23.42211],\n",
       "       [23.42211],\n",
       "       [23.42211],\n",
       "       [23.42211],\n",
       "       [23.42211],\n",
       "       [23.42211],\n",
       "       [23.42211],\n",
       "       [23.42211],\n",
       "       [23.42211],\n",
       "       [23.42211],\n",
       "       [23.42211],\n",
       "       [23.42211],\n",
       "       [23.42211],\n",
       "       [23.42211],\n",
       "       [23.42211],\n",
       "       [23.42211]], dtype=float32)"
      ]
     },
     "execution_count": 271,
     "metadata": {},
     "output_type": "execute_result"
    }
   ],
   "source": [
    "train_pred"
   ]
  },
  {
   "cell_type": "code",
   "execution_count": 210,
   "metadata": {},
   "outputs": [
    {
     "data": {
      "text/plain": [
       "array([14, 18, 20, 18, 40, 18, 40, 14, 20, 20, 20, 40, 14, 20, 40, 20])"
      ]
     },
     "execution_count": 210,
     "metadata": {},
     "output_type": "execute_result"
    }
   ],
   "source": [
    "Y_train"
   ]
  },
  {
   "cell_type": "markdown",
   "metadata": {},
   "source": [
    "## Example plots"
   ]
  },
  {
   "cell_type": "code",
   "execution_count": 21,
   "metadata": {},
   "outputs": [],
   "source": [
    "r_ear = []\n",
    "\n",
    "for i in range(len(data.kpoints)):\n",
    "    r_ear.append(data.kpoints[i][4][2])"
   ]
  },
  {
   "cell_type": "code",
   "execution_count": 24,
   "metadata": {},
   "outputs": [
    {
     "data": {
      "text/plain": [
       "Text(0.5,1,'R ear')"
      ]
     },
     "execution_count": 24,
     "metadata": {},
     "output_type": "execute_result"
    },
    {
     "data": {
      "image/png": "[encoded data removed]",
      "text/plain": [
       "<matplotlib.figure.Figure at 0x7f8e83ce48>"
      ]
     },
     "metadata": {
      "needs_background": "light"
     },
     "output_type": "display_data"
    }
   ],
   "source": [
    "plt.scatter(data.time.values, r_ear)\n",
    "plt.title(\"R ear\")"
   ]
  },
  {
   "cell_type": "code",
   "execution_count": 58,
   "metadata": {},
   "outputs": [
    {
     "data": {
      "text/plain": [
       "Text(0.5,1,'R shoulder')"
      ]
     },
     "execution_count": 58,
     "metadata": {},
     "output_type": "execute_result"
    },
    {
     "data": {
      "image/png": "[encoded data removed]",
      "text/plain": [
       "<matplotlib.figure.Figure at 0x7f8c20c438>"
      ]
     },
     "metadata": {
      "needs_background": "light"
     },
     "output_type": "display_data"
    }
   ],
   "source": [
    "data = pd.read_csv(kp_files[4], sep=\"\\t\", header=None)\n",
    "data.columns = [\"time\", \"kpoints\", \"count\", \"fps\"]\n",
    "data.kpoints = data.kpoints.apply(lambda x: ast.literal_eval(x.strip(\"()\")))\n",
    "\n",
    "r_shoulder = []\n",
    "\n",
    "for i in range(len(data.kpoints)):\n",
    "    r_shoulder.append(data.kpoints[i][3][2])\n",
    "    \n",
    "plt.scatter(data.time.values, r_shoulder)\n",
    "plt.title(\"R shoulder\")"
   ]
  },
  {
   "cell_type": "code",
   "execution_count": null,
   "metadata": {},
   "outputs": [],
   "source": []
  }
 ],
 "metadata": {
  "kernelspec": {
   "display_name": "Python 3",
   "language": "python",
   "name": "python3"
  },
  "language_info": {
   "codemirror_mode": {
    "name": "ipython",
    "version": 3
   },
   "file_extension": ".py",
   "mimetype": "text/x-python",
   "name": "python",
   "nbconvert_exporter": "python",
   "pygments_lexer": "ipython3",
   "version": "3.6.9"
  }
 },
 "nbformat": 4,
 "nbformat_minor": 4
}
