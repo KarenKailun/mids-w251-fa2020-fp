{
 "cells": [
  {
   "cell_type": "code",
   "execution_count": 70,
   "metadata": {},
   "outputs": [
    {
     "name": "stderr",
     "output_type": "stream",
     "text": [
      "Matplotlib created a temporary config/cache directory at /tmp/matplotlib-xzotl5w5 because the default path (/home/karen/.cache/matplotlib) is not a writable directory; it is highly recommended to set the MPLCONFIGDIR environment variable to a writable directory, in particular to speed up the import of Matplotlib and to better support multiprocessing.\n"
     ]
    }
   ],
   "source": [
    "import pandas as pd\n",
    "# import json \n",
    "import ast \n",
    "import matplotlib.pyplot as plt\n",
    "import numpy as np"
   ]
  },
  {
   "cell_type": "code",
   "execution_count": 55,
   "metadata": {},
   "outputs": [],
   "source": [
    "data = pd.read_csv('poseout.txt', sep=\"\\t\", header=None)\n",
    "data.columns = [\"time\", \"kpoints\", \"count\", \"fps\"]"
   ]
  },
  {
   "cell_type": "code",
   "execution_count": 33,
   "metadata": {},
   "outputs": [
    {
     "data": {
      "text/html": [
       "<div>\n",
       "<style scoped>\n",
       "    .dataframe tbody tr th:only-of-type {\n",
       "        vertical-align: middle;\n",
       "    }\n",
       "\n",
       "    .dataframe tbody tr th {\n",
       "        vertical-align: top;\n",
       "    }\n",
       "\n",
       "    .dataframe thead th {\n",
       "        text-align: right;\n",
       "    }\n",
       "</style>\n",
       "<table border=\"1\" class=\"dataframe\">\n",
       "  <thead>\n",
       "    <tr style=\"text-align: right;\">\n",
       "      <th></th>\n",
       "      <th>time</th>\n",
       "      <th>kpoints</th>\n",
       "      <th>count</th>\n",
       "      <th>fps</th>\n",
       "    </tr>\n",
       "  </thead>\n",
       "  <tbody>\n",
       "    <tr>\n",
       "      <th>0</th>\n",
       "      <td>1.603209e+09</td>\n",
       "      <td>[(0, None, None), (1, None, None), (2, None, N...</td>\n",
       "      <td>1</td>\n",
       "      <td>16.305149</td>\n",
       "    </tr>\n",
       "    <tr>\n",
       "      <th>1</th>\n",
       "      <td>1.603209e+09</td>\n",
       "      <td>[(0, None, None), (1, None, None), (2, None, N...</td>\n",
       "      <td>2</td>\n",
       "      <td>46.687935</td>\n",
       "    </tr>\n",
       "    <tr>\n",
       "      <th>2</th>\n",
       "      <td>1.603209e+09</td>\n",
       "      <td>[(0, 0.37119027972221375, 0.5603485107421875),...</td>\n",
       "      <td>1</td>\n",
       "      <td>23.833710</td>\n",
       "    </tr>\n",
       "    <tr>\n",
       "      <th>3</th>\n",
       "      <td>1.603209e+09</td>\n",
       "      <td>[(0, 0.3741444945335388, 0.6049302220344543), ...</td>\n",
       "      <td>2</td>\n",
       "      <td>40.583493</td>\n",
       "    </tr>\n",
       "    <tr>\n",
       "      <th>4</th>\n",
       "      <td>1.603209e+09</td>\n",
       "      <td>[(0, 0.37023040652275085, 0.6054080724716187),...</td>\n",
       "      <td>3</td>\n",
       "      <td>36.158105</td>\n",
       "    </tr>\n",
       "  </tbody>\n",
       "</table>\n",
       "</div>"
      ],
      "text/plain": [
       "           time                                            kpoints  count  \\\n",
       "0  1.603209e+09  [(0, None, None), (1, None, None), (2, None, N...      1   \n",
       "1  1.603209e+09  [(0, None, None), (1, None, None), (2, None, N...      2   \n",
       "2  1.603209e+09  [(0, 0.37119027972221375, 0.5603485107421875),...      1   \n",
       "3  1.603209e+09  [(0, 0.3741444945335388, 0.6049302220344543), ...      2   \n",
       "4  1.603209e+09  [(0, 0.37023040652275085, 0.6054080724716187),...      3   \n",
       "\n",
       "         fps  \n",
       "0  16.305149  \n",
       "1  46.687935  \n",
       "2  23.833710  \n",
       "3  40.583493  \n",
       "4  36.158105  "
      ]
     },
     "execution_count": 33,
     "metadata": {},
     "output_type": "execute_result"
    }
   ],
   "source": [
    "data.head()"
   ]
  },
  {
   "cell_type": "markdown",
   "metadata": {},
   "source": [
    "Note: my code here sucks because I don't remember how to write Python --- definitely need to be optimized.\n",
    "\n",
    "To do:\n",
    "\n",
    "* [ ] Consider both x and y coordinates of each keypoint\n",
    "* [ ] Figure out how to use the right keypoints given a certain video/pose. I used a front-facing video but the right keypoints are probably different for a different angle and for a top-down view of a baby\n",
    "* [ ] Might want to look at the distance between 2 keypoints, like shoulder-to-ear or shoulder-to-hip"
   ]
  },
  {
   "cell_type": "code",
   "execution_count": null,
   "metadata": {},
   "outputs": [],
   "source": [
    "data.kpoints = data.kpoints.apply(lambda x: ast.literal_eval(x.strip(\"()\")))"
   ]
  },
  {
   "cell_type": "code",
   "execution_count": 90,
   "metadata": {},
   "outputs": [],
   "source": [
    "rshoulder = []\n",
    "\n",
    "for i in range(len(data.kpoints)):\n",
    "    rshoulder.append(data.kpoints[i][6][2])"
   ]
  },
  {
   "cell_type": "code",
   "execution_count": 78,
   "metadata": {},
   "outputs": [],
   "source": [
    "lshoulder = []\n",
    "\n",
    "for i in range(len(data.kpoints)):\n",
    "    lshoulder.append(data.kpoints[i][5][2])"
   ]
  },
  {
   "cell_type": "code",
   "execution_count": 100,
   "metadata": {},
   "outputs": [],
   "source": [
    "r_ear = []\n",
    "\n",
    "for i in range(len(data.kpoints)):\n",
    "    r_ear.append(data.kpoints[i][4][2])"
   ]
  },
  {
   "cell_type": "code",
   "execution_count": 117,
   "metadata": {},
   "outputs": [],
   "source": [
    "# data.time.values"
   ]
  },
  {
   "cell_type": "code",
   "execution_count": 119,
   "metadata": {},
   "outputs": [
    {
     "data": {
      "text/plain": [
       "Text(0.5, 1.0, 'L shoulder')"
      ]
     },
     "execution_count": 119,
     "metadata": {},
     "output_type": "execute_result"
    },
    {
     "data": {
      "image/png": "[encoded data removed]",
      "text/plain": [
       "<Figure size 432x288 with 1 Axes>"
      ]
     },
     "metadata": {
      "needs_background": "light"
     },
     "output_type": "display_data"
    }
   ],
   "source": [
    "plt.scatter(data.time.values, lshoulder)\n",
    "plt.xlim(data.time.values[10], data.time.values[300])\n",
    "plt.ylim(.755, .766)\n",
    "plt.title(\"L shoulder\")"
   ]
  },
  {
   "cell_type": "code",
   "execution_count": 113,
   "metadata": {},
   "outputs": [
    {
     "data": {
      "text/plain": [
       "Text(0.5, 1.0, 'R shoulder')"
      ]
     },
     "execution_count": 113,
     "metadata": {},
     "output_type": "execute_result"
    },
    {
     "data": {
      "image/png": "[encoded data removed]",
      "text/plain": [
       "<Figure size 432x288 with 1 Axes>"
      ]
     },
     "metadata": {
      "needs_background": "light"
     },
     "output_type": "display_data"
    }
   ],
   "source": [
    "plt.scatter(data.time.values, rshoulder)\n",
    "plt.xlim(data.time.values[10], data.time.values[300])\n",
    "plt.title(\"R shoulder\")\n",
    "# plt.ylim(.452, .4555)"
   ]
  },
  {
   "cell_type": "code",
   "execution_count": 114,
   "metadata": {},
   "outputs": [
    {
     "data": {
      "text/plain": [
       "Text(0.5, 1.0, 'R ear')"
      ]
     },
     "execution_count": 114,
     "metadata": {},
     "output_type": "execute_result"
    },
    {
     "data": {
      "image/png": "[encoded data removed]",
      "text/plain": [
       "<Figure size 432x288 with 1 Axes>"
      ]
     },
     "metadata": {
      "needs_background": "light"
     },
     "output_type": "display_data"
    }
   ],
   "source": [
    "plt.scatter(data.time.values, r_ear)\n",
    "plt.xlim(data.time.values[10], data.time.values[300])\n",
    "plt.ylim(.51, .52)\n",
    "plt.title(\"R ear\")"
   ]
  },
  {
   "cell_type": "code",
   "execution_count": null,
   "metadata": {},
   "outputs": [],
   "source": []
  }
 ],
 "metadata": {
  "kernelspec": {
   "display_name": "Python 3",
   "language": "python",
   "name": "python3"
  },
  "language_info": {
   "codemirror_mode": {
    "name": "ipython",
    "version": 3
   },
   "file_extension": ".py",
   "mimetype": "text/x-python",
   "name": "python",
   "nbconvert_exporter": "python",
   "pygments_lexer": "ipython3",
   "version": "3.6.9"
  }
 },
 "nbformat": 4,
 "nbformat_minor": 4
}
